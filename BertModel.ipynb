{
 "cells": [
  {
   "cell_type": "code",
   "execution_count": 2,
   "id": "05afb269-e09f-4a5d-b039-e834e6753373",
   "metadata": {},
   "outputs": [],
   "source": [
    "import tensorflow as tf\n",
    "import tensorflow_hub as hub\n",
    "import pandas as pd\n",
    "from sklearn.model_selection import train_test_split\n",
    "import numpy as np\n",
    "import re\n",
    "import unicodedata\n",
    "import nltk\n",
    "from nltk.corpus import stopwords\n",
    "import keras\n",
    "from tqdm import tqdm\n",
    "import pickle\n",
    "from keras.models import Model\n",
    "import keras.backend as K\n",
    "from sklearn.metrics import confusion_matrix,f1_score,classification_report\n",
    "import matplotlib.pyplot as plt\n",
    "from keras.callbacks import ModelCheckpoint\n",
    "import itertools\n",
    "from keras.models import load_model\n",
    "from sklearn.utils import shuffle\n",
    "from transformers import *\n",
    "from transformers import BertTokenizer, TFBertModel, BertConfig\n"
   ]
  },
  {
   "cell_type": "code",
   "execution_count": 3,
   "id": "22543f82-93f1-4c09-9cf3-7686733a0a52",
   "metadata": {},
   "outputs": [],
   "source": [
    "def unicode_to_ascii(s):\n",
    "    return ''.join(c for c in unicodedata.normalize('NFD', s) if unicodedata.category(c) != 'Mn')\n",
    "\n",
    "def clean_stopwords_shortwords(w):\n",
    "    stopwords_list=stopwords.words('english')\n",
    "    words = w.split() \n",
    "    clean_words = [word for word in words if (word not in stopwords_list) and len(word) > 2]\n",
    "    return \" \".join(clean_words) \n",
    "\n",
    "def preprocess_sentence(w):\n",
    "    w = unicode_to_ascii(w.lower().strip())\n",
    "    w = re.sub(r\"([?.!,¿])\", r\" \", w)\n",
    "    w = re.sub(r'[\" \"]+', \" \", w)\n",
    "    w = re.sub(r\"[^a-zA-Z?.!,¿]+\", \" \", w)\n",
    "    w=clean_stopwords_shortwords(w)\n",
    "    w=re.sub(r'@\\w+', '',w)\n",
    "    return w"
   ]
  },
  {
   "cell_type": "code",
   "execution_count": 4,
   "id": "008dce2f-2875-4ef5-a809-69587cec35b4",
   "metadata": {},
   "outputs": [
    {
     "data": {
      "text/html": [
       "<div>\n",
       "<style scoped>\n",
       "    .dataframe tbody tr th:only-of-type {\n",
       "        vertical-align: middle;\n",
       "    }\n",
       "\n",
       "    .dataframe tbody tr th {\n",
       "        vertical-align: top;\n",
       "    }\n",
       "\n",
       "    .dataframe thead th {\n",
       "        text-align: right;\n",
       "    }\n",
       "</style>\n",
       "<table border=\"1\" class=\"dataframe\">\n",
       "  <thead>\n",
       "    <tr style=\"text-align: right;\">\n",
       "      <th></th>\n",
       "      <th>Website</th>\n",
       "      <th>Body</th>\n",
       "      <th>Header</th>\n",
       "      <th>Footer</th>\n",
       "      <th>Image Urls</th>\n",
       "      <th>Accredited</th>\n",
       "      <th>Complete_html</th>\n",
       "      <th>Zipcode</th>\n",
       "      <th>Valid_phone</th>\n",
       "    </tr>\n",
       "  </thead>\n",
       "  <tbody>\n",
       "    <tr>\n",
       "      <th>0</th>\n",
       "      <td>https://acariahealth.envolvehealth.com</td>\n",
       "      <td>Skip to Main Content Home Contact Insights Sea...</td>\n",
       "      <td>Home Contact Insights Search Search About Over...</td>\n",
       "      <td>Locations Referral Forms Careers Disclaimer HI...</td>\n",
       "      <td>['https://acariahealth.envolvehealth.com/conte...</td>\n",
       "      <td>0</td>\n",
       "      <td>Skip to Main Content Home Contact Insights Sea...</td>\n",
       "      <td>0</td>\n",
       "      <td>1</td>\n",
       "    </tr>\n",
       "    <tr>\n",
       "      <th>1</th>\n",
       "      <td>https://alto.com</td>\n",
       "      <td>Shop Alto Essentials to add pharmacy products ...</td>\n",
       "      <td>Shop Alto Essentials to add pharmacy products ...</td>\n",
       "      <td>Our Story Careers Drive for Alto For Providers...</td>\n",
       "      <td>['https://images.prismic.io/alto/176341aa-258d...</td>\n",
       "      <td>0</td>\n",
       "      <td>Shop Alto Essentials to add pharmacy products ...</td>\n",
       "      <td>0</td>\n",
       "      <td>1</td>\n",
       "    </tr>\n",
       "    <tr>\n",
       "      <th>2</th>\n",
       "      <td>https://www.amberpharmacy.com</td>\n",
       "      <td>Loading... Skip to navigation Skip to main con...</td>\n",
       "      <td>NaN</td>\n",
       "      <td>About Careers 340B Hospital Program Locations ...</td>\n",
       "      <td>['https://www.amberpharmacy.com/wp-content/the...</td>\n",
       "      <td>0</td>\n",
       "      <td>NaN</td>\n",
       "      <td>0</td>\n",
       "      <td>0</td>\n",
       "    </tr>\n",
       "    <tr>\n",
       "      <th>3</th>\n",
       "      <td>https://www.aoncology.com</td>\n",
       "      <td>For Patients Careers Blog Practice Success Pat...</td>\n",
       "      <td>For Patients Careers Blog Practice Success Pat...</td>\n",
       "      <td>© 2020 American Oncology Network, LLC. All Rig...</td>\n",
       "      <td>['https://dc.ads.linkedin.com/collect/?pid=944...</td>\n",
       "      <td>0</td>\n",
       "      <td>For Patients Careers Blog Practice Success Pat...</td>\n",
       "      <td>1</td>\n",
       "      <td>0</td>\n",
       "    </tr>\n",
       "    <tr>\n",
       "      <th>4</th>\n",
       "      <td>https://www.birdirx.com</td>\n",
       "      <td>Loading... × Close alert Fly with Birdi!  Free...</td>\n",
       "      <td>NaN</td>\n",
       "      <td>Support Hours of Operation Monday through Frid...</td>\n",
       "      <td>[\"https://www.birdirx.comdata:image/svg+xml;ch...</td>\n",
       "      <td>0</td>\n",
       "      <td>NaN</td>\n",
       "      <td>0</td>\n",
       "      <td>0</td>\n",
       "    </tr>\n",
       "  </tbody>\n",
       "</table>\n",
       "</div>"
      ],
      "text/plain": [
       "                                  Website  \\\n",
       "0  https://acariahealth.envolvehealth.com   \n",
       "1                        https://alto.com   \n",
       "2           https://www.amberpharmacy.com   \n",
       "3               https://www.aoncology.com   \n",
       "4                 https://www.birdirx.com   \n",
       "\n",
       "                                                Body  \\\n",
       "0  Skip to Main Content Home Contact Insights Sea...   \n",
       "1  Shop Alto Essentials to add pharmacy products ...   \n",
       "2  Loading... Skip to navigation Skip to main con...   \n",
       "3  For Patients Careers Blog Practice Success Pat...   \n",
       "4  Loading... × Close alert Fly with Birdi!  Free...   \n",
       "\n",
       "                                              Header  \\\n",
       "0  Home Contact Insights Search Search About Over...   \n",
       "1  Shop Alto Essentials to add pharmacy products ...   \n",
       "2                                                NaN   \n",
       "3  For Patients Careers Blog Practice Success Pat...   \n",
       "4                                                NaN   \n",
       "\n",
       "                                              Footer  \\\n",
       "0  Locations Referral Forms Careers Disclaimer HI...   \n",
       "1  Our Story Careers Drive for Alto For Providers...   \n",
       "2  About Careers 340B Hospital Program Locations ...   \n",
       "3  © 2020 American Oncology Network, LLC. All Rig...   \n",
       "4  Support Hours of Operation Monday through Frid...   \n",
       "\n",
       "                                          Image Urls  Accredited  \\\n",
       "0  ['https://acariahealth.envolvehealth.com/conte...           0   \n",
       "1  ['https://images.prismic.io/alto/176341aa-258d...           0   \n",
       "2  ['https://www.amberpharmacy.com/wp-content/the...           0   \n",
       "3  ['https://dc.ads.linkedin.com/collect/?pid=944...           0   \n",
       "4  [\"https://www.birdirx.comdata:image/svg+xml;ch...           0   \n",
       "\n",
       "                                       Complete_html  Zipcode  Valid_phone  \n",
       "0  Skip to Main Content Home Contact Insights Sea...        0            1  \n",
       "1  Shop Alto Essentials to add pharmacy products ...        0            1  \n",
       "2                                                NaN        0            0  \n",
       "3  For Patients Careers Blog Practice Success Pat...        1            0  \n",
       "4                                                NaN        0            0  "
      ]
     },
     "execution_count": 4,
     "metadata": {},
     "output_type": "execute_result"
    }
   ],
   "source": [
    "#import data\n",
    "pharm_data = pd.read_csv('pharmacy_dataset_reduced.csv')\n",
    "data = pharm_data.copy()\n",
    "data.head()\n",
    "#len(data)"
   ]
  },
  {
   "cell_type": "markdown",
   "id": "5c094c2d-194a-4591-bfdb-5468d2393721",
   "metadata": {},
   "source": [
    "### Data Cleaning"
   ]
  },
  {
   "cell_type": "code",
   "execution_count": 5,
   "id": "cc47a51a-cd83-4a8d-b222-71f2d27972ab",
   "metadata": {},
   "outputs": [
    {
     "data": {
      "text/html": [
       "<div>\n",
       "<style scoped>\n",
       "    .dataframe tbody tr th:only-of-type {\n",
       "        vertical-align: middle;\n",
       "    }\n",
       "\n",
       "    .dataframe tbody tr th {\n",
       "        vertical-align: top;\n",
       "    }\n",
       "\n",
       "    .dataframe thead th {\n",
       "        text-align: right;\n",
       "    }\n",
       "</style>\n",
       "<table border=\"1\" class=\"dataframe\">\n",
       "  <thead>\n",
       "    <tr style=\"text-align: right;\">\n",
       "      <th></th>\n",
       "      <th>Website</th>\n",
       "      <th>Body</th>\n",
       "      <th>Header</th>\n",
       "      <th>Footer</th>\n",
       "      <th>Image Urls</th>\n",
       "      <th>Accredited</th>\n",
       "      <th>Complete_html</th>\n",
       "      <th>Zipcode</th>\n",
       "      <th>Valid_phone</th>\n",
       "      <th>text</th>\n",
       "    </tr>\n",
       "  </thead>\n",
       "  <tbody>\n",
       "    <tr>\n",
       "      <th>0</th>\n",
       "      <td>https://acariahealth.envolvehealth.com</td>\n",
       "      <td>Skip to Main Content Home Contact Insights Sea...</td>\n",
       "      <td>Home Contact Insights Search Search About Over...</td>\n",
       "      <td>Locations Referral Forms Careers Disclaimer HI...</td>\n",
       "      <td>['https://acariahealth.envolvehealth.com/conte...</td>\n",
       "      <td>0</td>\n",
       "      <td>Skip to Main Content Home Contact Insights Sea...</td>\n",
       "      <td>0</td>\n",
       "      <td>1</td>\n",
       "      <td>Skip to Main Content Home Contact Insights Sea...</td>\n",
       "    </tr>\n",
       "    <tr>\n",
       "      <th>1</th>\n",
       "      <td>https://alto.com</td>\n",
       "      <td>Shop Alto Essentials to add pharmacy products ...</td>\n",
       "      <td>Shop Alto Essentials to add pharmacy products ...</td>\n",
       "      <td>Our Story Careers Drive for Alto For Providers...</td>\n",
       "      <td>['https://images.prismic.io/alto/176341aa-258d...</td>\n",
       "      <td>0</td>\n",
       "      <td>Shop Alto Essentials to add pharmacy products ...</td>\n",
       "      <td>0</td>\n",
       "      <td>1</td>\n",
       "      <td>Shop Alto Essentials to add pharmacy products ...</td>\n",
       "    </tr>\n",
       "    <tr>\n",
       "      <th>2</th>\n",
       "      <td>https://www.amberpharmacy.com</td>\n",
       "      <td>Loading... Skip to navigation Skip to main con...</td>\n",
       "      <td>NaN</td>\n",
       "      <td>About Careers 340B Hospital Program Locations ...</td>\n",
       "      <td>['https://www.amberpharmacy.com/wp-content/the...</td>\n",
       "      <td>0</td>\n",
       "      <td>NaN</td>\n",
       "      <td>0</td>\n",
       "      <td>0</td>\n",
       "      <td>Loading... Skip to navigation Skip to main con...</td>\n",
       "    </tr>\n",
       "    <tr>\n",
       "      <th>3</th>\n",
       "      <td>https://www.aoncology.com</td>\n",
       "      <td>For Patients Careers Blog Practice Success Pat...</td>\n",
       "      <td>For Patients Careers Blog Practice Success Pat...</td>\n",
       "      <td>© 2020 American Oncology Network, LLC. All Rig...</td>\n",
       "      <td>['https://dc.ads.linkedin.com/collect/?pid=944...</td>\n",
       "      <td>0</td>\n",
       "      <td>For Patients Careers Blog Practice Success Pat...</td>\n",
       "      <td>1</td>\n",
       "      <td>0</td>\n",
       "      <td>For Patients Careers Blog Practice Success Pat...</td>\n",
       "    </tr>\n",
       "    <tr>\n",
       "      <th>4</th>\n",
       "      <td>https://www.birdirx.com</td>\n",
       "      <td>Loading... × Close alert Fly with Birdi!  Free...</td>\n",
       "      <td>NaN</td>\n",
       "      <td>Support Hours of Operation Monday through Frid...</td>\n",
       "      <td>[\"https://www.birdirx.comdata:image/svg+xml;ch...</td>\n",
       "      <td>0</td>\n",
       "      <td>NaN</td>\n",
       "      <td>0</td>\n",
       "      <td>0</td>\n",
       "      <td>Loading... × Close alert Fly with Birdi!  Free...</td>\n",
       "    </tr>\n",
       "  </tbody>\n",
       "</table>\n",
       "</div>"
      ],
      "text/plain": [
       "                                  Website  \\\n",
       "0  https://acariahealth.envolvehealth.com   \n",
       "1                        https://alto.com   \n",
       "2           https://www.amberpharmacy.com   \n",
       "3               https://www.aoncology.com   \n",
       "4                 https://www.birdirx.com   \n",
       "\n",
       "                                                Body  \\\n",
       "0  Skip to Main Content Home Contact Insights Sea...   \n",
       "1  Shop Alto Essentials to add pharmacy products ...   \n",
       "2  Loading... Skip to navigation Skip to main con...   \n",
       "3  For Patients Careers Blog Practice Success Pat...   \n",
       "4  Loading... × Close alert Fly with Birdi!  Free...   \n",
       "\n",
       "                                              Header  \\\n",
       "0  Home Contact Insights Search Search About Over...   \n",
       "1  Shop Alto Essentials to add pharmacy products ...   \n",
       "2                                                NaN   \n",
       "3  For Patients Careers Blog Practice Success Pat...   \n",
       "4                                                NaN   \n",
       "\n",
       "                                              Footer  \\\n",
       "0  Locations Referral Forms Careers Disclaimer HI...   \n",
       "1  Our Story Careers Drive for Alto For Providers...   \n",
       "2  About Careers 340B Hospital Program Locations ...   \n",
       "3  © 2020 American Oncology Network, LLC. All Rig...   \n",
       "4  Support Hours of Operation Monday through Frid...   \n",
       "\n",
       "                                          Image Urls  Accredited  \\\n",
       "0  ['https://acariahealth.envolvehealth.com/conte...           0   \n",
       "1  ['https://images.prismic.io/alto/176341aa-258d...           0   \n",
       "2  ['https://www.amberpharmacy.com/wp-content/the...           0   \n",
       "3  ['https://dc.ads.linkedin.com/collect/?pid=944...           0   \n",
       "4  [\"https://www.birdirx.comdata:image/svg+xml;ch...           0   \n",
       "\n",
       "                                       Complete_html  Zipcode  Valid_phone  \\\n",
       "0  Skip to Main Content Home Contact Insights Sea...        0            1   \n",
       "1  Shop Alto Essentials to add pharmacy products ...        0            1   \n",
       "2                                                NaN        0            0   \n",
       "3  For Patients Careers Blog Practice Success Pat...        1            0   \n",
       "4                                                NaN        0            0   \n",
       "\n",
       "                                                text  \n",
       "0  Skip to Main Content Home Contact Insights Sea...  \n",
       "1  Shop Alto Essentials to add pharmacy products ...  \n",
       "2  Loading... Skip to navigation Skip to main con...  \n",
       "3  For Patients Careers Blog Practice Success Pat...  \n",
       "4  Loading... × Close alert Fly with Birdi!  Free...  "
      ]
     },
     "execution_count": 5,
     "metadata": {},
     "output_type": "execute_result"
    }
   ],
   "source": [
    "#combine columns into new column containing all text\n",
    "data['text'] = data['Body'].astype(str) + data['Header'].astype(str) + data['Footer'].astype(str)\n",
    "data.head()"
   ]
  },
  {
   "cell_type": "code",
   "execution_count": 6,
   "id": "10b5f5cc-2fb6-4f48-b09a-406cd407c216",
   "metadata": {},
   "outputs": [
    {
     "data": {
      "text/html": [
       "<div>\n",
       "<style scoped>\n",
       "    .dataframe tbody tr th:only-of-type {\n",
       "        vertical-align: middle;\n",
       "    }\n",
       "\n",
       "    .dataframe tbody tr th {\n",
       "        vertical-align: top;\n",
       "    }\n",
       "\n",
       "    .dataframe thead th {\n",
       "        text-align: right;\n",
       "    }\n",
       "</style>\n",
       "<table border=\"1\" class=\"dataframe\">\n",
       "  <thead>\n",
       "    <tr style=\"text-align: right;\">\n",
       "      <th></th>\n",
       "      <th>Website</th>\n",
       "      <th>Body</th>\n",
       "      <th>Header</th>\n",
       "      <th>Footer</th>\n",
       "      <th>Image Urls</th>\n",
       "      <th>label</th>\n",
       "      <th>Complete_html</th>\n",
       "      <th>Zipcode</th>\n",
       "      <th>Valid_phone</th>\n",
       "      <th>text</th>\n",
       "    </tr>\n",
       "  </thead>\n",
       "  <tbody>\n",
       "    <tr>\n",
       "      <th>0</th>\n",
       "      <td>https://acariahealth.envolvehealth.com</td>\n",
       "      <td>Skip to Main Content Home Contact Insights Sea...</td>\n",
       "      <td>Home Contact Insights Search Search About Over...</td>\n",
       "      <td>Locations Referral Forms Careers Disclaimer HI...</td>\n",
       "      <td>['https://acariahealth.envolvehealth.com/conte...</td>\n",
       "      <td>0</td>\n",
       "      <td>Skip to Main Content Home Contact Insights Sea...</td>\n",
       "      <td>0</td>\n",
       "      <td>1</td>\n",
       "      <td>Skip to Main Content Home Contact Insights Sea...</td>\n",
       "    </tr>\n",
       "    <tr>\n",
       "      <th>1</th>\n",
       "      <td>https://alto.com</td>\n",
       "      <td>Shop Alto Essentials to add pharmacy products ...</td>\n",
       "      <td>Shop Alto Essentials to add pharmacy products ...</td>\n",
       "      <td>Our Story Careers Drive for Alto For Providers...</td>\n",
       "      <td>['https://images.prismic.io/alto/176341aa-258d...</td>\n",
       "      <td>0</td>\n",
       "      <td>Shop Alto Essentials to add pharmacy products ...</td>\n",
       "      <td>0</td>\n",
       "      <td>1</td>\n",
       "      <td>Shop Alto Essentials to add pharmacy products ...</td>\n",
       "    </tr>\n",
       "    <tr>\n",
       "      <th>2</th>\n",
       "      <td>https://www.amberpharmacy.com</td>\n",
       "      <td>Loading... Skip to navigation Skip to main con...</td>\n",
       "      <td>NaN</td>\n",
       "      <td>About Careers 340B Hospital Program Locations ...</td>\n",
       "      <td>['https://www.amberpharmacy.com/wp-content/the...</td>\n",
       "      <td>0</td>\n",
       "      <td>NaN</td>\n",
       "      <td>0</td>\n",
       "      <td>0</td>\n",
       "      <td>Loading... Skip to navigation Skip to main con...</td>\n",
       "    </tr>\n",
       "    <tr>\n",
       "      <th>3</th>\n",
       "      <td>https://www.aoncology.com</td>\n",
       "      <td>For Patients Careers Blog Practice Success Pat...</td>\n",
       "      <td>For Patients Careers Blog Practice Success Pat...</td>\n",
       "      <td>© 2020 American Oncology Network, LLC. All Rig...</td>\n",
       "      <td>['https://dc.ads.linkedin.com/collect/?pid=944...</td>\n",
       "      <td>0</td>\n",
       "      <td>For Patients Careers Blog Practice Success Pat...</td>\n",
       "      <td>1</td>\n",
       "      <td>0</td>\n",
       "      <td>For Patients Careers Blog Practice Success Pat...</td>\n",
       "    </tr>\n",
       "    <tr>\n",
       "      <th>4</th>\n",
       "      <td>https://www.birdirx.com</td>\n",
       "      <td>Loading... × Close alert Fly with Birdi!  Free...</td>\n",
       "      <td>NaN</td>\n",
       "      <td>Support Hours of Operation Monday through Frid...</td>\n",
       "      <td>[\"https://www.birdirx.comdata:image/svg+xml;ch...</td>\n",
       "      <td>0</td>\n",
       "      <td>NaN</td>\n",
       "      <td>0</td>\n",
       "      <td>0</td>\n",
       "      <td>Loading... × Close alert Fly with Birdi!  Free...</td>\n",
       "    </tr>\n",
       "  </tbody>\n",
       "</table>\n",
       "</div>"
      ],
      "text/plain": [
       "                                  Website  \\\n",
       "0  https://acariahealth.envolvehealth.com   \n",
       "1                        https://alto.com   \n",
       "2           https://www.amberpharmacy.com   \n",
       "3               https://www.aoncology.com   \n",
       "4                 https://www.birdirx.com   \n",
       "\n",
       "                                                Body  \\\n",
       "0  Skip to Main Content Home Contact Insights Sea...   \n",
       "1  Shop Alto Essentials to add pharmacy products ...   \n",
       "2  Loading... Skip to navigation Skip to main con...   \n",
       "3  For Patients Careers Blog Practice Success Pat...   \n",
       "4  Loading... × Close alert Fly with Birdi!  Free...   \n",
       "\n",
       "                                              Header  \\\n",
       "0  Home Contact Insights Search Search About Over...   \n",
       "1  Shop Alto Essentials to add pharmacy products ...   \n",
       "2                                                NaN   \n",
       "3  For Patients Careers Blog Practice Success Pat...   \n",
       "4                                                NaN   \n",
       "\n",
       "                                              Footer  \\\n",
       "0  Locations Referral Forms Careers Disclaimer HI...   \n",
       "1  Our Story Careers Drive for Alto For Providers...   \n",
       "2  About Careers 340B Hospital Program Locations ...   \n",
       "3  © 2020 American Oncology Network, LLC. All Rig...   \n",
       "4  Support Hours of Operation Monday through Frid...   \n",
       "\n",
       "                                          Image Urls  label  \\\n",
       "0  ['https://acariahealth.envolvehealth.com/conte...      0   \n",
       "1  ['https://images.prismic.io/alto/176341aa-258d...      0   \n",
       "2  ['https://www.amberpharmacy.com/wp-content/the...      0   \n",
       "3  ['https://dc.ads.linkedin.com/collect/?pid=944...      0   \n",
       "4  [\"https://www.birdirx.comdata:image/svg+xml;ch...      0   \n",
       "\n",
       "                                       Complete_html  Zipcode  Valid_phone  \\\n",
       "0  Skip to Main Content Home Contact Insights Sea...        0            1   \n",
       "1  Shop Alto Essentials to add pharmacy products ...        0            1   \n",
       "2                                                NaN        0            0   \n",
       "3  For Patients Careers Blog Practice Success Pat...        1            0   \n",
       "4                                                NaN        0            0   \n",
       "\n",
       "                                                text  \n",
       "0  Skip to Main Content Home Contact Insights Sea...  \n",
       "1  Shop Alto Essentials to add pharmacy products ...  \n",
       "2  Loading... Skip to navigation Skip to main con...  \n",
       "3  For Patients Careers Blog Practice Success Pat...  \n",
       "4  Loading... × Close alert Fly with Birdi!  Free...  "
      ]
     },
     "execution_count": 6,
     "metadata": {},
     "output_type": "execute_result"
    }
   ],
   "source": [
    "#rename Accredited as 'label'\n",
    "data=data.rename(columns = {'Accredited': 'label'}, inplace = False)\n",
    "data.head()"
   ]
  },
  {
   "cell_type": "code",
   "execution_count": 7,
   "id": "93519eac-3494-4153-9ad9-1ad5e879955e",
   "metadata": {},
   "outputs": [],
   "source": [
    "#reduce dataset to only the columns we need, 'label' and 'text'\n",
    "data = data.drop(['Website', 'Body', 'Header', 'Footer', 'Image Urls', 'Complete_html', 'Zipcode', 'Valid_phone'], axis=1)"
   ]
  },
  {
   "cell_type": "code",
   "execution_count": 8,
   "id": "efecc13b-f91b-4740-b1aa-f7464fdfce7d",
   "metadata": {},
   "outputs": [
    {
     "data": {
      "text/html": [
       "<div>\n",
       "<style scoped>\n",
       "    .dataframe tbody tr th:only-of-type {\n",
       "        vertical-align: middle;\n",
       "    }\n",
       "\n",
       "    .dataframe tbody tr th {\n",
       "        vertical-align: top;\n",
       "    }\n",
       "\n",
       "    .dataframe thead th {\n",
       "        text-align: right;\n",
       "    }\n",
       "</style>\n",
       "<table border=\"1\" class=\"dataframe\">\n",
       "  <thead>\n",
       "    <tr style=\"text-align: right;\">\n",
       "      <th></th>\n",
       "      <th>label</th>\n",
       "      <th>text</th>\n",
       "    </tr>\n",
       "  </thead>\n",
       "  <tbody>\n",
       "    <tr>\n",
       "      <th>0</th>\n",
       "      <td>0</td>\n",
       "      <td>Skip to Main Content Home Contact Insights Sea...</td>\n",
       "    </tr>\n",
       "    <tr>\n",
       "      <th>1</th>\n",
       "      <td>0</td>\n",
       "      <td>Shop Alto Essentials to add pharmacy products ...</td>\n",
       "    </tr>\n",
       "    <tr>\n",
       "      <th>2</th>\n",
       "      <td>0</td>\n",
       "      <td>Loading... Skip to navigation Skip to main con...</td>\n",
       "    </tr>\n",
       "    <tr>\n",
       "      <th>3</th>\n",
       "      <td>0</td>\n",
       "      <td>For Patients Careers Blog Practice Success Pat...</td>\n",
       "    </tr>\n",
       "    <tr>\n",
       "      <th>4</th>\n",
       "      <td>0</td>\n",
       "      <td>Loading... × Close alert Fly with Birdi!  Free...</td>\n",
       "    </tr>\n",
       "  </tbody>\n",
       "</table>\n",
       "</div>"
      ],
      "text/plain": [
       "   label                                               text\n",
       "0      0  Skip to Main Content Home Contact Insights Sea...\n",
       "1      0  Shop Alto Essentials to add pharmacy products ...\n",
       "2      0  Loading... Skip to navigation Skip to main con...\n",
       "3      0  For Patients Careers Blog Practice Success Pat...\n",
       "4      0  Loading... × Close alert Fly with Birdi!  Free..."
      ]
     },
     "execution_count": 8,
     "metadata": {},
     "output_type": "execute_result"
    }
   ],
   "source": [
    "#Sentences contain the entire text data and labels contain all the corresponding labels\n",
    "data.head()"
   ]
  },
  {
   "cell_type": "code",
   "execution_count": 9,
   "id": "fd28ceef-b59f-42e3-8916-7a801c2678e9",
   "metadata": {},
   "outputs": [
    {
     "data": {
      "text/plain": [
       "72"
      ]
     },
     "execution_count": 9,
     "metadata": {},
     "output_type": "execute_result"
    }
   ],
   "source": [
    "len(data)"
   ]
  },
  {
   "cell_type": "code",
   "execution_count": 10,
   "id": "2a240fed-cbb2-4f47-9e84-bf551361ff8c",
   "metadata": {},
   "outputs": [],
   "source": [
    "#drop any missing values\n",
    "data = data.dropna()"
   ]
  },
  {
   "cell_type": "code",
   "execution_count": 11,
   "id": "73041837-9302-4e21-a3d3-2186b10c5209",
   "metadata": {},
   "outputs": [
    {
     "data": {
      "text/plain": [
       "72"
      ]
     },
     "execution_count": 11,
     "metadata": {},
     "output_type": "execute_result"
    }
   ],
   "source": [
    "len(data)"
   ]
  },
  {
   "cell_type": "code",
   "execution_count": 12,
   "id": "27885565-9d0e-4936-a7a5-8e9515f32d72",
   "metadata": {},
   "outputs": [
    {
     "data": {
      "text/html": [
       "<div>\n",
       "<style scoped>\n",
       "    .dataframe tbody tr th:only-of-type {\n",
       "        vertical-align: middle;\n",
       "    }\n",
       "\n",
       "    .dataframe tbody tr th {\n",
       "        vertical-align: top;\n",
       "    }\n",
       "\n",
       "    .dataframe thead th {\n",
       "        text-align: right;\n",
       "    }\n",
       "</style>\n",
       "<table border=\"1\" class=\"dataframe\">\n",
       "  <thead>\n",
       "    <tr style=\"text-align: right;\">\n",
       "      <th></th>\n",
       "      <th>label</th>\n",
       "      <th>text</th>\n",
       "    </tr>\n",
       "  </thead>\n",
       "  <tbody>\n",
       "    <tr>\n",
       "      <th>8</th>\n",
       "      <td>0</td>\n",
       "      <td>Atrium Health | CarolinaCARE Welcome to Caroli...</td>\n",
       "    </tr>\n",
       "    <tr>\n",
       "      <th>38</th>\n",
       "      <td>1</td>\n",
       "      <td>Hello, Guest Blog Reviews Payment Methods Freq...</td>\n",
       "    </tr>\n",
       "    <tr>\n",
       "      <th>7</th>\n",
       "      <td>0</td>\n",
       "      <td>Skip to main content Skip to footer content Mo...</td>\n",
       "    </tr>\n",
       "    <tr>\n",
       "      <th>19</th>\n",
       "      <td>0</td>\n",
       "      <td>[email protected] 1-866-422-4866 ORDER REFILLS...</td>\n",
       "    </tr>\n",
       "    <tr>\n",
       "      <th>53</th>\n",
       "      <td>1</td>\n",
       "      <td>Welcome to buy-online-antibiotics.com To chang...</td>\n",
       "    </tr>\n",
       "  </tbody>\n",
       "</table>\n",
       "</div>"
      ],
      "text/plain": [
       "    label                                               text\n",
       "8       0  Atrium Health | CarolinaCARE Welcome to Caroli...\n",
       "38      1  Hello, Guest Blog Reviews Payment Methods Freq...\n",
       "7       0  Skip to main content Skip to footer content Mo...\n",
       "19      0  [email protected] 1-866-422-4866 ORDER REFILLS...\n",
       "53      1  Welcome to buy-online-antibiotics.com To chang..."
      ]
     },
     "execution_count": 12,
     "metadata": {},
     "output_type": "execute_result"
    }
   ],
   "source": [
    "#reset index\n",
    "data=data.reset_index(drop=True) \n",
    "#shuffle data\n",
    "data = shuffle(data)   \n",
    "data.head()"
   ]
  },
  {
   "cell_type": "code",
   "execution_count": 13,
   "id": "ded76d61-0c03-48a1-8524-81830b9a497e",
   "metadata": {},
   "outputs": [
    {
     "data": {
      "text/html": [
       "<div>\n",
       "<style scoped>\n",
       "    .dataframe tbody tr th:only-of-type {\n",
       "        vertical-align: middle;\n",
       "    }\n",
       "\n",
       "    .dataframe tbody tr th {\n",
       "        vertical-align: top;\n",
       "    }\n",
       "\n",
       "    .dataframe thead th {\n",
       "        text-align: right;\n",
       "    }\n",
       "</style>\n",
       "<table border=\"1\" class=\"dataframe\">\n",
       "  <thead>\n",
       "    <tr style=\"text-align: right;\">\n",
       "      <th></th>\n",
       "      <th>label</th>\n",
       "      <th>text</th>\n",
       "    </tr>\n",
       "  </thead>\n",
       "  <tbody>\n",
       "    <tr>\n",
       "      <th>8</th>\n",
       "      <td>0</td>\n",
       "      <td>atrium health carolinacare welcome carolinacar...</td>\n",
       "    </tr>\n",
       "    <tr>\n",
       "      <th>38</th>\n",
       "      <td>1</td>\n",
       "      <td>hello guest blog reviews payment methods frequ...</td>\n",
       "    </tr>\n",
       "    <tr>\n",
       "      <th>7</th>\n",
       "      <td>0</td>\n",
       "      <td>skip main content skip footer content humana p...</td>\n",
       "    </tr>\n",
       "    <tr>\n",
       "      <th>19</th>\n",
       "      <td>0</td>\n",
       "      <td>email protected order refills customer login c...</td>\n",
       "    </tr>\n",
       "    <tr>\n",
       "      <th>53</th>\n",
       "      <td>1</td>\n",
       "      <td>welcome buy online antibiotics com change page...</td>\n",
       "    </tr>\n",
       "  </tbody>\n",
       "</table>\n",
       "</div>"
      ],
      "text/plain": [
       "    label                                               text\n",
       "8       0  atrium health carolinacare welcome carolinacar...\n",
       "38      1  hello guest blog reviews payment methods frequ...\n",
       "7       0  skip main content skip footer content humana p...\n",
       "19      0  email protected order refills customer login c...\n",
       "53      1  welcome buy online antibiotics com change page..."
      ]
     },
     "execution_count": 13,
     "metadata": {},
     "output_type": "execute_result"
    }
   ],
   "source": [
    "#apply the function to clean the text - all lower case, strip spaces and characters \n",
    "data['text']=data['text'].map(preprocess_sentence)    \n",
    "data.head()"
   ]
  },
  {
   "cell_type": "markdown",
   "id": "c07650f9-8c6e-41d4-a4c7-3408eb0f0490",
   "metadata": {},
   "source": [
    "### Setting up a pre-trained BERT model for fine-tuning\n",
    "#### Load BERT tokenizer and BERT model"
   ]
  },
  {
   "cell_type": "code",
   "execution_count": 14,
   "id": "f0507bc8-4157-4df2-8d35-b718c96affed",
   "metadata": {},
   "outputs": [
    {
     "data": {
      "text/plain": [
       "2"
      ]
     },
     "execution_count": 14,
     "metadata": {},
     "output_type": "execute_result"
    }
   ],
   "source": [
    "#define the number of unique classes under 'label'\n",
    "num_classes=len(data.label.unique())\n",
    "num_classes"
   ]
  },
  {
   "cell_type": "code",
   "execution_count": 15,
   "id": "e09838dc-f242-4eb9-a891-ea70ff6c596d",
   "metadata": {},
   "outputs": [
    {
     "name": "stderr",
     "output_type": "stream",
     "text": [
      "loading file vocab.txt from cache at C:\\Users\\haley/.cache\\huggingface\\hub\\models--bert-base-uncased\\snapshots\\5546055f03398095e385d7dc625e636cc8910bf2\\vocab.txt\n",
      "loading file added_tokens.json from cache at None\n",
      "loading file special_tokens_map.json from cache at None\n",
      "loading file tokenizer_config.json from cache at C:\\Users\\haley/.cache\\huggingface\\hub\\models--bert-base-uncased\\snapshots\\5546055f03398095e385d7dc625e636cc8910bf2\\tokenizer_config.json\n",
      "loading configuration file config.json from cache at C:\\Users\\haley/.cache\\huggingface\\hub\\models--bert-base-uncased\\snapshots\\5546055f03398095e385d7dc625e636cc8910bf2\\config.json\n",
      "Model config BertConfig {\n",
      "  \"_name_or_path\": \"bert-base-uncased\",\n",
      "  \"architectures\": [\n",
      "    \"BertForMaskedLM\"\n",
      "  ],\n",
      "  \"attention_probs_dropout_prob\": 0.1,\n",
      "  \"classifier_dropout\": null,\n",
      "  \"gradient_checkpointing\": false,\n",
      "  \"hidden_act\": \"gelu\",\n",
      "  \"hidden_dropout_prob\": 0.1,\n",
      "  \"hidden_size\": 768,\n",
      "  \"initializer_range\": 0.02,\n",
      "  \"intermediate_size\": 3072,\n",
      "  \"layer_norm_eps\": 1e-12,\n",
      "  \"max_position_embeddings\": 512,\n",
      "  \"model_type\": \"bert\",\n",
      "  \"num_attention_heads\": 12,\n",
      "  \"num_hidden_layers\": 12,\n",
      "  \"pad_token_id\": 0,\n",
      "  \"position_embedding_type\": \"absolute\",\n",
      "  \"transformers_version\": \"4.24.0\",\n",
      "  \"type_vocab_size\": 2,\n",
      "  \"use_cache\": true,\n",
      "  \"vocab_size\": 30522\n",
      "}\n",
      "\n",
      "loading configuration file config.json from cache at C:\\Users\\haley/.cache\\huggingface\\hub\\models--bert-base-uncased\\snapshots\\5546055f03398095e385d7dc625e636cc8910bf2\\config.json\n",
      "Model config BertConfig {\n",
      "  \"architectures\": [\n",
      "    \"BertForMaskedLM\"\n",
      "  ],\n",
      "  \"attention_probs_dropout_prob\": 0.1,\n",
      "  \"classifier_dropout\": null,\n",
      "  \"gradient_checkpointing\": false,\n",
      "  \"hidden_act\": \"gelu\",\n",
      "  \"hidden_dropout_prob\": 0.1,\n",
      "  \"hidden_size\": 768,\n",
      "  \"initializer_range\": 0.02,\n",
      "  \"intermediate_size\": 3072,\n",
      "  \"layer_norm_eps\": 1e-12,\n",
      "  \"max_position_embeddings\": 512,\n",
      "  \"model_type\": \"bert\",\n",
      "  \"num_attention_heads\": 12,\n",
      "  \"num_hidden_layers\": 12,\n",
      "  \"pad_token_id\": 0,\n",
      "  \"position_embedding_type\": \"absolute\",\n",
      "  \"transformers_version\": \"4.24.0\",\n",
      "  \"type_vocab_size\": 2,\n",
      "  \"use_cache\": true,\n",
      "  \"vocab_size\": 30522\n",
      "}\n",
      "\n",
      "loading weights file tf_model.h5 from cache at C:\\Users\\haley/.cache\\huggingface\\hub\\models--bert-base-uncased\\snapshots\\5546055f03398095e385d7dc625e636cc8910bf2\\tf_model.h5\n",
      "All model checkpoint layers were used when initializing TFBertForSequenceClassification.\n",
      "\n",
      "Some layers of TFBertForSequenceClassification were not initialized from the model checkpoint at bert-base-uncased and are newly initialized: ['classifier']\n",
      "You should probably TRAIN this model on a down-stream task to be able to use it for predictions and inference.\n"
     ]
    }
   ],
   "source": [
    "bert_tokenizer = BertTokenizer.from_pretrained(\"bert-base-uncased\")\n",
    "bert_model = TFBertForSequenceClassification.from_pretrained('bert-base-uncased', \n",
    "                                                             num_labels=num_classes)"
   ]
  },
  {
   "cell_type": "code",
   "execution_count": 16,
   "id": "78454b33-76e7-4044-8fd4-5cfd8e328172",
   "metadata": {},
   "outputs": [
    {
     "name": "stderr",
     "output_type": "stream",
     "text": [
      "C:\\Users\\haley\\anaconda3\\lib\\site-packages\\transformers\\tokenization_utils_base.py:2304: FutureWarning: The `pad_to_max_length` argument is deprecated and will be removed in a future version, use `padding=True` or `padding='longest'` to pad to the longest sequence in the batch, or use `padding='max_length'` to pad to a max length. In this case, you can give a specific length with `max_length` (e.g. `max_length=45`) or leave max_length to None to pad to the maximal input size of the model (e.g. 512 for Bert).\n",
      "  warnings.warn(\n"
     ]
    }
   ],
   "source": [
    "test_sent = \"this is a test for our model.\"\n",
    "tokenized_sequence= bert_tokenizer.encode_plus(test_sent,\n",
    "                                               add_special_tokens = True, \n",
    "                                               pad_to_max_length = True, \n",
    "                                               return_attention_mask = True)"
   ]
  },
  {
   "cell_type": "code",
   "execution_count": 17,
   "id": "2a1d2657-e9ab-4432-8720-b9415d43dca4",
   "metadata": {},
   "outputs": [
    {
     "data": {
      "text/plain": [
       "{'input_ids': [101, 2023, 2003, 1037, 3231, 2005, 2256, 2944, 1012, 102], 'token_type_ids': [0, 0, 0, 0, 0, 0, 0, 0, 0, 0], 'attention_mask': [1, 1, 1, 1, 1, 1, 1, 1, 1, 1]}"
      ]
     },
     "execution_count": 17,
     "metadata": {},
     "output_type": "execute_result"
    }
   ],
   "source": [
    "#tokenizer returns a dictionary with all the arguments necessary for its corresponding model to work properly\n",
    "tokenized_sequence"
   ]
  },
  {
   "cell_type": "code",
   "execution_count": 18,
   "id": "217f0359-a403-4c90-80ec-6df5c7a5b57a",
   "metadata": {},
   "outputs": [
    {
     "data": {
      "text/plain": [
       "'[CLS] this is a test for our model. [SEP]'"
      ]
     },
     "execution_count": 18,
     "metadata": {},
     "output_type": "execute_result"
    }
   ],
   "source": [
    "#Decode sentence\n",
    "bert_tokenizer.decode(tokenized_sequence['input_ids'])"
   ]
  },
  {
   "cell_type": "code",
   "execution_count": 19,
   "id": "34afdbd2-b24b-4e88-a6f1-9c102bb1dbe9",
   "metadata": {},
   "outputs": [
    {
     "data": {
      "text/plain": [
       "(72, 72)"
      ]
     },
     "execution_count": 19,
     "metadata": {},
     "output_type": "execute_result"
    }
   ],
   "source": [
    "#turn text and label column into variabels for tokenizer \n",
    "text = data['text']\n",
    "labels = data['label']\n",
    "len(text), len(labels) #make sure len is the same"
   ]
  },
  {
   "cell_type": "code",
   "execution_count": 20,
   "id": "ada9e269-6b15-498a-aea9-54501b07aeb9",
   "metadata": {},
   "outputs": [
    {
     "data": {
      "text/plain": [
       "dtype('int64')"
      ]
     },
     "execution_count": 20,
     "metadata": {},
     "output_type": "execute_result"
    }
   ],
   "source": [
    "labels.dtype"
   ]
  },
  {
   "cell_type": "code",
   "execution_count": 21,
   "id": "d078bb4d-71c5-4bfa-bbab-38c7146eb3a3",
   "metadata": {},
   "outputs": [
    {
     "data": {
      "text/plain": [
       "dtype('O')"
      ]
     },
     "execution_count": 21,
     "metadata": {},
     "output_type": "execute_result"
    }
   ],
   "source": [
    "text.dtype"
   ]
  },
  {
   "cell_type": "code",
   "execution_count": 22,
   "id": "a4cf3b90-6ab9-47ab-a822-db8d59c4d09a",
   "metadata": {},
   "outputs": [],
   "source": [
    "text = text.astype(str)"
   ]
  },
  {
   "cell_type": "code",
   "execution_count": 23,
   "id": "ad76f1e8-d281-4b90-8bb6-17219c5900f9",
   "metadata": {},
   "outputs": [
    {
     "data": {
      "text/plain": [
       "8     atrium health carolinacare welcome carolinacar...\n",
       "38    hello guest blog reviews payment methods frequ...\n",
       "7     skip main content skip footer content humana p...\n",
       "19    email protected order refills customer login c...\n",
       "53    welcome buy online antibiotics com change page...\n",
       "Name: text, dtype: object"
      ]
     },
     "execution_count": 23,
     "metadata": {},
     "output_type": "execute_result"
    }
   ],
   "source": [
    "text.head()"
   ]
  },
  {
   "cell_type": "markdown",
   "id": "a21f2972-2d9d-4158-b0dc-e54cd26e7003",
   "metadata": {},
   "source": [
    "#### Encoding of the text data using BERT Tokenizer and obtaining the input_ids and attentions masks to feed into the model"
   ]
  },
  {
   "cell_type": "code",
   "execution_count": 24,
   "id": "91993306-f2f0-4bc9-bbc8-063e3ba62fd4",
   "metadata": {},
   "outputs": [
    {
     "data": {
      "text/plain": [
       "\"\\ninput_ids = []\\nattention_masks = []\\n\\nfor sent in text:\\n    #print(sent)\\n    bert_inp = bert_tokenizer.encode_plus(sent, return_attention_mask = True)\\n    #print(bert_inp)\\n    input_ids.append(bert_inp['input_ids'])\\n    attention_masks.append(bert_inp['attention_mask'])\\n    #break\\n#input_ids.astype('object')\\ninput_ids = np.array(input_ids, dtype=object)\\nattention_masks = np.array(attention_masks, dtype=object)\\nlabels = np.array(labels)\\n\""
      ]
     },
     "execution_count": 24,
     "metadata": {},
     "output_type": "execute_result"
    }
   ],
   "source": [
    "#Load the sentences into the BERT Tokenizer\n",
    "#BERT Tokenizer returns a dictionary - get input ds and the attention masks\n",
    "#Convert encoding to NumPy arrays\n",
    "'''\n",
    "input_ids = []\n",
    "attention_masks = []\n",
    "\n",
    "for sent in text:\n",
    "    #print(sent)\n",
    "    bert_inp = bert_tokenizer.encode_plus(sent, return_attention_mask = True)\n",
    "    #print(bert_inp)\n",
    "    input_ids.append(bert_inp['input_ids'])\n",
    "    attention_masks.append(bert_inp['attention_mask'])\n",
    "    #break\n",
    "#input_ids.astype('object')\n",
    "input_ids = np.array(input_ids, dtype=object)\n",
    "attention_masks = np.array(attention_masks, dtype=object)\n",
    "labels = np.array(labels)\n",
    "'''"
   ]
  },
  {
   "cell_type": "code",
   "execution_count": 25,
   "id": "49bae8ef-e0c3-4636-86d1-2ba9b87784c0",
   "metadata": {},
   "outputs": [
    {
     "ename": "NameError",
     "evalue": "name 'input_ids' is not defined",
     "output_type": "error",
     "traceback": [
      "\u001b[1;31m---------------------------------------------------------------------------\u001b[0m",
      "\u001b[1;31mNameError\u001b[0m                                 Traceback (most recent call last)",
      "Input \u001b[1;32mIn [25]\u001b[0m, in \u001b[0;36m<cell line: 1>\u001b[1;34m()\u001b[0m\n\u001b[1;32m----> 1\u001b[0m \u001b[43minput_ids\u001b[49m\u001b[38;5;241m.\u001b[39mdtype\n",
      "\u001b[1;31mNameError\u001b[0m: name 'input_ids' is not defined"
     ]
    }
   ],
   "source": [
    "input_ids.dtype"
   ]
  },
  {
   "cell_type": "code",
   "execution_count": null,
   "id": "34046a95-7755-4f62-b1fb-3c86e0a2c5fa",
   "metadata": {},
   "outputs": [],
   "source": [
    "len(input_ids), len(attention_masks), len(labels) #make sure they're all the same length"
   ]
  },
  {
   "cell_type": "markdown",
   "id": "da6c390e-99b4-4b1f-a1b7-1b5102870e21",
   "metadata": {},
   "source": [
    "### Split Data - Training & Validation\n",
    "- (80-20 split)"
   ]
  },
  {
   "cell_type": "code",
   "execution_count": null,
   "id": "6949c7c2-a81a-4d4f-9ddd-218305924ade",
   "metadata": {},
   "outputs": [],
   "source": [
    "#Split into the random train and validation subsets\n",
    "'''\n",
    "train_inp, val_inp, train_label, val_label, train_mask, val_mask = train_test_split(input_ids,\n",
    "                                                                                    labels,\n",
    "                                                                                    attention_masks,\n",
    "                                                                                    test_size=0.2)\n",
    "\n",
    "len(train_inp), len(val_inp), len(train_label), len(val_label), len(train_mask), len(val_mask)'''"
   ]
  },
  {
   "cell_type": "code",
   "execution_count": null,
   "id": "c5a82189-deca-4ce5-aa0a-8fd75fe5ba2a",
   "metadata": {},
   "outputs": [],
   "source": [
    "#X = data['text']\n",
    "#y = data['label']"
   ]
  },
  {
   "cell_type": "code",
   "execution_count": null,
   "id": "ad3d3fd2-26f6-4bfb-b90b-4b2af7dbb509",
   "metadata": {},
   "outputs": [],
   "source": [
    "#Split into the random train and validation subsets\n",
    "#X_train, X_val, y_train, y_val = train_test_split(X, y, test_size=0.2, random_state=42)\n",
    "#len(X_train), len(X_val), len(y_train), len(y_val)"
   ]
  },
  {
   "cell_type": "code",
   "execution_count": null,
   "id": "67bd6c40-d6cf-4452-939b-02067afe7ba9",
   "metadata": {},
   "outputs": [],
   "source": [
    "y = tf.keras.utils.to_categorical(data[\"label\"].values, num_classes=num_classes)\n",
    "#y"
   ]
  },
  {
   "cell_type": "code",
   "execution_count": null,
   "id": "68af60d7-cd93-4692-b9ab-bcc7ef0d6dab",
   "metadata": {},
   "outputs": [],
   "source": [
    "x_train, x_test, y_train, y_test = train_test_split(data['text'], y, test_size=0.25)"
   ]
  },
  {
   "cell_type": "code",
   "execution_count": null,
   "id": "a45463ea-7f20-48c7-b796-0b440a474e55",
   "metadata": {},
   "outputs": [],
   "source": [
    "len(x_train), len(x_test), len(y_train), len(y_test)"
   ]
  },
  {
   "cell_type": "code",
   "execution_count": null,
   "id": "a9e10cc4-b9ca-4b71-904d-84746da4e7ce",
   "metadata": {},
   "outputs": [],
   "source": [
    "#train_dataset = glue_convert_examples_to_features(data['text'], bert_tokenizer, max_length=128, task='mrpc')"
   ]
  },
  {
   "cell_type": "code",
   "execution_count": 26,
   "id": "4794f1f1-d3b3-4149-8895-2b95f60a0a25",
   "metadata": {},
   "outputs": [
    {
     "ename": "ModuleNotFoundError",
     "evalue": "No module named 'tensorflow_text'",
     "output_type": "error",
     "traceback": [
      "\u001b[1;31m---------------------------------------------------------------------------\u001b[0m",
      "\u001b[1;31mModuleNotFoundError\u001b[0m                       Traceback (most recent call last)",
      "Input \u001b[1;32mIn [26]\u001b[0m, in \u001b[0;36m<cell line: 2>\u001b[1;34m()\u001b[0m\n\u001b[0;32m      1\u001b[0m \u001b[38;5;28;01mimport\u001b[39;00m \u001b[38;5;21;01mtensorflow_hub\u001b[39;00m \u001b[38;5;28;01mas\u001b[39;00m \u001b[38;5;21;01mhub\u001b[39;00m\n\u001b[1;32m----> 2\u001b[0m \u001b[38;5;28;01mimport\u001b[39;00m \u001b[38;5;21;01mtensorflow_text\u001b[39;00m \u001b[38;5;28;01mas\u001b[39;00m \u001b[38;5;21;01mtext\u001b[39;00m\n\u001b[0;32m      4\u001b[0m preprocessor \u001b[38;5;241m=\u001b[39m hub\u001b[38;5;241m.\u001b[39mKerasLayer(\u001b[38;5;124m\"\u001b[39m\u001b[38;5;124mhttps://tfhub.dev/google/universal-sentence-encoder-cmlm/multilingual-preprocess/2\u001b[39m\u001b[38;5;124m\"\u001b[39m)\n\u001b[0;32m      5\u001b[0m encoder \u001b[38;5;241m=\u001b[39m hub\u001b[38;5;241m.\u001b[39mKerasLayer(\u001b[38;5;124m\"\u001b[39m\u001b[38;5;124mhttps://tfhub.dev/google/universal-sentence-encoder-cmlm/multilingual-base/1\u001b[39m\u001b[38;5;124m\"\u001b[39m)\n",
      "\u001b[1;31mModuleNotFoundError\u001b[0m: No module named 'tensorflow_text'"
     ]
    }
   ],
   "source": [
    "import tensorflow_hub as hub\n",
    "import tensorflow_text as text\n",
    "\n",
    "preprocessor = hub.KerasLayer(\"https://tfhub.dev/google/universal-sentence-encoder-cmlm/multilingual-preprocess/2\")\n",
    "encoder = hub.KerasLayer(\"https://tfhub.dev/google/universal-sentence-encoder-cmlm/multilingual-base/1\")\n",
    "\n",
    "\n",
    "def get_embeddings(sentences):\n",
    "  '''return BERT-like embeddings of input text\n",
    "  Args:\n",
    "    - sentences: list of strings\n",
    "  Output:\n",
    "    - BERT-like embeddings: tf.Tensor of shape=(len(sentences), 768)\n",
    "  '''\n",
    "  preprocessed_text = preprocessor(sentences)\n",
    "  return encoder(preprocessed_text)['pooled_output']\n",
    "\n",
    "\n",
    "get_embeddings([\n",
    "    \"Questa collezione di Haiku è una porta aperta sulla cultura giapponese.\"]\n",
    ")"
   ]
  },
  {
   "cell_type": "markdown",
   "id": "90705f4b-d50a-4389-a38e-7512fee0af95",
   "metadata": {},
   "source": [
    "### Loss, Metric, Optmizer"
   ]
  },
  {
   "cell_type": "code",
   "execution_count": null,
   "id": "1c56e6d7-e815-487e-bd0f-2317be88402e",
   "metadata": {},
   "outputs": [],
   "source": [
    "#a 'callback' can perform actions at various stages of training - write logs, save model to disk\n",
    "    #early stopping, view of internal state/stats during training\n",
    "'''\n",
    "log_dir='tensorboard_data/tb_bert'\n",
    "model_save_path='./models/bert_model.h5'\n",
    "\n",
    "callbacks = [tf.keras.callbacks.ModelCheckpoint(filepath=model_save_path,\n",
    "                                                save_weights_only=True,\n",
    "                                                monitor='val_loss',\n",
    "                                                mode='min',\n",
    "                                                save_best_only=True),\n",
    "             keras.callbacks.TensorBoard(log_dir=log_dir)]\n",
    "\n",
    "print('\\nBert Model', bert_model.summary())\n",
    "'''\n",
    "loss = tf.keras.losses.SparseCategoricalCrossentropy(from_logits=True)\n",
    "metric = tf.keras.metrics.SparseCategoricalAccuracy('accuracy')\n",
    "optimizer = tf.keras.optimizers.Adam(learning_rate=2e-5, epsilon=1e-08)\n",
    "\n",
    "bert_model.compile(loss=loss, optimizer=optimizer, metrics=[metric])"
   ]
  },
  {
   "cell_type": "code",
   "execution_count": null,
   "id": "077bc49e-8b29-46ba-b01c-504dc9dec9c9",
   "metadata": {},
   "outputs": [],
   "source": [
    "earlystop_callback = tf.keras.callbacks.EarlyStopping(monitor = \"val_loss\", \n",
    "                                                      patience = 3,\n",
    "                                                      restore_best_weights = True)"
   ]
  },
  {
   "cell_type": "markdown",
   "id": "77e608c4-e42f-40ee-9b71-cbc250a6ca38",
   "metadata": {},
   "source": [
    "### Train Model\n"
   ]
  },
  {
   "cell_type": "code",
   "execution_count": null,
   "id": "595190fc-4460-43fb-9655-a9bbe74df077",
   "metadata": {},
   "outputs": [],
   "source": []
  },
  {
   "cell_type": "code",
   "execution_count": null,
   "id": "93aacc66-4902-4e59-9220-8de6323f058f",
   "metadata": {},
   "outputs": [],
   "source": [
    "#valid_dataset = ([val_inp, val_mask], val_label)"
   ]
  },
  {
   "cell_type": "code",
   "execution_count": null,
   "id": "a739650f-0440-4150-b34d-a28acaf99f3c",
   "metadata": {},
   "outputs": [],
   "source": [
    "train_model = bert_model.fit(x_train,\n",
    "                             y_train,\n",
    "                             batch_size=32,\n",
    "                             epochs=4,\n",
    "                             validation_data=(x_test, y_test),\n",
    "                             callbacks=[earlystop_callback])"
   ]
  },
  {
   "cell_type": "code",
   "execution_count": null,
   "id": "8fcf2a29-226d-4100-b9fe-8970bb330af6",
   "metadata": {},
   "outputs": [],
   "source": []
  }
 ],
 "metadata": {
  "kernelspec": {
   "display_name": "Python 3 (ipykernel)",
   "language": "python",
   "name": "python3"
  },
  "language_info": {
   "codemirror_mode": {
    "name": "ipython",
    "version": 3
   },
   "file_extension": ".py",
   "mimetype": "text/x-python",
   "name": "python",
   "nbconvert_exporter": "python",
   "pygments_lexer": "ipython3",
   "version": "3.9.7"
  }
 },
 "nbformat": 4,
 "nbformat_minor": 5
}
