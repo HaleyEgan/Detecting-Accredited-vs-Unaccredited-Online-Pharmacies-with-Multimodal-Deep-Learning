{
 "cells": [
  {
   "cell_type": "code",
   "execution_count": 5,
   "id": "05afb269-e09f-4a5d-b039-e834e6753373",
   "metadata": {},
   "outputs": [],
   "source": [
    "import tensorflow as tf\n",
    "import tensorflow_hub as hub\n",
    "import pandas as pd\n",
    "from sklearn.model_selection import train_test_split\n",
    "import numpy as np\n",
    "import re\n",
    "import unicodedata\n",
    "import nltk\n",
    "from nltk.corpus import stopwords\n",
    "import keras\n",
    "from tqdm import tqdm\n",
    "import pickle\n",
    "from keras.models import Model\n",
    "import keras.backend as K\n",
    "from sklearn.metrics import confusion_matrix,f1_score,classification_report\n",
    "import matplotlib.pyplot as plt\n",
    "from keras.callbacks import ModelCheckpoint\n",
    "import itertools\n",
    "from keras.models import load_model\n",
    "from sklearn.utils import shuffle\n",
    "from transformers import *\n",
    "from transformers import BertTokenizer, TFBertModel, BertConfig\n"
   ]
  },
  {
   "cell_type": "code",
   "execution_count": 6,
   "id": "22543f82-93f1-4c09-9cf3-7686733a0a52",
   "metadata": {},
   "outputs": [],
   "source": [
    "def unicode_to_ascii(s):\n",
    "    return ''.join(c for c in unicodedata.normalize('NFD', s) if unicodedata.category(c) != 'Mn')\n",
    "\n",
    "def clean_stopwords_shortwords(w):\n",
    "    stopwords_list=stopwords.words('english')\n",
    "    words = w.split() \n",
    "    clean_words = [word for word in words if (word not in stopwords_list) and len(word) > 2]\n",
    "    return \" \".join(clean_words) \n",
    "\n",
    "def preprocess_sentence(w):\n",
    "    w = unicode_to_ascii(w.lower().strip())\n",
    "    w = re.sub(r\"([?.!,¿])\", r\" \", w)\n",
    "    w = re.sub(r'[\" \"]+', \" \", w)\n",
    "    w = re.sub(r\"[^a-zA-Z?.!,¿]+\", \" \", w)\n",
    "    w=clean_stopwords_shortwords(w)\n",
    "    w=re.sub(r'@\\w+', '',w)\n",
    "    return w"
   ]
  },
  {
   "cell_type": "code",
   "execution_count": 8,
   "id": "008dce2f-2875-4ef5-a809-69587cec35b4",
   "metadata": {},
   "outputs": [
    {
     "data": {
      "text/html": [
       "<div>\n",
       "<style scoped>\n",
       "    .dataframe tbody tr th:only-of-type {\n",
       "        vertical-align: middle;\n",
       "    }\n",
       "\n",
       "    .dataframe tbody tr th {\n",
       "        vertical-align: top;\n",
       "    }\n",
       "\n",
       "    .dataframe thead th {\n",
       "        text-align: right;\n",
       "    }\n",
       "</style>\n",
       "<table border=\"1\" class=\"dataframe\">\n",
       "  <thead>\n",
       "    <tr style=\"text-align: right;\">\n",
       "      <th></th>\n",
       "      <th>Website</th>\n",
       "      <th>Body</th>\n",
       "      <th>Header</th>\n",
       "      <th>Footer</th>\n",
       "      <th>Image Urls</th>\n",
       "      <th>Accredited</th>\n",
       "      <th>Complete_html</th>\n",
       "      <th>Zipcode</th>\n",
       "      <th>Valid_phone</th>\n",
       "    </tr>\n",
       "  </thead>\n",
       "  <tbody>\n",
       "    <tr>\n",
       "      <th>0</th>\n",
       "      <td>https://acariahealth.envolvehealth.com</td>\n",
       "      <td>Skip to Main Content Home Contact Insights Sea...</td>\n",
       "      <td>Home Contact Insights Search Search About Over...</td>\n",
       "      <td>Locations Referral Forms Careers Disclaimer HI...</td>\n",
       "      <td>['https://acariahealth.envolvehealth.com/conte...</td>\n",
       "      <td>0</td>\n",
       "      <td>Skip to Main Content Home Contact Insights Sea...</td>\n",
       "      <td>0</td>\n",
       "      <td>1</td>\n",
       "    </tr>\n",
       "    <tr>\n",
       "      <th>1</th>\n",
       "      <td>https://alto.com</td>\n",
       "      <td>Shop Alto Essentials to add pharmacy products ...</td>\n",
       "      <td>Shop Alto Essentials to add pharmacy products ...</td>\n",
       "      <td>Our Story Careers Drive for Alto For Providers...</td>\n",
       "      <td>['https://images.prismic.io/alto/176341aa-258d...</td>\n",
       "      <td>0</td>\n",
       "      <td>Shop Alto Essentials to add pharmacy products ...</td>\n",
       "      <td>0</td>\n",
       "      <td>1</td>\n",
       "    </tr>\n",
       "    <tr>\n",
       "      <th>2</th>\n",
       "      <td>https://www.amberpharmacy.com</td>\n",
       "      <td>Loading... Skip to navigation Skip to main con...</td>\n",
       "      <td>NaN</td>\n",
       "      <td>About Careers 340B Hospital Program Locations ...</td>\n",
       "      <td>['https://www.amberpharmacy.com/wp-content/the...</td>\n",
       "      <td>0</td>\n",
       "      <td>NaN</td>\n",
       "      <td>0</td>\n",
       "      <td>0</td>\n",
       "    </tr>\n",
       "    <tr>\n",
       "      <th>3</th>\n",
       "      <td>https://www.aoncology.com</td>\n",
       "      <td>For Patients Careers Blog Practice Success Pat...</td>\n",
       "      <td>For Patients Careers Blog Practice Success Pat...</td>\n",
       "      <td>© 2020 American Oncology Network, LLC. All Rig...</td>\n",
       "      <td>['https://dc.ads.linkedin.com/collect/?pid=944...</td>\n",
       "      <td>0</td>\n",
       "      <td>For Patients Careers Blog Practice Success Pat...</td>\n",
       "      <td>1</td>\n",
       "      <td>0</td>\n",
       "    </tr>\n",
       "    <tr>\n",
       "      <th>4</th>\n",
       "      <td>https://www.birdirx.com</td>\n",
       "      <td>Loading... × Close alert Fly with Birdi!  Free...</td>\n",
       "      <td>NaN</td>\n",
       "      <td>Support Hours of Operation Monday through Frid...</td>\n",
       "      <td>[\"https://www.birdirx.comdata:image/svg+xml;ch...</td>\n",
       "      <td>0</td>\n",
       "      <td>NaN</td>\n",
       "      <td>0</td>\n",
       "      <td>0</td>\n",
       "    </tr>\n",
       "  </tbody>\n",
       "</table>\n",
       "</div>"
      ],
      "text/plain": [
       "                                  Website  \\\n",
       "0  https://acariahealth.envolvehealth.com   \n",
       "1                        https://alto.com   \n",
       "2           https://www.amberpharmacy.com   \n",
       "3               https://www.aoncology.com   \n",
       "4                 https://www.birdirx.com   \n",
       "\n",
       "                                                Body  \\\n",
       "0  Skip to Main Content Home Contact Insights Sea...   \n",
       "1  Shop Alto Essentials to add pharmacy products ...   \n",
       "2  Loading... Skip to navigation Skip to main con...   \n",
       "3  For Patients Careers Blog Practice Success Pat...   \n",
       "4  Loading... × Close alert Fly with Birdi!  Free...   \n",
       "\n",
       "                                              Header  \\\n",
       "0  Home Contact Insights Search Search About Over...   \n",
       "1  Shop Alto Essentials to add pharmacy products ...   \n",
       "2                                                NaN   \n",
       "3  For Patients Careers Blog Practice Success Pat...   \n",
       "4                                                NaN   \n",
       "\n",
       "                                              Footer  \\\n",
       "0  Locations Referral Forms Careers Disclaimer HI...   \n",
       "1  Our Story Careers Drive for Alto For Providers...   \n",
       "2  About Careers 340B Hospital Program Locations ...   \n",
       "3  © 2020 American Oncology Network, LLC. All Rig...   \n",
       "4  Support Hours of Operation Monday through Frid...   \n",
       "\n",
       "                                          Image Urls  Accredited  \\\n",
       "0  ['https://acariahealth.envolvehealth.com/conte...           0   \n",
       "1  ['https://images.prismic.io/alto/176341aa-258d...           0   \n",
       "2  ['https://www.amberpharmacy.com/wp-content/the...           0   \n",
       "3  ['https://dc.ads.linkedin.com/collect/?pid=944...           0   \n",
       "4  [\"https://www.birdirx.comdata:image/svg+xml;ch...           0   \n",
       "\n",
       "                                       Complete_html  Zipcode  Valid_phone  \n",
       "0  Skip to Main Content Home Contact Insights Sea...        0            1  \n",
       "1  Shop Alto Essentials to add pharmacy products ...        0            1  \n",
       "2                                                NaN        0            0  \n",
       "3  For Patients Careers Blog Practice Success Pat...        1            0  \n",
       "4                                                NaN        0            0  "
      ]
     },
     "execution_count": 8,
     "metadata": {},
     "output_type": "execute_result"
    }
   ],
   "source": [
    "#import data\n",
    "pharm_data = pd.read_csv('pharmacy_dataset_reduced.csv')\n",
    "data = pharm_data.copy()\n",
    "data.head()\n",
    "#len(data)"
   ]
  },
  {
   "cell_type": "markdown",
   "id": "5c094c2d-194a-4591-bfdb-5468d2393721",
   "metadata": {},
   "source": [
    "### Data Cleaning"
   ]
  },
  {
   "cell_type": "code",
   "execution_count": 12,
   "id": "cc47a51a-cd83-4a8d-b222-71f2d27972ab",
   "metadata": {},
   "outputs": [
    {
     "data": {
      "text/html": [
       "<div>\n",
       "<style scoped>\n",
       "    .dataframe tbody tr th:only-of-type {\n",
       "        vertical-align: middle;\n",
       "    }\n",
       "\n",
       "    .dataframe tbody tr th {\n",
       "        vertical-align: top;\n",
       "    }\n",
       "\n",
       "    .dataframe thead th {\n",
       "        text-align: right;\n",
       "    }\n",
       "</style>\n",
       "<table border=\"1\" class=\"dataframe\">\n",
       "  <thead>\n",
       "    <tr style=\"text-align: right;\">\n",
       "      <th></th>\n",
       "      <th>Website</th>\n",
       "      <th>Body</th>\n",
       "      <th>Header</th>\n",
       "      <th>Footer</th>\n",
       "      <th>Image Urls</th>\n",
       "      <th>Accredited</th>\n",
       "      <th>Complete_html</th>\n",
       "      <th>Zipcode</th>\n",
       "      <th>Valid_phone</th>\n",
       "      <th>text</th>\n",
       "    </tr>\n",
       "  </thead>\n",
       "  <tbody>\n",
       "    <tr>\n",
       "      <th>0</th>\n",
       "      <td>https://acariahealth.envolvehealth.com</td>\n",
       "      <td>Skip to Main Content Home Contact Insights Sea...</td>\n",
       "      <td>Home Contact Insights Search Search About Over...</td>\n",
       "      <td>Locations Referral Forms Careers Disclaimer HI...</td>\n",
       "      <td>['https://acariahealth.envolvehealth.com/conte...</td>\n",
       "      <td>0</td>\n",
       "      <td>Skip to Main Content Home Contact Insights Sea...</td>\n",
       "      <td>0</td>\n",
       "      <td>1</td>\n",
       "      <td>Skip to Main Content Home Contact Insights Sea...</td>\n",
       "    </tr>\n",
       "    <tr>\n",
       "      <th>1</th>\n",
       "      <td>https://alto.com</td>\n",
       "      <td>Shop Alto Essentials to add pharmacy products ...</td>\n",
       "      <td>Shop Alto Essentials to add pharmacy products ...</td>\n",
       "      <td>Our Story Careers Drive for Alto For Providers...</td>\n",
       "      <td>['https://images.prismic.io/alto/176341aa-258d...</td>\n",
       "      <td>0</td>\n",
       "      <td>Shop Alto Essentials to add pharmacy products ...</td>\n",
       "      <td>0</td>\n",
       "      <td>1</td>\n",
       "      <td>Shop Alto Essentials to add pharmacy products ...</td>\n",
       "    </tr>\n",
       "    <tr>\n",
       "      <th>2</th>\n",
       "      <td>https://www.amberpharmacy.com</td>\n",
       "      <td>Loading... Skip to navigation Skip to main con...</td>\n",
       "      <td>NaN</td>\n",
       "      <td>About Careers 340B Hospital Program Locations ...</td>\n",
       "      <td>['https://www.amberpharmacy.com/wp-content/the...</td>\n",
       "      <td>0</td>\n",
       "      <td>NaN</td>\n",
       "      <td>0</td>\n",
       "      <td>0</td>\n",
       "      <td>Loading... Skip to navigation Skip to main con...</td>\n",
       "    </tr>\n",
       "    <tr>\n",
       "      <th>3</th>\n",
       "      <td>https://www.aoncology.com</td>\n",
       "      <td>For Patients Careers Blog Practice Success Pat...</td>\n",
       "      <td>For Patients Careers Blog Practice Success Pat...</td>\n",
       "      <td>© 2020 American Oncology Network, LLC. All Rig...</td>\n",
       "      <td>['https://dc.ads.linkedin.com/collect/?pid=944...</td>\n",
       "      <td>0</td>\n",
       "      <td>For Patients Careers Blog Practice Success Pat...</td>\n",
       "      <td>1</td>\n",
       "      <td>0</td>\n",
       "      <td>For Patients Careers Blog Practice Success Pat...</td>\n",
       "    </tr>\n",
       "    <tr>\n",
       "      <th>4</th>\n",
       "      <td>https://www.birdirx.com</td>\n",
       "      <td>Loading... × Close alert Fly with Birdi!  Free...</td>\n",
       "      <td>NaN</td>\n",
       "      <td>Support Hours of Operation Monday through Frid...</td>\n",
       "      <td>[\"https://www.birdirx.comdata:image/svg+xml;ch...</td>\n",
       "      <td>0</td>\n",
       "      <td>NaN</td>\n",
       "      <td>0</td>\n",
       "      <td>0</td>\n",
       "      <td>Loading... × Close alert Fly with Birdi!  Free...</td>\n",
       "    </tr>\n",
       "  </tbody>\n",
       "</table>\n",
       "</div>"
      ],
      "text/plain": [
       "                                  Website  \\\n",
       "0  https://acariahealth.envolvehealth.com   \n",
       "1                        https://alto.com   \n",
       "2           https://www.amberpharmacy.com   \n",
       "3               https://www.aoncology.com   \n",
       "4                 https://www.birdirx.com   \n",
       "\n",
       "                                                Body  \\\n",
       "0  Skip to Main Content Home Contact Insights Sea...   \n",
       "1  Shop Alto Essentials to add pharmacy products ...   \n",
       "2  Loading... Skip to navigation Skip to main con...   \n",
       "3  For Patients Careers Blog Practice Success Pat...   \n",
       "4  Loading... × Close alert Fly with Birdi!  Free...   \n",
       "\n",
       "                                              Header  \\\n",
       "0  Home Contact Insights Search Search About Over...   \n",
       "1  Shop Alto Essentials to add pharmacy products ...   \n",
       "2                                                NaN   \n",
       "3  For Patients Careers Blog Practice Success Pat...   \n",
       "4                                                NaN   \n",
       "\n",
       "                                              Footer  \\\n",
       "0  Locations Referral Forms Careers Disclaimer HI...   \n",
       "1  Our Story Careers Drive for Alto For Providers...   \n",
       "2  About Careers 340B Hospital Program Locations ...   \n",
       "3  © 2020 American Oncology Network, LLC. All Rig...   \n",
       "4  Support Hours of Operation Monday through Frid...   \n",
       "\n",
       "                                          Image Urls  Accredited  \\\n",
       "0  ['https://acariahealth.envolvehealth.com/conte...           0   \n",
       "1  ['https://images.prismic.io/alto/176341aa-258d...           0   \n",
       "2  ['https://www.amberpharmacy.com/wp-content/the...           0   \n",
       "3  ['https://dc.ads.linkedin.com/collect/?pid=944...           0   \n",
       "4  [\"https://www.birdirx.comdata:image/svg+xml;ch...           0   \n",
       "\n",
       "                                       Complete_html  Zipcode  Valid_phone  \\\n",
       "0  Skip to Main Content Home Contact Insights Sea...        0            1   \n",
       "1  Shop Alto Essentials to add pharmacy products ...        0            1   \n",
       "2                                                NaN        0            0   \n",
       "3  For Patients Careers Blog Practice Success Pat...        1            0   \n",
       "4                                                NaN        0            0   \n",
       "\n",
       "                                                text  \n",
       "0  Skip to Main Content Home Contact Insights Sea...  \n",
       "1  Shop Alto Essentials to add pharmacy products ...  \n",
       "2  Loading... Skip to navigation Skip to main con...  \n",
       "3  For Patients Careers Blog Practice Success Pat...  \n",
       "4  Loading... × Close alert Fly with Birdi!  Free...  "
      ]
     },
     "execution_count": 12,
     "metadata": {},
     "output_type": "execute_result"
    }
   ],
   "source": [
    "#combine columns into new column containing all text\n",
    "data['text'] = data['Body'].astype(str) + data['Header'].astype(str) + data['Footer'].astype(str)\n",
    "data.head()"
   ]
  },
  {
   "cell_type": "code",
   "execution_count": 13,
   "id": "10b5f5cc-2fb6-4f48-b09a-406cd407c216",
   "metadata": {},
   "outputs": [
    {
     "data": {
      "text/html": [
       "<div>\n",
       "<style scoped>\n",
       "    .dataframe tbody tr th:only-of-type {\n",
       "        vertical-align: middle;\n",
       "    }\n",
       "\n",
       "    .dataframe tbody tr th {\n",
       "        vertical-align: top;\n",
       "    }\n",
       "\n",
       "    .dataframe thead th {\n",
       "        text-align: right;\n",
       "    }\n",
       "</style>\n",
       "<table border=\"1\" class=\"dataframe\">\n",
       "  <thead>\n",
       "    <tr style=\"text-align: right;\">\n",
       "      <th></th>\n",
       "      <th>Website</th>\n",
       "      <th>Body</th>\n",
       "      <th>Header</th>\n",
       "      <th>Footer</th>\n",
       "      <th>Image Urls</th>\n",
       "      <th>label</th>\n",
       "      <th>Complete_html</th>\n",
       "      <th>Zipcode</th>\n",
       "      <th>Valid_phone</th>\n",
       "      <th>text</th>\n",
       "    </tr>\n",
       "  </thead>\n",
       "  <tbody>\n",
       "    <tr>\n",
       "      <th>0</th>\n",
       "      <td>https://acariahealth.envolvehealth.com</td>\n",
       "      <td>Skip to Main Content Home Contact Insights Sea...</td>\n",
       "      <td>Home Contact Insights Search Search About Over...</td>\n",
       "      <td>Locations Referral Forms Careers Disclaimer HI...</td>\n",
       "      <td>['https://acariahealth.envolvehealth.com/conte...</td>\n",
       "      <td>0</td>\n",
       "      <td>Skip to Main Content Home Contact Insights Sea...</td>\n",
       "      <td>0</td>\n",
       "      <td>1</td>\n",
       "      <td>Skip to Main Content Home Contact Insights Sea...</td>\n",
       "    </tr>\n",
       "    <tr>\n",
       "      <th>1</th>\n",
       "      <td>https://alto.com</td>\n",
       "      <td>Shop Alto Essentials to add pharmacy products ...</td>\n",
       "      <td>Shop Alto Essentials to add pharmacy products ...</td>\n",
       "      <td>Our Story Careers Drive for Alto For Providers...</td>\n",
       "      <td>['https://images.prismic.io/alto/176341aa-258d...</td>\n",
       "      <td>0</td>\n",
       "      <td>Shop Alto Essentials to add pharmacy products ...</td>\n",
       "      <td>0</td>\n",
       "      <td>1</td>\n",
       "      <td>Shop Alto Essentials to add pharmacy products ...</td>\n",
       "    </tr>\n",
       "    <tr>\n",
       "      <th>2</th>\n",
       "      <td>https://www.amberpharmacy.com</td>\n",
       "      <td>Loading... Skip to navigation Skip to main con...</td>\n",
       "      <td>NaN</td>\n",
       "      <td>About Careers 340B Hospital Program Locations ...</td>\n",
       "      <td>['https://www.amberpharmacy.com/wp-content/the...</td>\n",
       "      <td>0</td>\n",
       "      <td>NaN</td>\n",
       "      <td>0</td>\n",
       "      <td>0</td>\n",
       "      <td>Loading... Skip to navigation Skip to main con...</td>\n",
       "    </tr>\n",
       "    <tr>\n",
       "      <th>3</th>\n",
       "      <td>https://www.aoncology.com</td>\n",
       "      <td>For Patients Careers Blog Practice Success Pat...</td>\n",
       "      <td>For Patients Careers Blog Practice Success Pat...</td>\n",
       "      <td>© 2020 American Oncology Network, LLC. All Rig...</td>\n",
       "      <td>['https://dc.ads.linkedin.com/collect/?pid=944...</td>\n",
       "      <td>0</td>\n",
       "      <td>For Patients Careers Blog Practice Success Pat...</td>\n",
       "      <td>1</td>\n",
       "      <td>0</td>\n",
       "      <td>For Patients Careers Blog Practice Success Pat...</td>\n",
       "    </tr>\n",
       "    <tr>\n",
       "      <th>4</th>\n",
       "      <td>https://www.birdirx.com</td>\n",
       "      <td>Loading... × Close alert Fly with Birdi!  Free...</td>\n",
       "      <td>NaN</td>\n",
       "      <td>Support Hours of Operation Monday through Frid...</td>\n",
       "      <td>[\"https://www.birdirx.comdata:image/svg+xml;ch...</td>\n",
       "      <td>0</td>\n",
       "      <td>NaN</td>\n",
       "      <td>0</td>\n",
       "      <td>0</td>\n",
       "      <td>Loading... × Close alert Fly with Birdi!  Free...</td>\n",
       "    </tr>\n",
       "  </tbody>\n",
       "</table>\n",
       "</div>"
      ],
      "text/plain": [
       "                                  Website  \\\n",
       "0  https://acariahealth.envolvehealth.com   \n",
       "1                        https://alto.com   \n",
       "2           https://www.amberpharmacy.com   \n",
       "3               https://www.aoncology.com   \n",
       "4                 https://www.birdirx.com   \n",
       "\n",
       "                                                Body  \\\n",
       "0  Skip to Main Content Home Contact Insights Sea...   \n",
       "1  Shop Alto Essentials to add pharmacy products ...   \n",
       "2  Loading... Skip to navigation Skip to main con...   \n",
       "3  For Patients Careers Blog Practice Success Pat...   \n",
       "4  Loading... × Close alert Fly with Birdi!  Free...   \n",
       "\n",
       "                                              Header  \\\n",
       "0  Home Contact Insights Search Search About Over...   \n",
       "1  Shop Alto Essentials to add pharmacy products ...   \n",
       "2                                                NaN   \n",
       "3  For Patients Careers Blog Practice Success Pat...   \n",
       "4                                                NaN   \n",
       "\n",
       "                                              Footer  \\\n",
       "0  Locations Referral Forms Careers Disclaimer HI...   \n",
       "1  Our Story Careers Drive for Alto For Providers...   \n",
       "2  About Careers 340B Hospital Program Locations ...   \n",
       "3  © 2020 American Oncology Network, LLC. All Rig...   \n",
       "4  Support Hours of Operation Monday through Frid...   \n",
       "\n",
       "                                          Image Urls  label  \\\n",
       "0  ['https://acariahealth.envolvehealth.com/conte...      0   \n",
       "1  ['https://images.prismic.io/alto/176341aa-258d...      0   \n",
       "2  ['https://www.amberpharmacy.com/wp-content/the...      0   \n",
       "3  ['https://dc.ads.linkedin.com/collect/?pid=944...      0   \n",
       "4  [\"https://www.birdirx.comdata:image/svg+xml;ch...      0   \n",
       "\n",
       "                                       Complete_html  Zipcode  Valid_phone  \\\n",
       "0  Skip to Main Content Home Contact Insights Sea...        0            1   \n",
       "1  Shop Alto Essentials to add pharmacy products ...        0            1   \n",
       "2                                                NaN        0            0   \n",
       "3  For Patients Careers Blog Practice Success Pat...        1            0   \n",
       "4                                                NaN        0            0   \n",
       "\n",
       "                                                text  \n",
       "0  Skip to Main Content Home Contact Insights Sea...  \n",
       "1  Shop Alto Essentials to add pharmacy products ...  \n",
       "2  Loading... Skip to navigation Skip to main con...  \n",
       "3  For Patients Careers Blog Practice Success Pat...  \n",
       "4  Loading... × Close alert Fly with Birdi!  Free...  "
      ]
     },
     "execution_count": 13,
     "metadata": {},
     "output_type": "execute_result"
    }
   ],
   "source": [
    "#rename Accredited as 'label'\n",
    "data=data.rename(columns = {'Accredited': 'label'}, inplace = False)\n",
    "data.head()"
   ]
  },
  {
   "cell_type": "code",
   "execution_count": 14,
   "id": "93519eac-3494-4153-9ad9-1ad5e879955e",
   "metadata": {},
   "outputs": [],
   "source": [
    "#reduce dataset to only the columns we need, 'label' and 'text'\n",
    "data = data.drop(['Website', 'Body', 'Header', 'Footer', 'Image Urls', 'Complete_html', 'Zipcode', 'Valid_phone'], axis=1)"
   ]
  },
  {
   "cell_type": "code",
   "execution_count": 15,
   "id": "efecc13b-f91b-4740-b1aa-f7464fdfce7d",
   "metadata": {},
   "outputs": [
    {
     "data": {
      "text/html": [
       "<div>\n",
       "<style scoped>\n",
       "    .dataframe tbody tr th:only-of-type {\n",
       "        vertical-align: middle;\n",
       "    }\n",
       "\n",
       "    .dataframe tbody tr th {\n",
       "        vertical-align: top;\n",
       "    }\n",
       "\n",
       "    .dataframe thead th {\n",
       "        text-align: right;\n",
       "    }\n",
       "</style>\n",
       "<table border=\"1\" class=\"dataframe\">\n",
       "  <thead>\n",
       "    <tr style=\"text-align: right;\">\n",
       "      <th></th>\n",
       "      <th>label</th>\n",
       "      <th>text</th>\n",
       "    </tr>\n",
       "  </thead>\n",
       "  <tbody>\n",
       "    <tr>\n",
       "      <th>0</th>\n",
       "      <td>0</td>\n",
       "      <td>Skip to Main Content Home Contact Insights Sea...</td>\n",
       "    </tr>\n",
       "    <tr>\n",
       "      <th>1</th>\n",
       "      <td>0</td>\n",
       "      <td>Shop Alto Essentials to add pharmacy products ...</td>\n",
       "    </tr>\n",
       "    <tr>\n",
       "      <th>2</th>\n",
       "      <td>0</td>\n",
       "      <td>Loading... Skip to navigation Skip to main con...</td>\n",
       "    </tr>\n",
       "    <tr>\n",
       "      <th>3</th>\n",
       "      <td>0</td>\n",
       "      <td>For Patients Careers Blog Practice Success Pat...</td>\n",
       "    </tr>\n",
       "    <tr>\n",
       "      <th>4</th>\n",
       "      <td>0</td>\n",
       "      <td>Loading... × Close alert Fly with Birdi!  Free...</td>\n",
       "    </tr>\n",
       "  </tbody>\n",
       "</table>\n",
       "</div>"
      ],
      "text/plain": [
       "   label                                               text\n",
       "0      0  Skip to Main Content Home Contact Insights Sea...\n",
       "1      0  Shop Alto Essentials to add pharmacy products ...\n",
       "2      0  Loading... Skip to navigation Skip to main con...\n",
       "3      0  For Patients Careers Blog Practice Success Pat...\n",
       "4      0  Loading... × Close alert Fly with Birdi!  Free..."
      ]
     },
     "execution_count": 15,
     "metadata": {},
     "output_type": "execute_result"
    }
   ],
   "source": [
    "#Sentences contain the entire text data and labels contain all the corresponding labels\n",
    "data.head()"
   ]
  },
  {
   "cell_type": "code",
   "execution_count": 16,
   "id": "fd28ceef-b59f-42e3-8916-7a801c2678e9",
   "metadata": {},
   "outputs": [
    {
     "data": {
      "text/plain": [
       "72"
      ]
     },
     "execution_count": 16,
     "metadata": {},
     "output_type": "execute_result"
    }
   ],
   "source": [
    "len(data)"
   ]
  },
  {
   "cell_type": "code",
   "execution_count": 17,
   "id": "2a240fed-cbb2-4f47-9e84-bf551361ff8c",
   "metadata": {},
   "outputs": [],
   "source": [
    "#drop any missing values\n",
    "data = data.dropna()"
   ]
  },
  {
   "cell_type": "code",
   "execution_count": 18,
   "id": "73041837-9302-4e21-a3d3-2186b10c5209",
   "metadata": {},
   "outputs": [
    {
     "data": {
      "text/plain": [
       "72"
      ]
     },
     "execution_count": 18,
     "metadata": {},
     "output_type": "execute_result"
    }
   ],
   "source": [
    "len(data)"
   ]
  },
  {
   "cell_type": "code",
   "execution_count": 20,
   "id": "27885565-9d0e-4936-a7a5-8e9515f32d72",
   "metadata": {},
   "outputs": [
    {
     "data": {
      "text/html": [
       "<div>\n",
       "<style scoped>\n",
       "    .dataframe tbody tr th:only-of-type {\n",
       "        vertical-align: middle;\n",
       "    }\n",
       "\n",
       "    .dataframe tbody tr th {\n",
       "        vertical-align: top;\n",
       "    }\n",
       "\n",
       "    .dataframe thead th {\n",
       "        text-align: right;\n",
       "    }\n",
       "</style>\n",
       "<table border=\"1\" class=\"dataframe\">\n",
       "  <thead>\n",
       "    <tr style=\"text-align: right;\">\n",
       "      <th></th>\n",
       "      <th>label</th>\n",
       "      <th>text</th>\n",
       "    </tr>\n",
       "  </thead>\n",
       "  <tbody>\n",
       "    <tr>\n",
       "      <th>62</th>\n",
       "      <td>1</td>\n",
       "      <td>Log In Register Checkout Languages: Currencies...</td>\n",
       "    </tr>\n",
       "    <tr>\n",
       "      <th>44</th>\n",
       "      <td>1</td>\n",
       "      <td>www.Drugscom 2015. All Rights Reserved.nannan</td>\n",
       "    </tr>\n",
       "    <tr>\n",
       "      <th>24</th>\n",
       "      <td>0</td>\n",
       "      <td>Skip to the main content. Senderra Institute P...</td>\n",
       "    </tr>\n",
       "    <tr>\n",
       "      <th>52</th>\n",
       "      <td>1</td>\n",
       "      <td>Skip to content Menu ทางเข้า sbobet แทงบอลสบาย...</td>\n",
       "    </tr>\n",
       "    <tr>\n",
       "      <th>6</th>\n",
       "      <td>0</td>\n",
       "      <td>Skip to main content Order Status Check Drug C...</td>\n",
       "    </tr>\n",
       "  </tbody>\n",
       "</table>\n",
       "</div>"
      ],
      "text/plain": [
       "    label                                               text\n",
       "62      1  Log In Register Checkout Languages: Currencies...\n",
       "44      1      www.Drugscom 2015. All Rights Reserved.nannan\n",
       "24      0  Skip to the main content. Senderra Institute P...\n",
       "52      1  Skip to content Menu ทางเข้า sbobet แทงบอลสบาย...\n",
       "6       0  Skip to main content Order Status Check Drug C..."
      ]
     },
     "execution_count": 20,
     "metadata": {},
     "output_type": "execute_result"
    }
   ],
   "source": [
    "#reset index\n",
    "data=data.reset_index(drop=True) \n",
    "#shuffle data\n",
    "data = shuffle(data)   \n",
    "data.head()"
   ]
  },
  {
   "cell_type": "code",
   "execution_count": 22,
   "id": "ded76d61-0c03-48a1-8524-81830b9a497e",
   "metadata": {},
   "outputs": [
    {
     "data": {
      "text/html": [
       "<div>\n",
       "<style scoped>\n",
       "    .dataframe tbody tr th:only-of-type {\n",
       "        vertical-align: middle;\n",
       "    }\n",
       "\n",
       "    .dataframe tbody tr th {\n",
       "        vertical-align: top;\n",
       "    }\n",
       "\n",
       "    .dataframe thead th {\n",
       "        text-align: right;\n",
       "    }\n",
       "</style>\n",
       "<table border=\"1\" class=\"dataframe\">\n",
       "  <thead>\n",
       "    <tr style=\"text-align: right;\">\n",
       "      <th></th>\n",
       "      <th>label</th>\n",
       "      <th>text</th>\n",
       "    </tr>\n",
       "  </thead>\n",
       "  <tbody>\n",
       "    <tr>\n",
       "      <th>62</th>\n",
       "      <td>1</td>\n",
       "      <td>log register checkout languages currencies dol...</td>\n",
       "    </tr>\n",
       "    <tr>\n",
       "      <th>44</th>\n",
       "      <td>1</td>\n",
       "      <td>www drugscom rights reserved nannan</td>\n",
       "    </tr>\n",
       "    <tr>\n",
       "      <th>24</th>\n",
       "      <td>0</td>\n",
       "      <td>skip main content senderra institute prescribe...</td>\n",
       "    </tr>\n",
       "    <tr>\n",
       "      <th>52</th>\n",
       "      <td>1</td>\n",
       "      <td>skip content menu sbobet blog search search su...</td>\n",
       "    </tr>\n",
       "    <tr>\n",
       "      <th>6</th>\n",
       "      <td>0</td>\n",
       "      <td>skip main content order status check drug cost...</td>\n",
       "    </tr>\n",
       "  </tbody>\n",
       "</table>\n",
       "</div>"
      ],
      "text/plain": [
       "    label                                               text\n",
       "62      1  log register checkout languages currencies dol...\n",
       "44      1                www drugscom rights reserved nannan\n",
       "24      0  skip main content senderra institute prescribe...\n",
       "52      1  skip content menu sbobet blog search search su...\n",
       "6       0  skip main content order status check drug cost..."
      ]
     },
     "execution_count": 22,
     "metadata": {},
     "output_type": "execute_result"
    }
   ],
   "source": [
    "#apply the function to clean the text - all lower case, strip spaces and characters \n",
    "data['text']=data['text'].map(preprocess_sentence)    \n",
    "data.head()"
   ]
  },
  {
   "cell_type": "markdown",
   "id": "c07650f9-8c6e-41d4-a4c7-3408eb0f0490",
   "metadata": {},
   "source": [
    "### Setting up a pre-trained BERT model for fine-tuning\n",
    "#### Load BERT tokenizer and BERT model"
   ]
  },
  {
   "cell_type": "code",
   "execution_count": 23,
   "id": "f0507bc8-4157-4df2-8d35-b718c96affed",
   "metadata": {},
   "outputs": [
    {
     "data": {
      "text/plain": [
       "2"
      ]
     },
     "execution_count": 23,
     "metadata": {},
     "output_type": "execute_result"
    }
   ],
   "source": [
    "#define the number of unique classes under 'label'\n",
    "num_classes=len(data.label.unique())\n",
    "num_classes"
   ]
  },
  {
   "cell_type": "code",
   "execution_count": 25,
   "id": "e09838dc-f242-4eb9-a891-ea70ff6c596d",
   "metadata": {},
   "outputs": [
    {
     "name": "stderr",
     "output_type": "stream",
     "text": [
      "loading file vocab.txt from cache at C:\\Users\\haley/.cache\\huggingface\\hub\\models--bert-base-uncased\\snapshots\\5546055f03398095e385d7dc625e636cc8910bf2\\vocab.txt\n",
      "loading file added_tokens.json from cache at None\n",
      "loading file special_tokens_map.json from cache at None\n",
      "loading file tokenizer_config.json from cache at C:\\Users\\haley/.cache\\huggingface\\hub\\models--bert-base-uncased\\snapshots\\5546055f03398095e385d7dc625e636cc8910bf2\\tokenizer_config.json\n",
      "loading configuration file config.json from cache at C:\\Users\\haley/.cache\\huggingface\\hub\\models--bert-base-uncased\\snapshots\\5546055f03398095e385d7dc625e636cc8910bf2\\config.json\n",
      "Model config BertConfig {\n",
      "  \"_name_or_path\": \"bert-base-uncased\",\n",
      "  \"architectures\": [\n",
      "    \"BertForMaskedLM\"\n",
      "  ],\n",
      "  \"attention_probs_dropout_prob\": 0.1,\n",
      "  \"classifier_dropout\": null,\n",
      "  \"gradient_checkpointing\": false,\n",
      "  \"hidden_act\": \"gelu\",\n",
      "  \"hidden_dropout_prob\": 0.1,\n",
      "  \"hidden_size\": 768,\n",
      "  \"initializer_range\": 0.02,\n",
      "  \"intermediate_size\": 3072,\n",
      "  \"layer_norm_eps\": 1e-12,\n",
      "  \"max_position_embeddings\": 512,\n",
      "  \"model_type\": \"bert\",\n",
      "  \"num_attention_heads\": 12,\n",
      "  \"num_hidden_layers\": 12,\n",
      "  \"pad_token_id\": 0,\n",
      "  \"position_embedding_type\": \"absolute\",\n",
      "  \"transformers_version\": \"4.24.0\",\n",
      "  \"type_vocab_size\": 2,\n",
      "  \"use_cache\": true,\n",
      "  \"vocab_size\": 30522\n",
      "}\n",
      "\n",
      "loading configuration file config.json from cache at C:\\Users\\haley/.cache\\huggingface\\hub\\models--bert-base-uncased\\snapshots\\5546055f03398095e385d7dc625e636cc8910bf2\\config.json\n",
      "Model config BertConfig {\n",
      "  \"architectures\": [\n",
      "    \"BertForMaskedLM\"\n",
      "  ],\n",
      "  \"attention_probs_dropout_prob\": 0.1,\n",
      "  \"classifier_dropout\": null,\n",
      "  \"gradient_checkpointing\": false,\n",
      "  \"hidden_act\": \"gelu\",\n",
      "  \"hidden_dropout_prob\": 0.1,\n",
      "  \"hidden_size\": 768,\n",
      "  \"initializer_range\": 0.02,\n",
      "  \"intermediate_size\": 3072,\n",
      "  \"layer_norm_eps\": 1e-12,\n",
      "  \"max_position_embeddings\": 512,\n",
      "  \"model_type\": \"bert\",\n",
      "  \"num_attention_heads\": 12,\n",
      "  \"num_hidden_layers\": 12,\n",
      "  \"pad_token_id\": 0,\n",
      "  \"position_embedding_type\": \"absolute\",\n",
      "  \"transformers_version\": \"4.24.0\",\n",
      "  \"type_vocab_size\": 2,\n",
      "  \"use_cache\": true,\n",
      "  \"vocab_size\": 30522\n",
      "}\n",
      "\n"
     ]
    },
    {
     "data": {
      "application/vnd.jupyter.widget-view+json": {
       "model_id": "c69ce1f089214cf9a36b41774a27b795",
       "version_major": 2,
       "version_minor": 0
      },
      "text/plain": [
       "Downloading:   0%|          | 0.00/536M [00:00<?, ?B/s]"
      ]
     },
     "metadata": {},
     "output_type": "display_data"
    },
    {
     "name": "stderr",
     "output_type": "stream",
     "text": [
      "C:\\Users\\haley\\anaconda3\\lib\\site-packages\\huggingface_hub\\file_download.py:123: UserWarning: `huggingface_hub` cache-system uses symlinks by default to efficiently store duplicated files but your machine does not support them in C:\\Users\\haley\\.cache\\huggingface\\hub. Caching files will still work but in a degraded version that might require more space on your disk. This warning can be disabled by setting the `HF_HUB_DISABLE_SYMLINKS_WARNING` environment variable. For more details, see https://huggingface.co/docs/huggingface_hub/how-to-cache#limitations.\n",
      "To support symlinks on Windows, you either need to activate Developer Mode or to run Python as an administrator. In order to see activate developer mode, see this article: https://docs.microsoft.com/en-us/windows/apps/get-started/enable-your-device-for-development\n",
      "  warnings.warn(message)\n",
      "loading weights file tf_model.h5 from cache at C:\\Users\\haley/.cache\\huggingface\\hub\\models--bert-base-uncased\\snapshots\\5546055f03398095e385d7dc625e636cc8910bf2\\tf_model.h5\n",
      "All model checkpoint layers were used when initializing TFBertForSequenceClassification.\n",
      "\n",
      "Some layers of TFBertForSequenceClassification were not initialized from the model checkpoint at bert-base-uncased and are newly initialized: ['classifier']\n",
      "You should probably TRAIN this model on a down-stream task to be able to use it for predictions and inference.\n"
     ]
    }
   ],
   "source": [
    "bert_tokenizer = BertTokenizer.from_pretrained(\"bert-base-uncased\")\n",
    "bert_model = TFBertForSequenceClassification.from_pretrained('bert-base-uncased', \n",
    "                                                             num_labels=num_classes)"
   ]
  },
  {
   "cell_type": "code",
   "execution_count": 28,
   "id": "78454b33-76e7-4044-8fd4-5cfd8e328172",
   "metadata": {},
   "outputs": [],
   "source": [
    "test_sent = \"this is a test for our model.\"\n",
    "tokenized_sequence= bert_tokenizer.encode_plus(test_sent,\n",
    "                                               add_special_tokens = True, \n",
    "                                               pad_to_max_length = True, \n",
    "                                               return_attention_mask = True)"
   ]
  },
  {
   "cell_type": "code",
   "execution_count": 29,
   "id": "2a1d2657-e9ab-4432-8720-b9415d43dca4",
   "metadata": {},
   "outputs": [
    {
     "data": {
      "text/plain": [
       "{'input_ids': [101, 2023, 2003, 1037, 3231, 2005, 2256, 2944, 1012, 102], 'token_type_ids': [0, 0, 0, 0, 0, 0, 0, 0, 0, 0], 'attention_mask': [1, 1, 1, 1, 1, 1, 1, 1, 1, 1]}"
      ]
     },
     "execution_count": 29,
     "metadata": {},
     "output_type": "execute_result"
    }
   ],
   "source": [
    "#tokenizer returns a dictionary with all the arguments necessary for its corresponding model to work properly\n",
    "tokenized_sequence"
   ]
  },
  {
   "cell_type": "code",
   "execution_count": 30,
   "id": "217f0359-a403-4c90-80ec-6df5c7a5b57a",
   "metadata": {},
   "outputs": [
    {
     "data": {
      "text/plain": [
       "'[CLS] this is a test for our model. [SEP]'"
      ]
     },
     "execution_count": 30,
     "metadata": {},
     "output_type": "execute_result"
    }
   ],
   "source": [
    "#Decode sentence\n",
    "bert_tokenizer.decode(tokenized_sequence['input_ids'])"
   ]
  },
  {
   "cell_type": "code",
   "execution_count": 35,
   "id": "34afdbd2-b24b-4e88-a6f1-9c102bb1dbe9",
   "metadata": {},
   "outputs": [
    {
     "data": {
      "text/plain": [
       "(72, 72)"
      ]
     },
     "execution_count": 35,
     "metadata": {},
     "output_type": "execute_result"
    }
   ],
   "source": [
    "#turn text and label column into variabels for tokenizer \n",
    "text = data['text']\n",
    "labels = data['label']\n",
    "len(text), len(labels) #make sure len is the same"
   ]
  },
  {
   "cell_type": "code",
   "execution_count": 55,
   "id": "ada9e269-6b15-498a-aea9-54501b07aeb9",
   "metadata": {},
   "outputs": [
    {
     "data": {
      "text/plain": [
       "dtype('int64')"
      ]
     },
     "execution_count": 55,
     "metadata": {},
     "output_type": "execute_result"
    }
   ],
   "source": [
    "labels.dtype"
   ]
  },
  {
   "cell_type": "code",
   "execution_count": 56,
   "id": "d078bb4d-71c5-4bfa-bbab-38c7146eb3a3",
   "metadata": {},
   "outputs": [
    {
     "data": {
      "text/plain": [
       "dtype('O')"
      ]
     },
     "execution_count": 56,
     "metadata": {},
     "output_type": "execute_result"
    }
   ],
   "source": [
    "text.dtype"
   ]
  },
  {
   "cell_type": "code",
   "execution_count": 63,
   "id": "a4cf3b90-6ab9-47ab-a822-db8d59c4d09a",
   "metadata": {},
   "outputs": [],
   "source": [
    "text = text.astype(str)"
   ]
  },
  {
   "cell_type": "code",
   "execution_count": 64,
   "id": "ad76f1e8-d281-4b90-8bb6-17219c5900f9",
   "metadata": {},
   "outputs": [
    {
     "data": {
      "text/plain": [
       "62    log register checkout languages currencies dol...\n",
       "44                  www drugscom rights reserved nannan\n",
       "24    skip main content senderra institute prescribe...\n",
       "52    skip content menu sbobet blog search search su...\n",
       "6     skip main content order status check drug cost...\n",
       "Name: text, dtype: object"
      ]
     },
     "execution_count": 64,
     "metadata": {},
     "output_type": "execute_result"
    }
   ],
   "source": [
    "text.head()"
   ]
  },
  {
   "cell_type": "markdown",
   "id": "a21f2972-2d9d-4158-b0dc-e54cd26e7003",
   "metadata": {},
   "source": [
    "#### Encoding of the text data using BERT Tokenizer and obtaining the input_ids and attentions masks to feed into the model"
   ]
  },
  {
   "cell_type": "code",
   "execution_count": 91,
   "id": "91993306-f2f0-4bc9-bbc8-063e3ba62fd4",
   "metadata": {},
   "outputs": [],
   "source": [
    "#Load the sentences into the BERT Tokenizer\n",
    "#BERT Tokenizer returns a dictionary - get input ds and the attention masks\n",
    "#Convert encoding to NumPy arrays\n",
    "input_ids = []\n",
    "attention_masks = []\n",
    "\n",
    "for sent in text:\n",
    "    #print(sent)\n",
    "    bert_inp = bert_tokenizer.encode_plus(sent, return_attention_mask = True)\n",
    "    #print(bert_inp)\n",
    "    input_ids.append(bert_inp['input_ids'])\n",
    "    attention_masks.append(bert_inp['attention_mask'])\n",
    "    #break\n",
    "#input_ids.astype('object')\n",
    "input_ids = np.array(input_ids, dtype=object)\n",
    "attention_masks = np.array(attention_masks, dtype=object)\n",
    "labels = np.array(labels)"
   ]
  },
  {
   "cell_type": "code",
   "execution_count": 93,
   "id": "49bae8ef-e0c3-4636-86d1-2ba9b87784c0",
   "metadata": {},
   "outputs": [
    {
     "data": {
      "text/plain": [
       "dtype('O')"
      ]
     },
     "execution_count": 93,
     "metadata": {},
     "output_type": "execute_result"
    }
   ],
   "source": [
    "input_ids.dtype"
   ]
  },
  {
   "cell_type": "code",
   "execution_count": 86,
   "id": "34046a95-7755-4f62-b1fb-3c86e0a2c5fa",
   "metadata": {},
   "outputs": [
    {
     "data": {
      "text/plain": [
       "(72, 72, 72)"
      ]
     },
     "execution_count": 86,
     "metadata": {},
     "output_type": "execute_result"
    }
   ],
   "source": [
    "len(input_ids), len(attention_masks), len(labels) #make sure they're all the same length"
   ]
  },
  {
   "cell_type": "markdown",
   "id": "da6c390e-99b4-4b1f-a1b7-1b5102870e21",
   "metadata": {},
   "source": [
    "### Split Data - Training & Validation\n",
    "- (80-20 split)"
   ]
  },
  {
   "cell_type": "code",
   "execution_count": 87,
   "id": "6949c7c2-a81a-4d4f-9ddd-218305924ade",
   "metadata": {},
   "outputs": [
    {
     "data": {
      "text/plain": [
       "(57, 15, 57, 15, 57, 15)"
      ]
     },
     "execution_count": 87,
     "metadata": {},
     "output_type": "execute_result"
    }
   ],
   "source": [
    "#Split into the random train and validation subsets\n",
    "train_inp, val_inp, train_label, val_label, train_mask, val_mask = train_test_split(input_ids,\n",
    "                                                                                    labels,\n",
    "                                                                                    attention_masks,\n",
    "                                                                                    test_size=0.2)\n",
    "\n",
    "len(train_inp), len(val_inp), len(train_label), len(val_label), len(train_mask), len(val_mask)"
   ]
  },
  {
   "cell_type": "markdown",
   "id": "90705f4b-d50a-4389-a38e-7512fee0af95",
   "metadata": {},
   "source": [
    "### Loss, Metric, Optmizer"
   ]
  },
  {
   "cell_type": "code",
   "execution_count": 88,
   "id": "1c56e6d7-e815-487e-bd0f-2317be88402e",
   "metadata": {},
   "outputs": [],
   "source": [
    "#a 'callback' can perform actions at various stages of training - write logs, save model to disk\n",
    "    #early stopping, view of internal state/stats during training\n",
    "'''\n",
    "log_dir='tensorboard_data/tb_bert'\n",
    "model_save_path='./models/bert_model.h5'\n",
    "\n",
    "callbacks = [tf.keras.callbacks.ModelCheckpoint(filepath=model_save_path,\n",
    "                                                save_weights_only=True,\n",
    "                                                monitor='val_loss',\n",
    "                                                mode='min',\n",
    "                                                save_best_only=True),\n",
    "             keras.callbacks.TensorBoard(log_dir=log_dir)]\n",
    "\n",
    "print('\\nBert Model', bert_model.summary())\n",
    "'''\n",
    "loss = tf.keras.losses.SparseCategoricalCrossentropy(from_logits=True)\n",
    "metric = tf.keras.metrics.SparseCategoricalAccuracy('accuracy')\n",
    "optimizer = tf.keras.optimizers.Adam(learning_rate=2e-5, epsilon=1e-08)\n",
    "\n",
    "bert_model.compile(loss=loss, optimizer=optimizer, metrics=[metric])"
   ]
  },
  {
   "cell_type": "markdown",
   "id": "77e608c4-e42f-40ee-9b71-cbc250a6ca38",
   "metadata": {},
   "source": [
    "### Train Model\n"
   ]
  },
  {
   "cell_type": "code",
   "execution_count": 98,
   "id": "93aacc66-4902-4e59-9220-8de6323f058f",
   "metadata": {},
   "outputs": [],
   "source": [
    "valid_dataset = ([val_inp, val_mask], val_label)"
   ]
  },
  {
   "cell_type": "code",
   "execution_count": 99,
   "id": "a739650f-0440-4150-b34d-a28acaf99f3c",
   "metadata": {},
   "outputs": [
    {
     "ename": "ValueError",
     "evalue": "Failed to convert a NumPy array to a Tensor (Unsupported object type list).",
     "output_type": "error",
     "traceback": [
      "\u001b[1;31m---------------------------------------------------------------------------\u001b[0m",
      "\u001b[1;31mValueError\u001b[0m                                Traceback (most recent call last)",
      "Input \u001b[1;32mIn [99]\u001b[0m, in \u001b[0;36m<cell line: 1>\u001b[1;34m()\u001b[0m\n\u001b[1;32m----> 1\u001b[0m train_model \u001b[38;5;241m=\u001b[39m \u001b[43mbert_model\u001b[49m\u001b[38;5;241;43m.\u001b[39;49m\u001b[43mfit\u001b[49m\u001b[43m(\u001b[49m\u001b[43m[\u001b[49m\u001b[43mtrain_inp\u001b[49m\u001b[43m,\u001b[49m\u001b[43m \u001b[49m\u001b[43mtrain_mask\u001b[49m\u001b[43m]\u001b[49m\u001b[43m,\u001b[49m\n\u001b[0;32m      2\u001b[0m \u001b[43m                             \u001b[49m\u001b[43mtrain_label\u001b[49m\u001b[43m,\u001b[49m\n\u001b[0;32m      3\u001b[0m \u001b[43m                             \u001b[49m\u001b[43mbatch_size\u001b[49m\u001b[38;5;241;43m=\u001b[39;49m\u001b[38;5;241;43m32\u001b[39;49m\u001b[43m,\u001b[49m\n\u001b[0;32m      4\u001b[0m \u001b[43m                             \u001b[49m\u001b[43mepochs\u001b[49m\u001b[38;5;241;43m=\u001b[39;49m\u001b[38;5;241;43m4\u001b[39;49m\u001b[43m,\u001b[49m\n\u001b[0;32m      5\u001b[0m \u001b[43m                             \u001b[49m\u001b[43mvalidation_data\u001b[49m\u001b[38;5;241;43m=\u001b[39;49m\u001b[43mvalid_dataset\u001b[49m\u001b[43m,\u001b[49m\n\u001b[0;32m      6\u001b[0m \u001b[43m                             \u001b[49m\u001b[43mcallbacks\u001b[49m\u001b[38;5;241;43m=\u001b[39;49m\u001b[43mcallbacks\u001b[49m\u001b[43m)\u001b[49m\n",
      "File \u001b[1;32m~\\anaconda3\\lib\\site-packages\\keras\\utils\\traceback_utils.py:67\u001b[0m, in \u001b[0;36mfilter_traceback.<locals>.error_handler\u001b[1;34m(*args, **kwargs)\u001b[0m\n\u001b[0;32m     65\u001b[0m \u001b[38;5;28;01mexcept\u001b[39;00m \u001b[38;5;167;01mException\u001b[39;00m \u001b[38;5;28;01mas\u001b[39;00m e:  \u001b[38;5;66;03m# pylint: disable=broad-except\u001b[39;00m\n\u001b[0;32m     66\u001b[0m   filtered_tb \u001b[38;5;241m=\u001b[39m _process_traceback_frames(e\u001b[38;5;241m.\u001b[39m__traceback__)\n\u001b[1;32m---> 67\u001b[0m   \u001b[38;5;28;01mraise\u001b[39;00m e\u001b[38;5;241m.\u001b[39mwith_traceback(filtered_tb) \u001b[38;5;28;01mfrom\u001b[39;00m \u001b[38;5;28mNone\u001b[39m\n\u001b[0;32m     68\u001b[0m \u001b[38;5;28;01mfinally\u001b[39;00m:\n\u001b[0;32m     69\u001b[0m   \u001b[38;5;28;01mdel\u001b[39;00m filtered_tb\n",
      "File \u001b[1;32m~\\anaconda3\\lib\\site-packages\\tensorflow\\python\\framework\\constant_op.py:102\u001b[0m, in \u001b[0;36mconvert_to_eager_tensor\u001b[1;34m(value, ctx, dtype)\u001b[0m\n\u001b[0;32m    100\u001b[0m     dtype \u001b[38;5;241m=\u001b[39m dtypes\u001b[38;5;241m.\u001b[39mas_dtype(dtype)\u001b[38;5;241m.\u001b[39mas_datatype_enum\n\u001b[0;32m    101\u001b[0m ctx\u001b[38;5;241m.\u001b[39mensure_initialized()\n\u001b[1;32m--> 102\u001b[0m \u001b[38;5;28;01mreturn\u001b[39;00m \u001b[43mops\u001b[49m\u001b[38;5;241;43m.\u001b[39;49m\u001b[43mEagerTensor\u001b[49m\u001b[43m(\u001b[49m\u001b[43mvalue\u001b[49m\u001b[43m,\u001b[49m\u001b[43m \u001b[49m\u001b[43mctx\u001b[49m\u001b[38;5;241;43m.\u001b[39;49m\u001b[43mdevice_name\u001b[49m\u001b[43m,\u001b[49m\u001b[43m \u001b[49m\u001b[43mdtype\u001b[49m\u001b[43m)\u001b[49m\n",
      "\u001b[1;31mValueError\u001b[0m: Failed to convert a NumPy array to a Tensor (Unsupported object type list)."
     ]
    }
   ],
   "source": [
    "train_model = bert_model.fit([train_inp, train_mask],\n",
    "                             train_label,\n",
    "                             batch_size=32,\n",
    "                             epochs=4,\n",
    "                             validation_data=valid_dataset,\n",
    "                             callbacks=callbacks)"
   ]
  },
  {
   "cell_type": "code",
   "execution_count": null,
   "id": "8fcf2a29-226d-4100-b9fe-8970bb330af6",
   "metadata": {},
   "outputs": [],
   "source": []
  }
 ],
 "metadata": {
  "kernelspec": {
   "display_name": "Python 3 (ipykernel)",
   "language": "python",
   "name": "python3"
  },
  "language_info": {
   "codemirror_mode": {
    "name": "ipython",
    "version": 3
   },
   "file_extension": ".py",
   "mimetype": "text/x-python",
   "name": "python",
   "nbconvert_exporter": "python",
   "pygments_lexer": "ipython3",
   "version": "3.9.7"
  }
 },
 "nbformat": 4,
 "nbformat_minor": 5
}
