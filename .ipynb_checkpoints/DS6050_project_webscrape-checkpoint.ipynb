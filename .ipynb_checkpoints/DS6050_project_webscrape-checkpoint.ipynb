{
  "nbformat": 4,
  "nbformat_minor": 0,
  "metadata": {
    "colab": {
      "provenance": []
    },
    "kernelspec": {
      "name": "python3",
      "display_name": "Python 3"
    },
    "language_info": {
      "name": "python"
    }
  },
  "cells": [
    {
      "cell_type": "markdown",
      "source": [
        "IMPORTS"
      ],
      "metadata": {
        "id": "jqWNV7oPyJOo"
      }
    },
    {
      "cell_type": "code",
      "execution_count": 4,
      "metadata": {
        "id": "H0qoFCMlx1z4"
      },
      "outputs": [],
      "source": [
        "import pandas as pd\n",
        "import numpy as np\n",
        "import requests\n",
        "from bs4 import BeautifulSoup\n",
        "from urllib.request import urlopen"
      ]
    },
    {
      "cell_type": "markdown",
      "source": [
        "GET LICENSE"
      ],
      "metadata": {
        "id": "-pV_kmSwyhf-"
      }
    },
    {
      "cell_type": "code",
      "source": [
        "url = \"http://www.amberpharmacy.com\"\n",
        "#'https://acariahealth.envolvehealth.com/'\n",
        "#'https://nabp.pharmacy/programs/accreditations-inspections/digital-pharmacy/accredited-digital-pharmacies/'\n",
        "headers = {'user-agent': 'ds6050 (fdf7gn@virginia.edu)'}\n",
        "r = requests.get((url) , headers=headers)\n",
        "soup = BeautifulSoup(r.text, 'html')"
      ],
      "metadata": {
        "id": "ugQhIF-oygPW"
      },
      "execution_count": 14,
      "outputs": []
    },
    {
      "cell_type": "code",
      "source": [
        "r"
      ],
      "metadata": {
        "colab": {
          "base_uri": "https://localhost:8080/"
        },
        "id": "Z_RcNBUCQgpw",
        "outputId": "979366de-886a-4dfa-a444-98d6ecadebbb"
      },
      "execution_count": 15,
      "outputs": [
        {
          "output_type": "execute_result",
          "data": {
            "text/plain": [
              "<Response [403]>"
            ]
          },
          "metadata": {},
          "execution_count": 15
        }
      ]
    },
    {
      "cell_type": "code",
      "source": [
        "img = soup.find_all(\"img\") #soup.find_all(\"a\", attrs={\"src\":\"https://openbadges.blob.core.windows.net/bakedbadges-us/\"})\n",
        "img"
      ],
      "metadata": {
        "colab": {
          "base_uri": "https://localhost:8080/"
        },
        "id": "SenOVavgRJbX",
        "outputId": "05bf0ada-4a8d-48e3-e4d1-37b1131ca10c"
      },
      "execution_count": 16,
      "outputs": [
        {
          "output_type": "execute_result",
          "data": {
            "text/plain": [
              "[<img alt=\"External link\" class=\"external-link\" src=\"/cdn-cgi/images/external.png\" title=\"Opens in new tab\"/>,\n",
              " <img alt=\"External link\" class=\"external-link\" src=\"/cdn-cgi/images/external.png\" title=\"Opens in new tab\"/>]"
            ]
          },
          "metadata": {},
          "execution_count": 16
        }
      ]
    },
    {
      "cell_type": "code",
      "source": [
        "badge = [i['src'] for i in img if i['src'].startswith('https://openbadges')]\n",
        "badge"
      ],
      "metadata": {
        "colab": {
          "base_uri": "https://localhost:8080/"
        },
        "id": "5NYqIM2pJdie",
        "outputId": "d0d56b2d-40e9-4c4d-dcca-ea43c9940087"
      },
      "execution_count": 17,
      "outputs": [
        {
          "output_type": "execute_result",
          "data": {
            "text/plain": [
              "[]"
            ]
          },
          "metadata": {},
          "execution_count": 17
        }
      ]
    },
    {
      "cell_type": "code",
      "source": [
        "urlLinks = [\"https://alphascriptrx.com/\", \"https://acariahealth.envolvehealth.com/\"] #, \"https://alto.com\", \"https://www.amberpharmacy.com\"]"
      ],
      "metadata": {
        "id": "YAhP1nzpMpeF"
      },
      "execution_count": 5,
      "outputs": []
    },
    {
      "cell_type": "code",
      "source": [
        "def get_license(url):\n",
        "  headers = {'user-agent': 'ds6050 (fdf7gn@virginia.edu)'}\n",
        "  r = requests.get(url, headers=headers)\n",
        "  soup = BeautifulSoup(r.text, 'html')\n",
        "\n",
        "  img = soup.find_all(\"img\") #soup.find_all(\"a\", attrs={\"src\":\"https://openbadges.blob.core.windows.net/bakedbadges-us/\"})\n",
        "  badge = [i['src'] for i in img if i['src'].startswith('https://openbadges')]\n",
        "  return badge\n"
      ],
      "metadata": {
        "id": "8Lw66jesLkUx"
      },
      "execution_count": 6,
      "outputs": []
    },
    {
      "cell_type": "code",
      "source": [
        "license_list = []\n",
        "for u in urlLinks:\n",
        "  #print(url)\n",
        "  license = get_license(u)\n",
        "  license_list.append(license)\n",
        "license_list"
      ],
      "metadata": {
        "colab": {
          "base_uri": "https://localhost:8080/"
        },
        "id": "gaTMP5g0MKfo",
        "outputId": "1275f9af-3d1c-47fb-fee0-ac0f22b44267"
      },
      "execution_count": 7,
      "outputs": [
        {
          "output_type": "execute_result",
          "data": {
            "text/plain": [
              "[['https://openbadges.blob.core.windows.net/bakedbadges-us/f279c890-aa1f-43bc-822d-c78c619a148e-2fd08020-00fe-4dbc-8334-dcb2b4e7f941.png'],\n",
              " ['https://openbadges.blob.core.windows.net/bakedbadges-us/f279c890-aa1f-43bc-822d-c78c619a148e-bdb2e6a4-b512-4286-ad23-a2bba794eb59.png']]"
            ]
          },
          "metadata": {},
          "execution_count": 7
        }
      ]
    },
    {
      "cell_type": "markdown",
      "source": [
        "GET WEBSITE LINKS"
      ],
      "metadata": {
        "id": "oVjU43niSYXJ"
      }
    },
    {
      "cell_type": "code",
      "source": [
        "table = soup.find_all(\"div\", \"container1\")\n",
        "table"
      ],
      "metadata": {
        "colab": {
          "base_uri": "https://localhost:8080/"
        },
        "id": "zcHEiiA-XUSK",
        "outputId": "b9d2b138-a9bc-4177-c475-8a68669d3316"
      },
      "execution_count": null,
      "outputs": [
        {
          "output_type": "execute_result",
          "data": {
            "text/plain": [
              "[]"
            ]
          },
          "metadata": {},
          "execution_count": 49
        }
      ]
    },
    {
      "cell_type": "code",
      "source": [],
      "metadata": {
        "id": "zKjO1zyqZQbA"
      },
      "execution_count": null,
      "outputs": []
    },
    {
      "cell_type": "code",
      "source": [
        "urlLinks = [\"https://alphascriptrx.com/\", \"https://acariahealth.envolvehealth.com/\"]\n",
        "#'https://nabp.pharmacy/programs/accreditations-inspections/digital-pharmacy/accredited-digital-pharmacies/'\n",
        "\n",
        "def myFunc(link):\n",
        "  r = requests.get(urlLinks)\n",
        "  #htmldata = urlopen(urlLinks)\n",
        "  soup = BeautifulSoup(r.text, 'html.parser')\n",
        "  images = soup.find_all('img')\n",
        "  print(images)\n",
        "\n",
        "  for item in images:\n",
        "    img_dict = {}\n",
        "    if i['src'].startswith('https://openbadges'):\n",
        "      link = print(item['src'])\n",
        "    img_dict.append(link)\n",
        "  return img_dict"
      ],
      "metadata": {
        "id": "dJzF260py-9q"
      },
      "execution_count": 8,
      "outputs": []
    },
    {
      "cell_type": "code",
      "source": [
        "\n",
        "mainDF = pd.DataFrame()\n",
        "\n",
        "for item in urlLinks:\n",
        "  dictObj = myFunc(item)\n",
        "  dfObject = pd.DataFrame(dictObject)\n",
        "  mainDataFrame.append(dfObject)\n"
      ],
      "metadata": {
        "id": "uIqwpMXLp1TB"
      },
      "execution_count": null,
      "outputs": []
    }
  ]
}