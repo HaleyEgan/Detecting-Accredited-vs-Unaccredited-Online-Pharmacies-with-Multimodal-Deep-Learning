{
  "nbformat": 4,
  "nbformat_minor": 0,
  "metadata": {
    "colab": {
      "provenance": [],
      "collapsed_sections": [],
      "authorship_tag": "ABX9TyOBOQlHCDNYggkzauQAe+A+",
      "include_colab_link": true
    },
    "kernelspec": {
      "name": "python3",
      "display_name": "Python 3"
    },
    "language_info": {
      "name": "python"
    }
  },
  "cells": [
    {
      "cell_type": "markdown",
      "metadata": {
        "id": "view-in-github",
        "colab_type": "text"
      },
      "source": [
        "<a href=\"https://colab.research.google.com/github/HaleyEgan/Detecting-Accredited-vs-Unaccredited-Online-Pharmacies-with-Multimodal-Deep-Learning/blob/main/zip_lookup_rough.ipynb\" target=\"_parent\"><img src=\"https://colab.research.google.com/assets/colab-badge.svg\" alt=\"Open In Colab\"/></a>"
      ]
    },
    {
      "cell_type": "code",
      "execution_count": null,
      "metadata": {
        "id": "0QHd4p-5E0gL"
      },
      "outputs": [],
      "source": [
        "import xml.etree.ElementTree as ET\n",
        "import io\n",
        "import requests\n",
        "from bs4 import BeautifulSoup"
      ]
    },
    {
      "cell_type": "code",
      "source": [
        "def zipLookup(zcode):\n",
        "  root = ET.Element(\"CityStateLookupRequest\", USERID=\"847WIPRO1073\")\n",
        "  m1 = ET.SubElement(root, \"ZipCode\", ID=\"0\")\n",
        "  ET.SubElement(m1, \"Zip5\").text = zcode\n",
        "  tree = ET.ElementTree(root)\n",
        "  out = io.BytesIO()\n",
        "  tree.write(out)\n",
        "  zip_xml = out.getvalue().decode()\n",
        "  site = f\"https://secure.shippingapis.com/ShippingAPITest.dll?API=CityStateLookup&XML={zip_xml}\"\n",
        "  response = requests.get(site)\n",
        "  r = BeautifulSoup(response.text, 'html')\n",
        "  city = r.find_all('city')\n",
        "  print(city)\n",
        "  if not city:\n",
        "     print(\"Invalid ZipCode\")\n",
        "  else:\n",
        "     print(\"Valid ZipCode\")\n"
      ],
      "metadata": {
        "id": "ZYtl7zto92Sn"
      },
      "execution_count": null,
      "outputs": []
    },
    {
      "cell_type": "code",
      "source": [
        "zcode = \"23059\"\n",
        "zipLookup(zcode)"
      ],
      "metadata": {
        "colab": {
          "base_uri": "https://localhost:8080/"
        },
        "id": "5D-D0FBC-svz",
        "outputId": "9da66b25-bdf6-4fe3-dbc4-ff455ade054f"
      },
      "execution_count": null,
      "outputs": [
        {
          "output_type": "stream",
          "name": "stdout",
          "text": [
            "[<city>GLEN ALLEN</city>]\n",
            "Valid ZipCode\n"
          ]
        }
      ]
    },
    {
      "cell_type": "code",
      "source": [],
      "metadata": {
        "id": "QWG_nkP0uksn"
      },
      "execution_count": null,
      "outputs": []
    }
  ]
}