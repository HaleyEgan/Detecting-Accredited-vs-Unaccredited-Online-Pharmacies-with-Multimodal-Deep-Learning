{
  "nbformat": 4,
  "nbformat_minor": 0,
  "metadata": {
    "colab": {
      "provenance": [],
      "collapsed_sections": [],
      "authorship_tag": "ABX9TyOYrMmidfAuJj5mjrvkPmSL",
      "include_colab_link": true
    },
    "kernelspec": {
      "name": "python3",
      "display_name": "Python 3"
    },
    "language_info": {
      "name": "python"
    }
  },
  "cells": [
    {
      "cell_type": "markdown",
      "metadata": {
        "id": "view-in-github",
        "colab_type": "text"
      },
      "source": [
        "<a href=\"https://colab.research.google.com/github/HaleyEgan/Detecting-Accredited-vs-Unaccredited-Online-Pharmacies-with-Multimodal-Deep-Learning/blob/main/zip_lookup_rough.ipynb\" target=\"_parent\"><img src=\"https://colab.research.google.com/assets/colab-badge.svg\" alt=\"Open In Colab\"/></a>"
      ]
    },
    {
      "cell_type": "code",
      "execution_count": 67,
      "metadata": {
        "id": "0QHd4p-5E0gL"
      },
      "outputs": [],
      "source": [
        "import xml.etree.ElementTree as ET\n",
        "import io\n",
        "import requests\n",
        "from bs4 import BeautifulSoup"
      ]
    },
    {
      "cell_type": "code",
      "source": [
        "def zipLookup(zcode):\n",
        "  root = ET.Element(\"CityStateLookupRequest\", USERID=\"847WIPRO1073\")\n",
        "  m1 = ET.SubElement(root, \"ZipCode\", ID=\"0\")\n",
        "  ET.SubElement(m1, \"Zip5\").text = zcode\n",
        "  tree = ET.ElementTree(root)\n",
        "  out = io.BytesIO()\n",
        "  tree.write(out)\n",
        "  zip_xml = out.getvalue().decode()\n",
        "  site = f\"https://secure.shippingapis.com/ShippingAPITest.dll?API=CityStateLookup&XML={zip_xml}\"\n",
        "  response = requests.get(site)\n",
        "  r = BeautifulSoup(response.text, 'html')\n",
        "  city = r.find_all('city')\n",
        "  print(city)\n",
        "  if not city:\n",
        "     print(\"Invalid ZipCode\")\n",
        "  else:\n",
        "     print(\"Valid ZipCode\")\n"
      ],
      "metadata": {
        "id": "ZYtl7zto92Sn"
      },
      "execution_count": 70,
      "outputs": []
    },
    {
      "cell_type": "code",
      "source": [
        "zcode = \"23059\"\n",
        "zipLookup(zcode)"
      ],
      "metadata": {
        "colab": {
          "base_uri": "https://localhost:8080/"
        },
        "id": "5D-D0FBC-svz",
        "outputId": "9da66b25-bdf6-4fe3-dbc4-ff455ade054f"
      },
      "execution_count": 71,
      "outputs": [
        {
          "output_type": "stream",
          "name": "stdout",
          "text": [
            "[<city>GLEN ALLEN</city>]\n",
            "Valid ZipCode\n"
          ]
        }
      ]
    },
    {
      "cell_type": "code",
      "source": [
        "def GenerateXML() :\n",
        "      \n",
        "    root = ET.Element(\"CityStateLookupRequest\")\n",
        "      \n",
        "    m1 = ET.Element(\"ZipCode\")\n",
        "    root.append (m1)\n",
        "      \n",
        "    b1 = ET.SubElement(m1, \"Zip5\")\n",
        "    b1.text = '23059'\n",
        "\n",
        "      \n",
        "      \n",
        "    tree = ET.ElementTree(root)\n",
        "    return tree"
      ],
      "metadata": {
        "id": "OA2ay3AhE8G-"
      },
      "execution_count": 10,
      "outputs": []
    },
    {
      "cell_type": "code",
      "source": [
        "if __name__ == \"__main__\": \n",
        "    tree = GenerateXML()"
      ],
      "metadata": {
        "id": "san7xUx0GHVU"
      },
      "execution_count": 13,
      "outputs": []
    },
    {
      "cell_type": "code",
      "source": [
        "print(tree)"
      ],
      "metadata": {
        "colab": {
          "base_uri": "https://localhost:8080/"
        },
        "id": "qN5b2cz1GWIe",
        "outputId": "61f926db-b538-4c28-b1af-9c1997b6dc33"
      },
      "execution_count": 14,
      "outputs": [
        {
          "output_type": "stream",
          "name": "stdout",
          "text": [
            "<xml.etree.ElementTree.ElementTree object at 0x7ff6807d2b90>\n"
          ]
        }
      ]
    },
    {
      "cell_type": "code",
      "source": [
        "root = ET.Element(\"CityStateLookupRequest\", USERID=\"847WIPRO1073\")\n",
        "m1 = ET.SubElement(root, \"ZipCode\", ID=\"0\")\n",
        "ET.SubElement(m1, \"Zip5\").text = \"23059\"\n",
        "\n",
        "tree = ET.ElementTree(root)\n",
        "tree.write(\"filename.xml\")"
      ],
      "metadata": {
        "id": "nev0w_QmGXq1"
      },
      "execution_count": 58,
      "outputs": []
    },
    {
      "cell_type": "code",
      "source": [
        "import io\n",
        "out = io.BytesIO()\n",
        "tree.write(out)\n",
        "zip_xml = out.getvalue().decode()"
      ],
      "metadata": {
        "id": "ZrOb9sSM7ZMG"
      },
      "execution_count": 65,
      "outputs": []
    },
    {
      "cell_type": "code",
      "source": [
        "zip_xml = \"\"\"<CityStateLookupRequest USERID=\"847WIPRO1073\"> <ZipCode ID='0'> <Zip5>23059</Zip5> </ZipCode> </CityStateLookupRequest>\"\"\""
      ],
      "metadata": {
        "id": "qiO-mq4cmfd0"
      },
      "execution_count": 47,
      "outputs": []
    },
    {
      "cell_type": "code",
      "source": [
        "zip_xml"
      ],
      "metadata": {
        "colab": {
          "base_uri": "https://localhost:8080/",
          "height": 36
        },
        "id": "R9lEnDR4mr4v",
        "outputId": "4123cc72-c94d-4fd3-9ea3-5889f95a8cf5"
      },
      "execution_count": 48,
      "outputs": [
        {
          "output_type": "execute_result",
          "data": {
            "text/plain": [
              "'<CityStateLookupRequest USERID=\"847WIPRO1073\"> <ZipCode ID=\\'0\\'> <Zip5>23059</Zip5> </ZipCode> </CityStateLookupRequest>'"
            ],
            "application/vnd.google.colaboratory.intrinsic+json": {
              "type": "string"
            }
          },
          "metadata": {},
          "execution_count": 48
        }
      ]
    },
    {
      "cell_type": "code",
      "source": [
        "import requests\n",
        "site = f\"https://secure.shippingapis.com/ShippingAPITest.dll?API=CityStateLookup&XML={zip_xml}\"\n",
        "response = requests.get(site)\n",
        "print(response.content)"
      ],
      "metadata": {
        "colab": {
          "base_uri": "https://localhost:8080/"
        },
        "id": "NKii256zm4aq",
        "outputId": "12a464a8-ae4c-4d50-8aed-8d3d43c9ef88"
      },
      "execution_count": 66,
      "outputs": [
        {
          "output_type": "stream",
          "name": "stdout",
          "text": [
            "b'<?xml version=\"1.0\" encoding=\"UTF-8\"?>\\n<CityStateLookupResponse><ZipCode ID=\"0\"><Zip5>23059</Zip5><City>GLEN ALLEN</City><State>VA</State></ZipCode></CityStateLookupResponse>'\n"
          ]
        }
      ]
    },
    {
      "cell_type": "code",
      "source": [
        "print(site)"
      ],
      "metadata": {
        "colab": {
          "base_uri": "https://localhost:8080/"
        },
        "id": "PRTJnSJinY2l",
        "outputId": "d713189a-15a0-4938-9103-22dc0f7d1793"
      },
      "execution_count": 50,
      "outputs": [
        {
          "output_type": "stream",
          "name": "stdout",
          "text": [
            "https://secure.shippingapis.com/ShippingAPITest.dll?API=CityStateLookup&XML=<CityStateLookupRequest USERID=\"847WIPRO1073\"> <ZipCode ID='0'> <Zip5>23059</Zip5> </ZipCode> </CityStateLookupRequest>\n"
          ]
        }
      ]
    },
    {
      "cell_type": "code",
      "source": [
        "from bs4 import BeautifulSoup\n",
        "add = BeautifulSoup(response.text, 'html')\n",
        "i = add.find_all('city')\n",
        "print(i)\n",
        "if not i:\n",
        "  print(\"Invalid Code\")\n",
        "else:\n",
        "  print(\"Valid Code\")"
      ],
      "metadata": {
        "colab": {
          "base_uri": "https://localhost:8080/"
        },
        "id": "YDuNmnB4oTIl",
        "outputId": "6c3340f9-5768-4a33-df10-3d0561372824"
      },
      "execution_count": 51,
      "outputs": [
        {
          "output_type": "stream",
          "name": "stdout",
          "text": [
            "[<city>GLEN ALLEN</city>]\n",
            "Valid Code\n"
          ]
        }
      ]
    },
    {
      "cell_type": "code",
      "source": [
        "r"
      ],
      "metadata": {
        "colab": {
          "base_uri": "https://localhost:8080/",
          "height": 36
        },
        "id": "UFlCxH6zqQi2",
        "outputId": "097a06d1-bdc2-45e7-e6ee-3f843c931523"
      },
      "execution_count": 12,
      "outputs": [
        {
          "output_type": "execute_result",
          "data": {
            "text/plain": [
              "'<?xml version=\"1.0\" encoding=\"UTF-8\"?>\\n<CityStateLookupResponse><ZipCode ID=\"0\"><Zip5>23059</Zip5><City>GLEN ALLEN</City><State>VA</State></ZipCode></CityStateLookupResponse>'"
            ],
            "application/vnd.google.colaboratory.intrinsic+json": {
              "type": "string"
            }
          },
          "metadata": {},
          "execution_count": 12
        }
      ]
    },
    {
      "cell_type": "code",
      "source": [
        "try:\n",
        "  site = f\"https://secure.shippingapis.com/ShippingAPITest.dll?API=CityStateLookup&XML={zip_xml}\"\n",
        "  response = requests.get(site)\n",
        "  print(response.content)\n",
        "except:\n",
        "  print(\"Invalid Code\")\n"
      ],
      "metadata": {
        "colab": {
          "base_uri": "https://localhost:8080/"
        },
        "id": "fJlWHOw1qgbJ",
        "outputId": "09e894e4-a540-4d10-e684-fceeb111c0a5"
      },
      "execution_count": 32,
      "outputs": [
        {
          "output_type": "stream",
          "name": "stdout",
          "text": [
            "b'<?xml version=\"1.0\" encoding=\"UTF-8\"?>\\n<CityStateLookupResponse><ZipCode ID=\"0\"><Error><Number>-2147219399</Number><Source>WebtoolsAMS;CityStateLookup</Source><Description>Invalid Zip Code.</Description><HelpFile/><HelpContext/></Error></ZipCode></CityStateLookupResponse>'\n"
          ]
        }
      ]
    },
    {
      "cell_type": "code",
      "source": [],
      "metadata": {
        "id": "QWG_nkP0uksn"
      },
      "execution_count": null,
      "outputs": []
    }
  ]
}