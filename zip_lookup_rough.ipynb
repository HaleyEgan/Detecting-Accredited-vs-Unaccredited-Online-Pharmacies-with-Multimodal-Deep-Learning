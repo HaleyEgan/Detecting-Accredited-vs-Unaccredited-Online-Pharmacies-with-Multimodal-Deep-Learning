{
  "nbformat": 4,
  "nbformat_minor": 0,
  "metadata": {
    "colab": {
      "provenance": [],
      "collapsed_sections": [],
      "authorship_tag": "ABX9TyMNtpq2lcKfJMXx9v10eQro",
      "include_colab_link": true
    },
    "kernelspec": {
      "name": "python3",
      "display_name": "Python 3"
    },
    "language_info": {
      "name": "python"
    }
  },
  "cells": [
    {
      "cell_type": "markdown",
      "metadata": {
        "id": "view-in-github",
        "colab_type": "text"
      },
      "source": [
        "<a href=\"https://colab.research.google.com/github/HaleyEgan/Detecting-Accredited-vs-Unaccredited-Online-Pharmacies-with-Multimodal-Deep-Learning/blob/main/zip_lookup_rough.ipynb\" target=\"_parent\"><img src=\"https://colab.research.google.com/assets/colab-badge.svg\" alt=\"Open In Colab\"/></a>"
      ]
    },
    {
      "cell_type": "code",
      "execution_count": 4,
      "metadata": {
        "id": "0QHd4p-5E0gL"
      },
      "outputs": [],
      "source": [
        "import xml.etree.ElementTree as ET\n",
        "import io\n",
        "import requests\n",
        "from bs4 import BeautifulSoup\n",
        "import http.client\n",
        "import mimetypes\n",
        "import json"
      ]
    },
    {
      "cell_type": "code",
      "source": [
        "def zipLookup(zcode):\n",
        "  root = ET.Element(\"CityStateLookupRequest\", USERID=\"847WIPRO1073\")\n",
        "  m1 = ET.SubElement(root, \"ZipCode\", ID=\"0\")\n",
        "  ET.SubElement(m1, \"Zip5\").text = zcode\n",
        "  tree = ET.ElementTree(root)\n",
        "  out = io.BytesIO()\n",
        "  tree.write(out)\n",
        "  zip_xml = out.getvalue().decode()\n",
        "  site = f\"https://secure.shippingapis.com/ShippingAPITest.dll?API=CityStateLookup&XML={zip_xml}\"\n",
        "  response = requests.get(site)\n",
        "  r = BeautifulSoup(response.text, 'html')\n",
        "  city = r.find_all('city')\n",
        "  print(city)\n",
        "  if not city:\n",
        "     print(\"Invalid ZipCode\")\n",
        "  else:\n",
        "     print(\"Valid ZipCode\")\n"
      ],
      "metadata": {
        "id": "ZYtl7zto92Sn"
      },
      "execution_count": null,
      "outputs": []
    },
    {
      "cell_type": "code",
      "source": [
        "zcode = \"23059\"\n",
        "zipLookup(zcode)"
      ],
      "metadata": {
        "colab": {
          "base_uri": "https://localhost:8080/"
        },
        "id": "5D-D0FBC-svz",
        "outputId": "9da66b25-bdf6-4fe3-dbc4-ff455ade054f"
      },
      "execution_count": null,
      "outputs": [
        {
          "output_type": "stream",
          "name": "stdout",
          "text": [
            "[<city>GLEN ALLEN</city>]\n",
            "Valid ZipCode\n"
          ]
        }
      ]
    },
    {
      "cell_type": "code",
      "source": [
        "def phoneLookup(contact):\n",
        "  conn = http.client.HTTPSConnection(\"api.veriphone.io\")\n",
        "  phone = contact\n",
        "  key = '9FF3B68481994437A10B698E6EB5D5A4'\n",
        "  default_country = '+1'\n",
        "  url = '/v2/verify?phone='+phone+'&key='+key+'&default_country='+default_country\n",
        "  conn.request(\"GET\", url)\n",
        "  res = conn.getresponse()\n",
        "  datajs = res.read()\n",
        "  data = json.loads(datajs.decode(\"utf-8\"))\n",
        "  return data "
      ],
      "metadata": {
        "id": "QWG_nkP0uksn"
      },
      "execution_count": 2,
      "outputs": []
    },
    {
      "cell_type": "code",
      "source": [
        "contact = '832875326'\n",
        "ph = phoneLookup(contact)\n",
        "print(ph)\n",
        "print(\"Contact Number Valid (True/False): \" + str(ph['phone_valid']))\n",
        "print(ph['country'])\n",
        "print(ph['international_number'])\n",
        "print(ph['carrier'])"
      ],
      "metadata": {
        "id": "qQlFsce2gTWr",
        "outputId": "07628f7e-2ed5-40d7-d76c-64033db01e27",
        "colab": {
          "base_uri": "https://localhost:8080/"
        }
      },
      "execution_count": 6,
      "outputs": [
        {
          "output_type": "stream",
          "name": "stdout",
          "text": [
            "{'status': 'success', 'phone': '832875326', 'phone_valid': False, 'phone_type': 'unknown', 'phone_region': '', 'country': '', 'country_code': '', 'country_prefix': '0', 'international_number': '+1 832875326', 'local_number': '832875326', 'e164': '+1832875326', 'carrier': ''}\n",
            "Contact Number Valid (True/False): False\n",
            "\n",
            "+1 832875326\n",
            "\n"
          ]
        }
      ]
    }
  ]
}