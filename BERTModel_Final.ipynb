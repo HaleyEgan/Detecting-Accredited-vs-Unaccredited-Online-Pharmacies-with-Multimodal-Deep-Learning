{
 "cells": [
  {
   "cell_type": "markdown",
   "id": "dd74d1ac-92c4-41bb-9879-3352eeef6a82",
   "metadata": {},
   "source": [
    "## BERT for Pharmacy Website Text Classification\n",
    "### Goal: Train model to determine if online pharmacy is accredited or not.\n",
    "#### Dataset: \n",
    "- Accredited Online Pharmacies are labeled 0\n",
    "- Non-Accredited Online Pharmacies are labeled 1 \n",
    "- 'Text' column created in this notebook is a combination of body, footer, and header text scraped from each website\n",
    "- This is a subset of websites. The final dataset will be larger."
   ]
  },
  {
   "cell_type": "markdown",
   "id": "3319c0da-f02d-4d1c-b1c6-36a4b767b102",
   "metadata": {},
   "source": [
    "### Text Pre-Processing for Feature-Based Training\n",
    "- BERT (Bidirectional Encoder Representations from Transformers)\n",
    "- BERT makes use of a Transformer, an attention mechanism that learns contextual relations between words (or sub-words) in a text\n",
    "- Transformer includes two separate mechanisms — an encoder that reads the text input and a decoder that produces a prediction for the task. \n",
    "- Since BERT’s goal is to generate a language model, only the encoder mechanism is necessary\n",
    "- the Transformer encoder reads the entire sequence of words at once\n",
    "\n",
    "- Resources: \n",
    "    - https://keras.io/examples/nlp/text_extraction_with_bert/#preprocess-the-data\n",
    "    - https://collab.its.virginia.edu/access/lessonbuilder/item/2079372/group/25e8dc9b-3e66-4249-ae38-3a124dead1e4/Module%207:%20Seque_%2010_12%20-%2010_18/7.5%20%20Video%20+%20Qu_%20and%20Attention/M7.5_%20NLP%20with%20Attention,%20Transformers,%20and%20BERT.pdf\n",
    "    - https://towardsdatascience.com/multi-label-text-classification-using-bert-and-tensorflow-d2e88d8f488d#98ee\n",
    "    - https://curiousily.com/posts/multi-label-text-classification-with-bert-and-pytorch-lightning/\n",
    "    - https://www.tensorflow.org/text/tutorials/classify_text_with_bert\n",
    "    - https://swatimeena989.medium.com/bert-text-classification-using-keras-903671e0207d\n",
    "    - https://towardsdatascience.com/how-to-train-a-bert-model-from-scratch-72cfce554fc6\n",
    "    - https://huggingface.co/docs/tokenizers/pipeline"
   ]
  },
  {
   "attachments": {
    "371ae26e-6063-4cb6-b68b-0ea720530d26.jpg": {
     "image/jpeg": "[encoded data removed]"
    }
   },
   "cell_type": "markdown",
   "id": "f5b0e530-6716-4573-a6c3-4d3a076e17d5",
   "metadata": {},
   "source": [
    "![bertmodel.jpg](attachment:371ae26e-6063-4cb6-b68b-0ea720530d26.jpg)\n",
    "\n",
    "Two-Phase training:\n",
    "\n",
    "1.) Pretrain to understand language\n",
    "\n",
    "2.) Finetune to learn a specific task\n"
   ]
  },
  {
   "cell_type": "markdown",
   "id": "6fe9c3a0-9c58-4437-a06f-d000812c9105",
   "metadata": {},
   "source": [
    "### Setup"
   ]
  },
  {
   "cell_type": "code",
   "execution_count": 1,
   "id": "5f0db4fc-a724-4f48-99c4-22a768cbc44a",
   "metadata": {},
   "outputs": [],
   "source": [
    "#import libraries\n",
    "import tensorflow as tf\n",
    "import tensorflow_hub as hub\n",
    "import pandas as pd\n",
    "from sklearn.model_selection import train_test_split\n",
    "import numpy as np\n",
    "import re\n",
    "import unicodedata\n",
    "import nltk\n",
    "from nltk.corpus import stopwords\n",
    "import keras\n",
    "from tqdm import tqdm\n",
    "import pickle\n",
    "from keras.models import Model\n",
    "import keras.backend as K\n",
    "from sklearn.metrics import confusion_matrix,f1_score,classification_report\n",
    "import matplotlib.pyplot as plt\n",
    "from keras.callbacks import ModelCheckpoint\n",
    "import itertools\n",
    "from keras.models import load_model\n",
    "from sklearn.utils import shuffle\n",
    "from transformers import *\n",
    "from transformers import BertTokenizer, TFBertModel, BertConfig\n",
    "import tensorflow_text as text\n",
    "\n",
    "\n",
    "# to make this notebook's output stable across runs\n",
    "np.random.seed(42)\n",
    "tf.random.set_seed(42)"
   ]
  },
  {
   "cell_type": "markdown",
   "id": "ec4eb449-0ac8-4814-a747-4db40348d7c2",
   "metadata": {},
   "source": [
    "### Load Data"
   ]
  },
  {
   "cell_type": "code",
   "execution_count": 2,
   "id": "7a2699bd-3cf7-4a59-b1b5-b3bb400276df",
   "metadata": {},
   "outputs": [
    {
     "data": {
      "text/html": [
       "<div>\n",
       "<style scoped>\n",
       "    .dataframe tbody tr th:only-of-type {\n",
       "        vertical-align: middle;\n",
       "    }\n",
       "\n",
       "    .dataframe tbody tr th {\n",
       "        vertical-align: top;\n",
       "    }\n",
       "\n",
       "    .dataframe thead th {\n",
       "        text-align: right;\n",
       "    }\n",
       "</style>\n",
       "<table border=\"1\" class=\"dataframe\">\n",
       "  <thead>\n",
       "    <tr style=\"text-align: right;\">\n",
       "      <th></th>\n",
       "      <th>Website</th>\n",
       "      <th>Body</th>\n",
       "      <th>Header</th>\n",
       "      <th>Footer</th>\n",
       "      <th>Image Urls</th>\n",
       "      <th>Accredited</th>\n",
       "      <th>Complete_html</th>\n",
       "      <th>Zipcode</th>\n",
       "      <th>Valid_phone</th>\n",
       "    </tr>\n",
       "  </thead>\n",
       "  <tbody>\n",
       "    <tr>\n",
       "      <th>0</th>\n",
       "      <td>https://acariahealth.envolvehealth.com</td>\n",
       "      <td>Skip to Main Content Home Contact Insights Sea...</td>\n",
       "      <td>Home Contact Insights Search Search About Over...</td>\n",
       "      <td>Locations Referral Forms Careers Disclaimer HI...</td>\n",
       "      <td>['https://acariahealth.envolvehealth.com/conte...</td>\n",
       "      <td>0</td>\n",
       "      <td>Skip to Main Content Home Contact Insights Sea...</td>\n",
       "      <td>0</td>\n",
       "      <td>1</td>\n",
       "    </tr>\n",
       "    <tr>\n",
       "      <th>1</th>\n",
       "      <td>https://alto.com</td>\n",
       "      <td>Shop Alto Essentials to add pharmacy products ...</td>\n",
       "      <td>Shop Alto Essentials to add pharmacy products ...</td>\n",
       "      <td>Our Story Careers Drive for Alto For Providers...</td>\n",
       "      <td>['https://images.prismic.io/alto/176341aa-258d...</td>\n",
       "      <td>0</td>\n",
       "      <td>Shop Alto Essentials to add pharmacy products ...</td>\n",
       "      <td>0</td>\n",
       "      <td>1</td>\n",
       "    </tr>\n",
       "    <tr>\n",
       "      <th>2</th>\n",
       "      <td>https://www.amberpharmacy.com</td>\n",
       "      <td>Loading... Skip to navigation Skip to main con...</td>\n",
       "      <td>NaN</td>\n",
       "      <td>About Careers 340B Hospital Program Locations ...</td>\n",
       "      <td>['https://www.amberpharmacy.com/wp-content/the...</td>\n",
       "      <td>0</td>\n",
       "      <td>NaN</td>\n",
       "      <td>0</td>\n",
       "      <td>0</td>\n",
       "    </tr>\n",
       "    <tr>\n",
       "      <th>3</th>\n",
       "      <td>https://www.aoncology.com</td>\n",
       "      <td>For Patients Careers Blog Practice Success Pat...</td>\n",
       "      <td>For Patients Careers Blog Practice Success Pat...</td>\n",
       "      <td>© 2020 American Oncology Network, LLC. All Rig...</td>\n",
       "      <td>['https://dc.ads.linkedin.com/collect/?pid=944...</td>\n",
       "      <td>0</td>\n",
       "      <td>For Patients Careers Blog Practice Success Pat...</td>\n",
       "      <td>1</td>\n",
       "      <td>0</td>\n",
       "    </tr>\n",
       "    <tr>\n",
       "      <th>4</th>\n",
       "      <td>https://www.birdirx.com</td>\n",
       "      <td>Loading... × Close alert Fly with Birdi!  Free...</td>\n",
       "      <td>NaN</td>\n",
       "      <td>Support Hours of Operation Monday through Frid...</td>\n",
       "      <td>[\"https://www.birdirx.comdata:image/svg+xml;ch...</td>\n",
       "      <td>0</td>\n",
       "      <td>NaN</td>\n",
       "      <td>0</td>\n",
       "      <td>0</td>\n",
       "    </tr>\n",
       "  </tbody>\n",
       "</table>\n",
       "</div>"
      ],
      "text/plain": [
       "                                  Website  \\\n",
       "0  https://acariahealth.envolvehealth.com   \n",
       "1                        https://alto.com   \n",
       "2           https://www.amberpharmacy.com   \n",
       "3               https://www.aoncology.com   \n",
       "4                 https://www.birdirx.com   \n",
       "\n",
       "                                                Body  \\\n",
       "0  Skip to Main Content Home Contact Insights Sea...   \n",
       "1  Shop Alto Essentials to add pharmacy products ...   \n",
       "2  Loading... Skip to navigation Skip to main con...   \n",
       "3  For Patients Careers Blog Practice Success Pat...   \n",
       "4  Loading... × Close alert Fly with Birdi!  Free...   \n",
       "\n",
       "                                              Header  \\\n",
       "0  Home Contact Insights Search Search About Over...   \n",
       "1  Shop Alto Essentials to add pharmacy products ...   \n",
       "2                                                NaN   \n",
       "3  For Patients Careers Blog Practice Success Pat...   \n",
       "4                                                NaN   \n",
       "\n",
       "                                              Footer  \\\n",
       "0  Locations Referral Forms Careers Disclaimer HI...   \n",
       "1  Our Story Careers Drive for Alto For Providers...   \n",
       "2  About Careers 340B Hospital Program Locations ...   \n",
       "3  © 2020 American Oncology Network, LLC. All Rig...   \n",
       "4  Support Hours of Operation Monday through Frid...   \n",
       "\n",
       "                                          Image Urls  Accredited  \\\n",
       "0  ['https://acariahealth.envolvehealth.com/conte...           0   \n",
       "1  ['https://images.prismic.io/alto/176341aa-258d...           0   \n",
       "2  ['https://www.amberpharmacy.com/wp-content/the...           0   \n",
       "3  ['https://dc.ads.linkedin.com/collect/?pid=944...           0   \n",
       "4  [\"https://www.birdirx.comdata:image/svg+xml;ch...           0   \n",
       "\n",
       "                                       Complete_html  Zipcode  Valid_phone  \n",
       "0  Skip to Main Content Home Contact Insights Sea...        0            1  \n",
       "1  Shop Alto Essentials to add pharmacy products ...        0            1  \n",
       "2                                                NaN        0            0  \n",
       "3  For Patients Careers Blog Practice Success Pat...        1            0  \n",
       "4                                                NaN        0            0  "
      ]
     },
     "execution_count": 2,
     "metadata": {},
     "output_type": "execute_result"
    }
   ],
   "source": [
    "#import data\n",
    "pharm_data = pd.read_csv('pharmacy_dataset_reduced.csv')\n",
    "data = pharm_data.copy()\n",
    "data.head(2)\n",
    "len(data)"
   ]
  },
  {
   "cell_type": "markdown",
   "id": "4dbfabd5-e25e-4923-8675-6ed097dca9ee",
   "metadata": {},
   "source": [
    "### Preprocess & Clean Data"
   ]
  },
  {
   "cell_type": "code",
   "execution_count": 3,
   "id": "092c4dd8-3f67-4844-8577-c385b4d0b63a",
   "metadata": {},
   "outputs": [],
   "source": [
    "def unicode_to_ascii(s):\n",
    "    return ''.join(c for c in unicodedata.normalize('NFD', s) if unicodedata.category(c) != 'Mn')\n",
    "\n",
    "def clean_stopwords_shortwords(w):\n",
    "    stopwords_list=stopwords.words('english')\n",
    "    words = w.split() \n",
    "    clean_words = [word for word in words if (word not in stopwords_list) and len(word) > 2]\n",
    "    return \" \".join(clean_words) \n",
    "\n",
    "def preprocess_sentence(w):\n",
    "    w = unicode_to_ascii(w.lower().strip())\n",
    "    w = re.sub(r\"([?.!,¿])\", r\" \", w)\n",
    "    w = re.sub(r'[\" \"]+', \" \", w)\n",
    "    w = re.sub(r\"[^a-zA-Z?.!,¿]+\", \" \", w)\n",
    "    w=clean_stopwords_shortwords(w)\n",
    "    w=re.sub(r'@\\w+', '',w)\n",
    "    return w"
   ]
  },
  {
   "cell_type": "code",
   "execution_count": 4,
   "id": "36e06a85-2762-4b97-8e15-e30f7892fccc",
   "metadata": {},
   "outputs": [
    {
     "data": {
      "text/html": [
       "<div>\n",
       "<style scoped>\n",
       "    .dataframe tbody tr th:only-of-type {\n",
       "        vertical-align: middle;\n",
       "    }\n",
       "\n",
       "    .dataframe tbody tr th {\n",
       "        vertical-align: top;\n",
       "    }\n",
       "\n",
       "    .dataframe thead th {\n",
       "        text-align: right;\n",
       "    }\n",
       "</style>\n",
       "<table border=\"1\" class=\"dataframe\">\n",
       "  <thead>\n",
       "    <tr style=\"text-align: right;\">\n",
       "      <th></th>\n",
       "      <th>Website</th>\n",
       "      <th>Body</th>\n",
       "      <th>Header</th>\n",
       "      <th>Footer</th>\n",
       "      <th>Image Urls</th>\n",
       "      <th>Accredited</th>\n",
       "      <th>Complete_html</th>\n",
       "      <th>Zipcode</th>\n",
       "      <th>Valid_phone</th>\n",
       "      <th>text</th>\n",
       "    </tr>\n",
       "  </thead>\n",
       "  <tbody>\n",
       "    <tr>\n",
       "      <th>0</th>\n",
       "      <td>https://acariahealth.envolvehealth.com</td>\n",
       "      <td>Skip to Main Content Home Contact Insights Sea...</td>\n",
       "      <td>Home Contact Insights Search Search About Over...</td>\n",
       "      <td>Locations Referral Forms Careers Disclaimer HI...</td>\n",
       "      <td>['https://acariahealth.envolvehealth.com/conte...</td>\n",
       "      <td>0</td>\n",
       "      <td>Skip to Main Content Home Contact Insights Sea...</td>\n",
       "      <td>0</td>\n",
       "      <td>1</td>\n",
       "      <td>Skip to Main Content Home Contact Insights Sea...</td>\n",
       "    </tr>\n",
       "    <tr>\n",
       "      <th>1</th>\n",
       "      <td>https://alto.com</td>\n",
       "      <td>Shop Alto Essentials to add pharmacy products ...</td>\n",
       "      <td>Shop Alto Essentials to add pharmacy products ...</td>\n",
       "      <td>Our Story Careers Drive for Alto For Providers...</td>\n",
       "      <td>['https://images.prismic.io/alto/176341aa-258d...</td>\n",
       "      <td>0</td>\n",
       "      <td>Shop Alto Essentials to add pharmacy products ...</td>\n",
       "      <td>0</td>\n",
       "      <td>1</td>\n",
       "      <td>Shop Alto Essentials to add pharmacy products ...</td>\n",
       "    </tr>\n",
       "  </tbody>\n",
       "</table>\n",
       "</div>"
      ],
      "text/plain": [
       "                                  Website  \\\n",
       "0  https://acariahealth.envolvehealth.com   \n",
       "1                        https://alto.com   \n",
       "\n",
       "                                                Body  \\\n",
       "0  Skip to Main Content Home Contact Insights Sea...   \n",
       "1  Shop Alto Essentials to add pharmacy products ...   \n",
       "\n",
       "                                              Header  \\\n",
       "0  Home Contact Insights Search Search About Over...   \n",
       "1  Shop Alto Essentials to add pharmacy products ...   \n",
       "\n",
       "                                              Footer  \\\n",
       "0  Locations Referral Forms Careers Disclaimer HI...   \n",
       "1  Our Story Careers Drive for Alto For Providers...   \n",
       "\n",
       "                                          Image Urls  Accredited  \\\n",
       "0  ['https://acariahealth.envolvehealth.com/conte...           0   \n",
       "1  ['https://images.prismic.io/alto/176341aa-258d...           0   \n",
       "\n",
       "                                       Complete_html  Zipcode  Valid_phone  \\\n",
       "0  Skip to Main Content Home Contact Insights Sea...        0            1   \n",
       "1  Shop Alto Essentials to add pharmacy products ...        0            1   \n",
       "\n",
       "                                                text  \n",
       "0  Skip to Main Content Home Contact Insights Sea...  \n",
       "1  Shop Alto Essentials to add pharmacy products ...  "
      ]
     },
     "execution_count": 4,
     "metadata": {},
     "output_type": "execute_result"
    }
   ],
   "source": [
    "#combine columns into new column containing all text\n",
    "data['text'] = data['Body'].astype(str) + data['Header'].astype(str) + data['Footer'].astype(str)\n",
    "data.head(2)"
   ]
  },
  {
   "cell_type": "code",
   "execution_count": 5,
   "id": "23e44509-6427-445d-b93d-9c4238c5cd88",
   "metadata": {},
   "outputs": [
    {
     "data": {
      "text/html": [
       "<div>\n",
       "<style scoped>\n",
       "    .dataframe tbody tr th:only-of-type {\n",
       "        vertical-align: middle;\n",
       "    }\n",
       "\n",
       "    .dataframe tbody tr th {\n",
       "        vertical-align: top;\n",
       "    }\n",
       "\n",
       "    .dataframe thead th {\n",
       "        text-align: right;\n",
       "    }\n",
       "</style>\n",
       "<table border=\"1\" class=\"dataframe\">\n",
       "  <thead>\n",
       "    <tr style=\"text-align: right;\">\n",
       "      <th></th>\n",
       "      <th>Website</th>\n",
       "      <th>Body</th>\n",
       "      <th>Header</th>\n",
       "      <th>Footer</th>\n",
       "      <th>Image Urls</th>\n",
       "      <th>label</th>\n",
       "      <th>Complete_html</th>\n",
       "      <th>Zipcode</th>\n",
       "      <th>Valid_phone</th>\n",
       "      <th>text</th>\n",
       "    </tr>\n",
       "  </thead>\n",
       "  <tbody>\n",
       "    <tr>\n",
       "      <th>0</th>\n",
       "      <td>https://acariahealth.envolvehealth.com</td>\n",
       "      <td>Skip to Main Content Home Contact Insights Sea...</td>\n",
       "      <td>Home Contact Insights Search Search About Over...</td>\n",
       "      <td>Locations Referral Forms Careers Disclaimer HI...</td>\n",
       "      <td>['https://acariahealth.envolvehealth.com/conte...</td>\n",
       "      <td>0</td>\n",
       "      <td>Skip to Main Content Home Contact Insights Sea...</td>\n",
       "      <td>0</td>\n",
       "      <td>1</td>\n",
       "      <td>Skip to Main Content Home Contact Insights Sea...</td>\n",
       "    </tr>\n",
       "    <tr>\n",
       "      <th>1</th>\n",
       "      <td>https://alto.com</td>\n",
       "      <td>Shop Alto Essentials to add pharmacy products ...</td>\n",
       "      <td>Shop Alto Essentials to add pharmacy products ...</td>\n",
       "      <td>Our Story Careers Drive for Alto For Providers...</td>\n",
       "      <td>['https://images.prismic.io/alto/176341aa-258d...</td>\n",
       "      <td>0</td>\n",
       "      <td>Shop Alto Essentials to add pharmacy products ...</td>\n",
       "      <td>0</td>\n",
       "      <td>1</td>\n",
       "      <td>Shop Alto Essentials to add pharmacy products ...</td>\n",
       "    </tr>\n",
       "  </tbody>\n",
       "</table>\n",
       "</div>"
      ],
      "text/plain": [
       "                                  Website  \\\n",
       "0  https://acariahealth.envolvehealth.com   \n",
       "1                        https://alto.com   \n",
       "\n",
       "                                                Body  \\\n",
       "0  Skip to Main Content Home Contact Insights Sea...   \n",
       "1  Shop Alto Essentials to add pharmacy products ...   \n",
       "\n",
       "                                              Header  \\\n",
       "0  Home Contact Insights Search Search About Over...   \n",
       "1  Shop Alto Essentials to add pharmacy products ...   \n",
       "\n",
       "                                              Footer  \\\n",
       "0  Locations Referral Forms Careers Disclaimer HI...   \n",
       "1  Our Story Careers Drive for Alto For Providers...   \n",
       "\n",
       "                                          Image Urls  label  \\\n",
       "0  ['https://acariahealth.envolvehealth.com/conte...      0   \n",
       "1  ['https://images.prismic.io/alto/176341aa-258d...      0   \n",
       "\n",
       "                                       Complete_html  Zipcode  Valid_phone  \\\n",
       "0  Skip to Main Content Home Contact Insights Sea...        0            1   \n",
       "1  Shop Alto Essentials to add pharmacy products ...        0            1   \n",
       "\n",
       "                                                text  \n",
       "0  Skip to Main Content Home Contact Insights Sea...  \n",
       "1  Shop Alto Essentials to add pharmacy products ...  "
      ]
     },
     "execution_count": 5,
     "metadata": {},
     "output_type": "execute_result"
    }
   ],
   "source": [
    "#rename Accredited as 'label'\n",
    "data=data.rename(columns = {'Accredited': 'label'}, inplace = False)\n",
    "data.head(2)"
   ]
  },
  {
   "cell_type": "code",
   "execution_count": 6,
   "id": "1c71ee3f-172d-4b30-9850-ce6377b60a02",
   "metadata": {},
   "outputs": [],
   "source": [
    "#reduce dataset to only the columns we need, 'label' and 'text'\n",
    "data = data.drop(['Website', 'Body', 'Header', 'Footer', 'Image Urls', 'Complete_html', 'Zipcode', 'Valid_phone'], axis=1)"
   ]
  },
  {
   "cell_type": "code",
   "execution_count": 7,
   "id": "01cb61cb-b3be-4b24-8c62-0f43647dda4c",
   "metadata": {},
   "outputs": [
    {
     "data": {
      "text/html": [
       "<div>\n",
       "<style scoped>\n",
       "    .dataframe tbody tr th:only-of-type {\n",
       "        vertical-align: middle;\n",
       "    }\n",
       "\n",
       "    .dataframe tbody tr th {\n",
       "        vertical-align: top;\n",
       "    }\n",
       "\n",
       "    .dataframe thead th {\n",
       "        text-align: right;\n",
       "    }\n",
       "</style>\n",
       "<table border=\"1\" class=\"dataframe\">\n",
       "  <thead>\n",
       "    <tr style=\"text-align: right;\">\n",
       "      <th></th>\n",
       "      <th>label</th>\n",
       "      <th>text</th>\n",
       "    </tr>\n",
       "  </thead>\n",
       "  <tbody>\n",
       "    <tr>\n",
       "      <th>0</th>\n",
       "      <td>0</td>\n",
       "      <td>Skip to Main Content Home Contact Insights Sea...</td>\n",
       "    </tr>\n",
       "    <tr>\n",
       "      <th>1</th>\n",
       "      <td>0</td>\n",
       "      <td>Shop Alto Essentials to add pharmacy products ...</td>\n",
       "    </tr>\n",
       "    <tr>\n",
       "      <th>2</th>\n",
       "      <td>0</td>\n",
       "      <td>Loading... Skip to navigation Skip to main con...</td>\n",
       "    </tr>\n",
       "  </tbody>\n",
       "</table>\n",
       "</div>"
      ],
      "text/plain": [
       "   label                                               text\n",
       "0      0  Skip to Main Content Home Contact Insights Sea...\n",
       "1      0  Shop Alto Essentials to add pharmacy products ...\n",
       "2      0  Loading... Skip to navigation Skip to main con..."
      ]
     },
     "execution_count": 7,
     "metadata": {},
     "output_type": "execute_result"
    }
   ],
   "source": [
    "#Sentences contain the entire text data and labels contain all the corresponding labels\n",
    "data.head(3)"
   ]
  },
  {
   "cell_type": "code",
   "execution_count": 8,
   "id": "3fbfcd1d-4616-4d13-8987-d8160ec37f6d",
   "metadata": {},
   "outputs": [],
   "source": [
    "#drop any missing values\n",
    "data = data.dropna()"
   ]
  },
  {
   "cell_type": "code",
   "execution_count": 9,
   "id": "270be1ce-3456-4e70-92f0-fb76d8acd24c",
   "metadata": {},
   "outputs": [
    {
     "data": {
      "text/html": [
       "<div>\n",
       "<style scoped>\n",
       "    .dataframe tbody tr th:only-of-type {\n",
       "        vertical-align: middle;\n",
       "    }\n",
       "\n",
       "    .dataframe tbody tr th {\n",
       "        vertical-align: top;\n",
       "    }\n",
       "\n",
       "    .dataframe thead th {\n",
       "        text-align: right;\n",
       "    }\n",
       "</style>\n",
       "<table border=\"1\" class=\"dataframe\">\n",
       "  <thead>\n",
       "    <tr style=\"text-align: right;\">\n",
       "      <th></th>\n",
       "      <th>label</th>\n",
       "      <th>text</th>\n",
       "    </tr>\n",
       "  </thead>\n",
       "  <tbody>\n",
       "    <tr>\n",
       "      <th>4</th>\n",
       "      <td>0</td>\n",
       "      <td>Loading... × Close alert Fly with Birdi!  Free...</td>\n",
       "    </tr>\n",
       "    <tr>\n",
       "      <th>62</th>\n",
       "      <td>1</td>\n",
       "      <td>Log In Register Checkout Languages: Currencies...</td>\n",
       "    </tr>\n",
       "    <tr>\n",
       "      <th>18</th>\n",
       "      <td>0</td>\n",
       "      <td>Looking to save up to 80% on your medications?...</td>\n",
       "    </tr>\n",
       "  </tbody>\n",
       "</table>\n",
       "</div>"
      ],
      "text/plain": [
       "    label                                               text\n",
       "4       0  Loading... × Close alert Fly with Birdi!  Free...\n",
       "62      1  Log In Register Checkout Languages: Currencies...\n",
       "18      0  Looking to save up to 80% on your medications?..."
      ]
     },
     "execution_count": 9,
     "metadata": {},
     "output_type": "execute_result"
    }
   ],
   "source": [
    "#reset index\n",
    "data=data.reset_index(drop=True) \n",
    "#shuffle data\n",
    "data = shuffle(data)   \n",
    "data.head(3)"
   ]
  },
  {
   "cell_type": "code",
   "execution_count": 10,
   "id": "6272327a-f1ff-456a-ac15-b0668ae1e234",
   "metadata": {},
   "outputs": [
    {
     "data": {
      "text/html": [
       "<div>\n",
       "<style scoped>\n",
       "    .dataframe tbody tr th:only-of-type {\n",
       "        vertical-align: middle;\n",
       "    }\n",
       "\n",
       "    .dataframe tbody tr th {\n",
       "        vertical-align: top;\n",
       "    }\n",
       "\n",
       "    .dataframe thead th {\n",
       "        text-align: right;\n",
       "    }\n",
       "</style>\n",
       "<table border=\"1\" class=\"dataframe\">\n",
       "  <thead>\n",
       "    <tr style=\"text-align: right;\">\n",
       "      <th></th>\n",
       "      <th>label</th>\n",
       "      <th>text</th>\n",
       "    </tr>\n",
       "  </thead>\n",
       "  <tbody>\n",
       "    <tr>\n",
       "      <th>4</th>\n",
       "      <td>0</td>\n",
       "      <td>loading close alert fly birdi free shipping or...</td>\n",
       "    </tr>\n",
       "    <tr>\n",
       "      <th>62</th>\n",
       "      <td>1</td>\n",
       "      <td>log register checkout languages currencies dol...</td>\n",
       "    </tr>\n",
       "    <tr>\n",
       "      <th>18</th>\n",
       "      <td>0</td>\n",
       "      <td>looking save medications find mygeniusrx healt...</td>\n",
       "    </tr>\n",
       "  </tbody>\n",
       "</table>\n",
       "</div>"
      ],
      "text/plain": [
       "    label                                               text\n",
       "4       0  loading close alert fly birdi free shipping or...\n",
       "62      1  log register checkout languages currencies dol...\n",
       "18      0  looking save medications find mygeniusrx healt..."
      ]
     },
     "execution_count": 10,
     "metadata": {},
     "output_type": "execute_result"
    }
   ],
   "source": [
    "#apply the function to clean the text - all lower case, strip spaces and characters \n",
    "data['text']=data['text'].map(preprocess_sentence)    \n",
    "data.head(3)"
   ]
  },
  {
   "cell_type": "markdown",
   "id": "5f23c128-d30e-4626-bcf4-b47c87da188a",
   "metadata": {},
   "source": [
    "### Split Data - Training & Testing"
   ]
  },
  {
   "cell_type": "code",
   "execution_count": 11,
   "id": "42cc4290-89d8-4f5c-971a-2fa6028827a6",
   "metadata": {},
   "outputs": [
    {
     "data": {
      "text/plain": [
       "2"
      ]
     },
     "execution_count": 11,
     "metadata": {},
     "output_type": "execute_result"
    }
   ],
   "source": [
    "#define the number of unique classes under 'label'\n",
    "num_classes=len(data.label.unique())\n",
    "num_classes"
   ]
  },
  {
   "cell_type": "code",
   "execution_count": 12,
   "id": "0c353831-5872-4ca6-8039-239f72b59e2d",
   "metadata": {},
   "outputs": [],
   "source": [
    "#define y variable\n",
    "y = tf.keras.utils.to_categorical(data[\"label\"].values, num_classes=num_classes)\n",
    "#y"
   ]
  },
  {
   "cell_type": "code",
   "execution_count": 13,
   "id": "ae372ae7-f20d-4ca9-b488-7d8096c309e5",
   "metadata": {},
   "outputs": [
    {
     "data": {
      "text/plain": [
       "(50, 22, 50, 22)"
      ]
     },
     "execution_count": 13,
     "metadata": {},
     "output_type": "execute_result"
    }
   ],
   "source": [
    "#split data into test and train\n",
    "x_train, x_test, y_train, y_test = train_test_split(data['text'], y, test_size=0.3)\n",
    "len(x_train), len(x_test), len(y_train), len(y_test)"
   ]
  },
  {
   "cell_type": "markdown",
   "id": "aedeb195-7148-49fd-91bb-0ad28be047ec",
   "metadata": {},
   "source": [
    "### Data Modeling"
   ]
  },
  {
   "cell_type": "markdown",
   "id": "da918d68-197a-46d5-8762-4f223be4f986",
   "metadata": {},
   "source": [
    "#### Load BERT with TensorFlow Hub\n",
    "- repository of trained machine learning models\n",
    "- use universal-sentence-encoder-cmlm/multilingual-base = universal sentence encoder (100+ languages)\n",
    "    - uses conditional masked language model\n",
    "- Goal: turn text into high-dim vectors that capture sentence-level semantics\n",
    "    - get embeddings from input text with preprocessor and encoder"
   ]
  },
  {
   "cell_type": "code",
   "execution_count": 14,
   "id": "b83d7471-d20c-42e0-a067-2ffba9b55953",
   "metadata": {},
   "outputs": [
    {
     "name": "stdout",
     "output_type": "stream",
     "text": [
      "WARNING:tensorflow:Please fix your imports. Module tensorflow.python.training.tracking.data_structures has been moved to tensorflow.python.trackable.data_structures. The old module will be deleted in version 2.11.\n"
     ]
    }
   ],
   "source": [
    "#load bert with tensorflow hub\n",
    "preprocessor = hub.KerasLayer(\"https://tfhub.dev/google/universal-sentence-encoder-cmlm/multilingual-preprocess/2\")\n",
    "encoder = hub.KerasLayer(\"https://tfhub.dev/google/universal-sentence-encoder-cmlm/multilingual-base/1\")\n",
    "\n",
    "#function to get word embeddings\n",
    "def get_embeddings(sentences):\n",
    "  '''return BERT-like embeddings of input text\n",
    "  Args:\n",
    "    - sentences: list of strings\n",
    "  Output:\n",
    "    - BERT-like embeddings: tf.Tensor of shape=(len(sentences), 768)\n",
    "  '''\n",
    "  preprocessed_text = preprocessor(sentences)\n",
    "  return encoder(preprocessed_text)['pooled_output']\n",
    "\n",
    "#test function\n",
    "#get_embeddings([\n",
    "   # \"This is a test para ver el futuro of the model.\"])"
   ]
  },
  {
   "cell_type": "code",
   "execution_count": 15,
   "id": "442c59b1-edd3-4dcc-b4e6-4a6c9a48ed94",
   "metadata": {},
   "outputs": [],
   "source": [
    "## Note: an option in the future is to observe semantic textual similarities"
   ]
  },
  {
   "cell_type": "markdown",
   "id": "6ecabf30-0907-479b-a159-3d667d8e727a",
   "metadata": {},
   "source": [
    "### Create & Train Classification Model\n",
    "- Observe different metrics during training: Precision, Recall, F1 Score"
   ]
  },
  {
   "cell_type": "code",
   "execution_count": 16,
   "id": "4d23d5ab-e025-4a1d-b69b-420e88b273aa",
   "metadata": {},
   "outputs": [],
   "source": [
    "#resource: https://towardsdatascience.com/multi-label-text-classification-using-bert-and-tensorflow-d2e88d8f488d#98ee\n",
    "from keras import backend as K\n",
    "\n",
    "#functions to find recall\n",
    "def balanced_recall(y_true, y_pred):\n",
    "    \"\"\"This function calculates the balanced recall metric\n",
    "    recall = TP / (TP + FN)\n",
    "    \"\"\"\n",
    "    recall_by_class = 0\n",
    "    # iterate over each predicted class to get class-specific metric\n",
    "    for i in range(y_pred.shape[1]):\n",
    "        y_pred_class = y_pred[:, i]\n",
    "        y_true_class = y_true[:, i]\n",
    "        true_positives = K.sum(K.round(K.clip(y_true_class * y_pred_class, 0, 1)))\n",
    "        possible_positives = K.sum(K.round(K.clip(y_true_class, 0, 1)))\n",
    "        recall = true_positives / (possible_positives + K.epsilon())\n",
    "        recall_by_class = recall_by_class + recall\n",
    "    return recall_by_class / y_pred.shape[1]\n",
    "\n",
    "#functions to find precision\n",
    "def balanced_precision(y_true, y_pred):\n",
    "    \"\"\"This function calculates the balanced precision metric\n",
    "    precision = TP / (TP + FP)\n",
    "    \"\"\"\n",
    "    precision_by_class = 0\n",
    "    # iterate over each predicted class to get class-specific metric\n",
    "    for i in range(y_pred.shape[1]):\n",
    "        y_pred_class = y_pred[:, i]\n",
    "        y_true_class = y_true[:, i]\n",
    "        true_positives = K.sum(K.round(K.clip(y_true_class * y_pred_class, 0, 1)))\n",
    "        predicted_positives = K.sum(K.round(K.clip(y_pred_class, 0, 1)))\n",
    "        precision = true_positives / (predicted_positives + K.epsilon())\n",
    "        precision_by_class = precision_by_class + precision\n",
    "    # return average balanced metric for each class\n",
    "    return precision_by_class / y_pred.shape[1]\n",
    "\n",
    "#functions to find f1 score\n",
    "def balanced_f1_score(y_true, y_pred):\n",
    "    \"\"\"This function calculates the F1 score metric\"\"\"\n",
    "    precision = balanced_precision(y_true, y_pred)\n",
    "    recall = balanced_recall(y_true, y_pred)\n",
    "    return 2 * ((precision * recall) / (precision + recall + K.epsilon()))"
   ]
  },
  {
   "cell_type": "markdown",
   "id": "5e49f522-af83-402e-9cd1-e98bc7899da4",
   "metadata": {},
   "source": [
    "#### Define Model\n",
    "- preporcessor & encoder layers\n",
    "- dropout & dense layer with softmax activation function\n",
    "- output space dimension = # of classes "
   ]
  },
  {
   "cell_type": "code",
   "execution_count": 17,
   "id": "4f8a4ac9-7c39-45ed-8893-4fc3647bb1b0",
   "metadata": {},
   "outputs": [],
   "source": [
    "#define model\n",
    "i = tf.keras.layers.Input(shape=(), dtype=tf.string, name='text')\n",
    "x = preprocessor(i)\n",
    "x = encoder(x)\n",
    "x = tf.keras.layers.Dropout(0.2, name=\"dropout\")(x['pooled_output'])\n",
    "x = tf.keras.layers.Dense(num_classes, activation='softmax', name=\"output\")(x)\n",
    "\n",
    "model = tf.keras.Model(i, x)"
   ]
  },
  {
   "cell_type": "markdown",
   "id": "82b53280-b5e8-47e8-bdbd-d24e8f3fee41",
   "metadata": {},
   "source": [
    "#### Compile & Fit Model"
   ]
  },
  {
   "cell_type": "code",
   "execution_count": 18,
   "id": "691b5eda-4e9e-45f8-9401-fa778597d8fb",
   "metadata": {},
   "outputs": [
    {
     "name": "stdout",
     "output_type": "stream",
     "text": [
      "Epoch 1/50\n",
      "2/2 [==============================] - 19s 6s/step - loss: 0.7415 - accuracy: 0.5000 - balanced_recall: 0.5437 - balanced_precision: 0.5469 - balanced_f1_score: 0.5453 - val_loss: 0.6204 - val_accuracy: 0.6818 - val_balanced_recall: 0.6250 - val_balanced_precision: 0.6143 - val_balanced_f1_score: 0.6196\n",
      "Epoch 2/50\n",
      "2/2 [==============================] - 7s 4s/step - loss: 0.6324 - accuracy: 0.6200 - balanced_recall: 0.6375 - balanced_precision: 0.6468 - balanced_f1_score: 0.6421 - val_loss: 0.5736 - val_accuracy: 0.7727 - val_balanced_recall: 0.6354 - val_balanced_precision: 0.7281 - val_balanced_f1_score: 0.6786\n",
      "Epoch 3/50\n",
      "2/2 [==============================] - 7s 4s/step - loss: 0.6417 - accuracy: 0.6600 - balanced_recall: 0.6562 - balanced_precision: 0.7500 - balanced_f1_score: 0.6993 - val_loss: 0.5501 - val_accuracy: 0.8182 - val_balanced_recall: 0.7188 - val_balanced_precision: 0.7917 - val_balanced_f1_score: 0.7534\n",
      "Epoch 4/50\n",
      "2/2 [==============================] - 7s 4s/step - loss: 0.5525 - accuracy: 0.7200 - balanced_recall: 0.7065 - balanced_precision: 0.7125 - balanced_f1_score: 0.7095 - val_loss: 0.5316 - val_accuracy: 0.8182 - val_balanced_recall: 0.7188 - val_balanced_precision: 0.7917 - val_balanced_f1_score: 0.7534\n",
      "Epoch 5/50\n",
      "2/2 [==============================] - 7s 4s/step - loss: 0.5259 - accuracy: 0.7600 - balanced_recall: 0.7570 - balanced_precision: 0.7563 - balanced_f1_score: 0.7566 - val_loss: 0.5193 - val_accuracy: 0.8636 - val_balanced_recall: 0.8021 - val_balanced_precision: 0.8412 - val_balanced_f1_score: 0.8212\n",
      "Epoch 6/50\n",
      "2/2 [==============================] - 7s 4s/step - loss: 0.4941 - accuracy: 0.8400 - balanced_recall: 0.8634 - balanced_precision: 0.8656 - balanced_f1_score: 0.8645 - val_loss: 0.5105 - val_accuracy: 0.9091 - val_balanced_recall: 0.8854 - val_balanced_precision: 0.8854 - val_balanced_f1_score: 0.8854\n",
      "Epoch 7/50\n",
      "2/2 [==============================] - 7s 4s/step - loss: 0.4670 - accuracy: 0.9200 - balanced_recall: 0.9282 - balanced_precision: 0.9111 - balanced_f1_score: 0.9196 - val_loss: 0.4927 - val_accuracy: 0.9091 - val_balanced_recall: 0.8854 - val_balanced_precision: 0.8854 - val_balanced_f1_score: 0.8854\n",
      "Epoch 8/50\n",
      "2/2 [==============================] - 7s 4s/step - loss: 0.4260 - accuracy: 0.9200 - balanced_recall: 0.9232 - balanced_precision: 0.9131 - balanced_f1_score: 0.9181 - val_loss: 0.4780 - val_accuracy: 0.9091 - val_balanced_recall: 0.8854 - val_balanced_precision: 0.8854 - val_balanced_f1_score: 0.8854\n",
      "Epoch 9/50\n",
      "2/2 [==============================] - 7s 4s/step - loss: 0.4675 - accuracy: 0.8800 - balanced_recall: 0.8987 - balanced_precision: 0.9125 - balanced_f1_score: 0.9055 - val_loss: 0.4564 - val_accuracy: 0.9545 - val_balanced_recall: 0.9167 - val_balanced_precision: 0.9706 - val_balanced_f1_score: 0.9429\n",
      "Epoch 10/50\n",
      "2/2 [==============================] - 7s 4s/step - loss: 0.4154 - accuracy: 0.8600 - balanced_recall: 0.8867 - balanced_precision: 0.8417 - balanced_f1_score: 0.8635 - val_loss: 0.4332 - val_accuracy: 0.9545 - val_balanced_recall: 0.9167 - val_balanced_precision: 0.9706 - val_balanced_f1_score: 0.9429\n",
      "Epoch 11/50\n",
      "2/2 [==============================] - 7s 4s/step - loss: 0.4053 - accuracy: 0.9400 - balanced_recall: 0.9433 - balanced_precision: 0.9405 - balanced_f1_score: 0.9419 - val_loss: 0.4189 - val_accuracy: 0.9545 - val_balanced_recall: 0.9167 - val_balanced_precision: 0.9706 - val_balanced_f1_score: 0.9429\n",
      "Epoch 12/50\n",
      "2/2 [==============================] - 7s 4s/step - loss: 0.3720 - accuracy: 0.9000 - balanced_recall: 0.9125 - balanced_precision: 0.9040 - balanced_f1_score: 0.9082 - val_loss: 0.4082 - val_accuracy: 0.9545 - val_balanced_recall: 0.9167 - val_balanced_precision: 0.9706 - val_balanced_f1_score: 0.9429\n",
      "Epoch 13/50\n",
      "2/2 [==============================] - 8s 5s/step - loss: 0.3595 - accuracy: 0.9400 - balanced_recall: 0.9474 - balanced_precision: 0.9325 - balanced_f1_score: 0.9399 - val_loss: 0.3988 - val_accuracy: 0.9545 - val_balanced_recall: 0.9167 - val_balanced_precision: 0.9706 - val_balanced_f1_score: 0.9429\n",
      "Epoch 14/50\n",
      "2/2 [==============================] - 7s 4s/step - loss: 0.3062 - accuracy: 0.9800 - balanced_recall: 0.9688 - balanced_precision: 0.9773 - balanced_f1_score: 0.9730 - val_loss: 0.3841 - val_accuracy: 0.9545 - val_balanced_recall: 0.9167 - val_balanced_precision: 0.9706 - val_balanced_f1_score: 0.9429\n",
      "Epoch 15/50\n",
      "2/2 [==============================] - 7s 4s/step - loss: 0.3142 - accuracy: 0.9200 - balanced_recall: 0.9219 - balanced_precision: 0.9312 - balanced_f1_score: 0.9265 - val_loss: 0.3691 - val_accuracy: 0.9545 - val_balanced_recall: 0.9167 - val_balanced_precision: 0.9706 - val_balanced_f1_score: 0.9429\n",
      "Epoch 16/50\n",
      "2/2 [==============================] - 7s 4s/step - loss: 0.2985 - accuracy: 0.9400 - balanced_recall: 0.9504 - balanced_precision: 0.9545 - balanced_f1_score: 0.9524 - val_loss: 0.3564 - val_accuracy: 0.9545 - val_balanced_recall: 0.9167 - val_balanced_precision: 0.9706 - val_balanced_f1_score: 0.9429\n",
      "Epoch 17/50\n",
      "2/2 [==============================] - 7s 4s/step - loss: 0.2609 - accuracy: 1.0000 - balanced_recall: 1.0000 - balanced_precision: 1.0000 - balanced_f1_score: 1.0000 - val_loss: 0.3462 - val_accuracy: 0.9545 - val_balanced_recall: 0.9167 - val_balanced_precision: 0.9706 - val_balanced_f1_score: 0.9429\n",
      "Epoch 18/50\n",
      "2/2 [==============================] - 7s 4s/step - loss: 0.2574 - accuracy: 0.9600 - balanced_recall: 0.9531 - balanced_precision: 0.9626 - balanced_f1_score: 0.9578 - val_loss: 0.3375 - val_accuracy: 0.9545 - val_balanced_recall: 0.9167 - val_balanced_precision: 0.9706 - val_balanced_f1_score: 0.9429\n",
      "Epoch 19/50\n",
      "2/2 [==============================] - 7s 4s/step - loss: 0.2568 - accuracy: 0.9400 - balanced_recall: 0.9520 - balanced_precision: 0.9544 - balanced_f1_score: 0.9532 - val_loss: 0.3298 - val_accuracy: 0.9545 - val_balanced_recall: 0.9167 - val_balanced_precision: 0.9706 - val_balanced_f1_score: 0.9429\n",
      "Epoch 20/50\n",
      "2/2 [==============================] - 7s 4s/step - loss: 0.2507 - accuracy: 0.9800 - balanced_recall: 0.9688 - balanced_precision: 0.9773 - balanced_f1_score: 0.9730 - val_loss: 0.3224 - val_accuracy: 0.9545 - val_balanced_recall: 0.9167 - val_balanced_precision: 0.9706 - val_balanced_f1_score: 0.9429\n",
      "Epoch 21/50\n",
      "2/2 [==============================] - 7s 4s/step - loss: 0.2275 - accuracy: 0.9600 - balanced_recall: 0.9683 - balanced_precision: 0.9683 - balanced_f1_score: 0.9683 - val_loss: 0.3153 - val_accuracy: 0.9545 - val_balanced_recall: 0.9167 - val_balanced_precision: 0.9706 - val_balanced_f1_score: 0.9429\n",
      "Epoch 22/50\n",
      "2/2 [==============================] - 8s 5s/step - loss: 0.2414 - accuracy: 0.9800 - balanced_recall: 0.9722 - balanced_precision: 0.9750 - balanced_f1_score: 0.9736 - val_loss: 0.3081 - val_accuracy: 0.9545 - val_balanced_recall: 0.9167 - val_balanced_precision: 0.9706 - val_balanced_f1_score: 0.9429\n",
      "Epoch 23/50\n",
      "2/2 [==============================] - 7s 4s/step - loss: 0.2073 - accuracy: 0.9800 - balanced_recall: 0.9833 - balanced_precision: 0.9861 - balanced_f1_score: 0.9847 - val_loss: 0.3023 - val_accuracy: 0.9545 - val_balanced_recall: 0.9167 - val_balanced_precision: 0.9706 - val_balanced_f1_score: 0.9429\n",
      "Epoch 24/50\n",
      "2/2 [==============================] - 8s 5s/step - loss: 0.2355 - accuracy: 0.9400 - balanced_recall: 0.9520 - balanced_precision: 0.9544 - balanced_f1_score: 0.9532 - val_loss: 0.2975 - val_accuracy: 0.9545 - val_balanced_recall: 0.9167 - val_balanced_precision: 0.9706 - val_balanced_f1_score: 0.9429\n",
      "Epoch 25/50\n",
      "2/2 [==============================] - 7s 4s/step - loss: 0.2164 - accuracy: 0.9600 - balanced_recall: 0.9556 - balanced_precision: 0.9611 - balanced_f1_score: 0.9583 - val_loss: 0.2928 - val_accuracy: 0.9545 - val_balanced_recall: 0.9167 - val_balanced_precision: 0.9706 - val_balanced_f1_score: 0.9429\n",
      "Epoch 26/50\n",
      "2/2 [==============================] - 7s 4s/step - loss: 0.2091 - accuracy: 0.9800 - balanced_recall: 0.9833 - balanced_precision: 0.9861 - balanced_f1_score: 0.9847 - val_loss: 0.2873 - val_accuracy: 0.9545 - val_balanced_recall: 0.9167 - val_balanced_precision: 0.9706 - val_balanced_f1_score: 0.9429\n",
      "Epoch 27/50\n",
      "2/2 [==============================] - 7s 4s/step - loss: 0.2026 - accuracy: 0.9400 - balanced_recall: 0.9479 - balanced_precision: 0.9393 - balanced_f1_score: 0.9436 - val_loss: 0.2817 - val_accuracy: 0.9545 - val_balanced_recall: 0.9167 - val_balanced_precision: 0.9706 - val_balanced_f1_score: 0.9429\n",
      "Epoch 28/50\n",
      "2/2 [==============================] - 7s 4s/step - loss: 0.1953 - accuracy: 0.9600 - balanced_recall: 0.9683 - balanced_precision: 0.9683 - balanced_f1_score: 0.9683 - val_loss: 0.2750 - val_accuracy: 0.9545 - val_balanced_recall: 0.9167 - val_balanced_precision: 0.9706 - val_balanced_f1_score: 0.9429\n",
      "Epoch 29/50\n",
      "2/2 [==============================] - 7s 4s/step - loss: 0.1587 - accuracy: 1.0000 - balanced_recall: 1.0000 - balanced_precision: 1.0000 - balanced_f1_score: 1.0000 - val_loss: 0.2682 - val_accuracy: 0.9545 - val_balanced_recall: 0.9167 - val_balanced_precision: 0.9706 - val_balanced_f1_score: 0.9429\n",
      "Epoch 30/50\n",
      "2/2 [==============================] - 7s 4s/step - loss: 0.1755 - accuracy: 0.9600 - balanced_recall: 0.9556 - balanced_precision: 0.9611 - balanced_f1_score: 0.9583 - val_loss: 0.2639 - val_accuracy: 0.9545 - val_balanced_recall: 0.9167 - val_balanced_precision: 0.9706 - val_balanced_f1_score: 0.9429\n",
      "Epoch 31/50\n",
      "2/2 [==============================] - 7s 4s/step - loss: 0.1588 - accuracy: 0.9600 - balanced_recall: 0.9375 - balanced_precision: 0.9583 - balanced_f1_score: 0.9477 - val_loss: 0.2603 - val_accuracy: 0.9545 - val_balanced_recall: 0.9167 - val_balanced_precision: 0.9706 - val_balanced_f1_score: 0.9429\n",
      "Epoch 32/50\n",
      "2/2 [==============================] - 7s 4s/step - loss: 0.1607 - accuracy: 1.0000 - balanced_recall: 1.0000 - balanced_precision: 1.0000 - balanced_f1_score: 1.0000 - val_loss: 0.2578 - val_accuracy: 0.9545 - val_balanced_recall: 0.9167 - val_balanced_precision: 0.9706 - val_balanced_f1_score: 0.9429\n",
      "Epoch 33/50\n",
      "2/2 [==============================] - 7s 4s/step - loss: 0.1486 - accuracy: 0.9800 - balanced_recall: 0.9853 - balanced_precision: 0.9844 - balanced_f1_score: 0.9848 - val_loss: 0.2547 - val_accuracy: 0.9545 - val_balanced_recall: 0.9167 - val_balanced_precision: 0.9706 - val_balanced_f1_score: 0.9429\n",
      "Epoch 34/50\n",
      "2/2 [==============================] - 7s 4s/step - loss: 0.1511 - accuracy: 1.0000 - balanced_recall: 1.0000 - balanced_precision: 1.0000 - balanced_f1_score: 1.0000 - val_loss: 0.2508 - val_accuracy: 0.9545 - val_balanced_recall: 0.9167 - val_balanced_precision: 0.9706 - val_balanced_f1_score: 0.9429\n",
      "Epoch 35/50\n",
      "2/2 [==============================] - 7s 4s/step - loss: 0.1458 - accuracy: 1.0000 - balanced_recall: 1.0000 - balanced_precision: 1.0000 - balanced_f1_score: 1.0000 - val_loss: 0.2472 - val_accuracy: 0.9545 - val_balanced_recall: 0.9167 - val_balanced_precision: 0.9706 - val_balanced_f1_score: 0.9429\n",
      "Epoch 36/50\n",
      "2/2 [==============================] - 7s 4s/step - loss: 0.1471 - accuracy: 1.0000 - balanced_recall: 1.0000 - balanced_precision: 1.0000 - balanced_f1_score: 1.0000 - val_loss: 0.2440 - val_accuracy: 0.9545 - val_balanced_recall: 0.9167 - val_balanced_precision: 0.9706 - val_balanced_f1_score: 0.9429\n",
      "Epoch 37/50\n",
      "2/2 [==============================] - 7s 4s/step - loss: 0.1614 - accuracy: 0.9800 - balanced_recall: 0.9833 - balanced_precision: 0.9861 - balanced_f1_score: 0.9847 - val_loss: 0.2405 - val_accuracy: 0.9545 - val_balanced_recall: 0.9167 - val_balanced_precision: 0.9706 - val_balanced_f1_score: 0.9429\n",
      "Epoch 38/50\n",
      "2/2 [==============================] - 7s 4s/step - loss: 0.1298 - accuracy: 1.0000 - balanced_recall: 1.0000 - balanced_precision: 1.0000 - balanced_f1_score: 1.0000 - val_loss: 0.2370 - val_accuracy: 0.9545 - val_balanced_recall: 0.9167 - val_balanced_precision: 0.9706 - val_balanced_f1_score: 0.9429\n",
      "Epoch 39/50\n",
      "2/2 [==============================] - 7s 4s/step - loss: 0.1392 - accuracy: 1.0000 - balanced_recall: 1.0000 - balanced_precision: 1.0000 - balanced_f1_score: 1.0000 - val_loss: 0.2340 - val_accuracy: 0.9545 - val_balanced_recall: 0.9167 - val_balanced_precision: 0.9706 - val_balanced_f1_score: 0.9429\n",
      "Epoch 40/50\n",
      "2/2 [==============================] - 7s 4s/step - loss: 0.1216 - accuracy: 1.0000 - balanced_recall: 1.0000 - balanced_precision: 1.0000 - balanced_f1_score: 1.0000 - val_loss: 0.2312 - val_accuracy: 0.9545 - val_balanced_recall: 0.9167 - val_balanced_precision: 0.9706 - val_balanced_f1_score: 0.9429\n",
      "Epoch 41/50\n",
      "2/2 [==============================] - 7s 4s/step - loss: 0.1278 - accuracy: 1.0000 - balanced_recall: 1.0000 - balanced_precision: 1.0000 - balanced_f1_score: 1.0000 - val_loss: 0.2286 - val_accuracy: 0.9545 - val_balanced_recall: 0.9167 - val_balanced_precision: 0.9706 - val_balanced_f1_score: 0.9429\n",
      "Epoch 42/50\n",
      "2/2 [==============================] - 7s 4s/step - loss: 0.1341 - accuracy: 0.9800 - balanced_recall: 0.9844 - balanced_precision: 0.9853 - balanced_f1_score: 0.9848 - val_loss: 0.2261 - val_accuracy: 0.9545 - val_balanced_recall: 0.9167 - val_balanced_precision: 0.9706 - val_balanced_f1_score: 0.9429\n",
      "Epoch 43/50\n",
      "2/2 [==============================] - 7s 4s/step - loss: 0.1303 - accuracy: 1.0000 - balanced_recall: 1.0000 - balanced_precision: 1.0000 - balanced_f1_score: 1.0000 - val_loss: 0.2231 - val_accuracy: 0.9545 - val_balanced_recall: 0.9167 - val_balanced_precision: 0.9706 - val_balanced_f1_score: 0.9429\n",
      "Epoch 44/50\n",
      "2/2 [==============================] - 7s 4s/step - loss: 0.1029 - accuracy: 1.0000 - balanced_recall: 1.0000 - balanced_precision: 1.0000 - balanced_f1_score: 1.0000 - val_loss: 0.2212 - val_accuracy: 0.9545 - val_balanced_recall: 0.9167 - val_balanced_precision: 0.9706 - val_balanced_f1_score: 0.9429\n",
      "Epoch 45/50\n",
      "2/2 [==============================] - 7s 4s/step - loss: 0.1184 - accuracy: 1.0000 - balanced_recall: 1.0000 - balanced_precision: 1.0000 - balanced_f1_score: 1.0000 - val_loss: 0.2187 - val_accuracy: 0.9545 - val_balanced_recall: 0.9167 - val_balanced_precision: 0.9706 - val_balanced_f1_score: 0.9429\n",
      "Epoch 46/50\n",
      "2/2 [==============================] - 7s 4s/step - loss: 0.1076 - accuracy: 1.0000 - balanced_recall: 1.0000 - balanced_precision: 1.0000 - balanced_f1_score: 1.0000 - val_loss: 0.2166 - val_accuracy: 0.9545 - val_balanced_recall: 0.9167 - val_balanced_precision: 0.9706 - val_balanced_f1_score: 0.9429\n",
      "Epoch 47/50\n",
      "2/2 [==============================] - 7s 4s/step - loss: 0.1166 - accuracy: 0.9800 - balanced_recall: 0.9773 - balanced_precision: 0.9688 - balanced_f1_score: 0.9730 - val_loss: 0.2147 - val_accuracy: 0.9545 - val_balanced_recall: 0.9167 - val_balanced_precision: 0.9706 - val_balanced_f1_score: 0.9429\n",
      "Epoch 48/50\n",
      "2/2 [==============================] - 7s 4s/step - loss: 0.0961 - accuracy: 1.0000 - balanced_recall: 1.0000 - balanced_precision: 1.0000 - balanced_f1_score: 1.0000 - val_loss: 0.2136 - val_accuracy: 0.9545 - val_balanced_recall: 0.9167 - val_balanced_precision: 0.9706 - val_balanced_f1_score: 0.9429\n",
      "Epoch 49/50\n",
      "2/2 [==============================] - 7s 4s/step - loss: 0.1162 - accuracy: 1.0000 - balanced_recall: 1.0000 - balanced_precision: 1.0000 - balanced_f1_score: 1.0000 - val_loss: 0.2130 - val_accuracy: 0.9545 - val_balanced_recall: 0.9167 - val_balanced_precision: 0.9706 - val_balanced_f1_score: 0.9429\n",
      "Epoch 50/50\n",
      "2/2 [==============================] - 7s 4s/step - loss: 0.1194 - accuracy: 1.0000 - balanced_recall: 1.0000 - balanced_precision: 1.0000 - balanced_f1_score: 1.0000 - val_loss: 0.2123 - val_accuracy: 0.9545 - val_balanced_recall: 0.9167 - val_balanced_precision: 0.9706 - val_balanced_f1_score: 0.9429\n"
     ]
    }
   ],
   "source": [
    "#define number of epochs\n",
    "n_epochs = 50\n",
    "\n",
    "METRICS = [\n",
    "      tf.keras.metrics.CategoricalAccuracy(name=\"accuracy\"),\n",
    "      balanced_recall,\n",
    "      balanced_precision,\n",
    "      balanced_f1_score\n",
    "]\n",
    "\n",
    "#EarlyStopping callback to monitor validation loss\n",
    "#if metric doesn't improve for at least 3 epochs (patience = 3)\n",
    "    #training is interrupted and weights from epoch where the validation loss \n",
    "    #showed the best value (i.e. lowest) are restored (restore_best_weights = True)\n",
    "earlystop_callback = tf.keras.callbacks.EarlyStopping(monitor = \"val_loss\", \n",
    "                                                      patience = 3,\n",
    "                                                      restore_best_weights = True)\n",
    "#compile model\n",
    "model.compile(optimizer = \"adam\",\n",
    "              loss = \"categorical_crossentropy\",\n",
    "              metrics = METRICS)\n",
    "#fit model\n",
    "model_fit = model.fit(x_train, \n",
    "                      y_train, \n",
    "                      epochs = n_epochs,\n",
    "                      validation_data = (x_test, y_test),\n",
    "                      callbacks = [earlystop_callback], verbose=1)"
   ]
  },
  {
   "cell_type": "markdown",
   "id": "44a663dd-86d6-41e5-b8e7-e28cb40a55ec",
   "metadata": {},
   "source": [
    "### Plot Results"
   ]
  },
  {
   "cell_type": "code",
   "execution_count": 19,
   "id": "2751eb93-d44c-40bd-a287-f3362889926c",
   "metadata": {},
   "outputs": [
    {
     "data": {
      "image/png": "[encoded data removed]",
      "text/plain": [
       "<Figure size 3000x500 with 5 Axes>"
      ]
     },
     "metadata": {},
     "output_type": "display_data"
    }
   ],
   "source": [
    "x = list(range(1, n_epochs+1))\n",
    "metric_list = list(model_fit.history.keys())\n",
    "num_metrics = int(len(metric_list)/2)\n",
    "\n",
    "fig, ax = plt.subplots(nrows=1, ncols=num_metrics, figsize=(30, 5))\n",
    "\n",
    "for i in range(0, num_metrics):\n",
    "  ax[i].plot(x, model_fit.history[metric_list[i]], marker=\"o\", label=metric_list[i].replace(\"_\", \" \"))\n",
    "  ax[i].plot(x, model_fit.history[metric_list[i+num_metrics]], marker=\"o\", label=metric_list[i+num_metrics].replace(\"_\", \" \"))\n",
    "  ax[i].set_xlabel(\"epochs\",fontsize=14)\n",
    "  ax[i].set_title(metric_list[i].replace(\"_\", \" \"),fontsize=20)\n",
    "  ax[i].legend(loc=\"lower left\")"
   ]
  },
  {
   "cell_type": "markdown",
   "id": "65b81c13-81a9-4001-aa38-8bad410380a8",
   "metadata": {},
   "source": [
    "### Next Steps: \n",
    "- Add address/phone number variables\n",
    "- Combine with image model in Functional API\n",
    "- Make Predictions "
   ]
  }
 ],
 "metadata": {
  "kernelspec": {
   "display_name": "Python 3 (ipykernel)",
   "language": "python",
   "name": "python3"
  },
  "language_info": {
   "codemirror_mode": {
    "name": "ipython",
    "version": 3
   },
   "file_extension": ".py",
   "mimetype": "text/x-python",
   "name": "python",
   "nbconvert_exporter": "python",
   "pygments_lexer": "ipython3",
   "version": "3.9.7"
  }
 },
 "nbformat": 4,
 "nbformat_minor": 5
}
