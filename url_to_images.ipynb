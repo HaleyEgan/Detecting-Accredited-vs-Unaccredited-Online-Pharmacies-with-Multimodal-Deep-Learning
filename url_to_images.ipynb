{
 "cells": [
  {
   "cell_type": "code",
   "execution_count": 1,
   "id": "941f0f3e-800a-4673-9838-438435b5760a",
   "metadata": {},
   "outputs": [],
   "source": [
    "import pandas as pd \n",
    "import numpy as np\n",
    "import os \n",
    "import requests as rq\n",
    "import urllib\n",
    "import cv2"
   ]
  },
  {
   "cell_type": "code",
   "execution_count": 2,
   "id": "c8d86347-70bb-4a2f-a4f4-36275dc44c3d",
   "metadata": {},
   "outputs": [
    {
     "data": {
      "text/plain": [
       "'C:\\\\Users\\\\tulsi\\\\OneDrive\\\\Documents\\\\UVA MSDS\\\\Fall 2022\\\\DS 6050\\\\project\\\\github2\\\\project materials'"
      ]
     },
     "execution_count": 2,
     "metadata": {},
     "output_type": "execute_result"
    }
   ],
   "source": [
    "os.getcwd()"
   ]
  },
  {
   "cell_type": "code",
   "execution_count": 3,
   "id": "dc1f7015-3cb8-4a3a-b777-72a104c4d0f3",
   "metadata": {
    "tags": []
   },
   "outputs": [],
   "source": [
    "acc_df = pd.read_csv('accredited_images.csv')\n",
    "unacc_df = pd.read_csv('unaccredited_images.csv')"
   ]
  },
  {
   "cell_type": "code",
   "execution_count": 4,
   "id": "88c5c617-6467-421f-a959-ac98a59b128e",
   "metadata": {},
   "outputs": [
    {
     "data": {
      "text/html": [
       "<div>\n",
       "<style scoped>\n",
       "    .dataframe tbody tr th:only-of-type {\n",
       "        vertical-align: middle;\n",
       "    }\n",
       "\n",
       "    .dataframe tbody tr th {\n",
       "        vertical-align: top;\n",
       "    }\n",
       "\n",
       "    .dataframe thead th {\n",
       "        text-align: right;\n",
       "    }\n",
       "</style>\n",
       "<table border=\"1\" class=\"dataframe\">\n",
       "  <thead>\n",
       "    <tr style=\"text-align: right;\">\n",
       "      <th></th>\n",
       "      <th>Unnamed: 0</th>\n",
       "      <th>image_urls</th>\n",
       "    </tr>\n",
       "  </thead>\n",
       "  <tbody>\n",
       "    <tr>\n",
       "      <th>0</th>\n",
       "      <td>0</td>\n",
       "      <td>https://acariahealth.envolvehealth.com/content...</td>\n",
       "    </tr>\n",
       "    <tr>\n",
       "      <th>1</th>\n",
       "      <td>1</td>\n",
       "      <td>https://acariahealth.envolvehealth.com/content...</td>\n",
       "    </tr>\n",
       "    <tr>\n",
       "      <th>2</th>\n",
       "      <td>2</td>\n",
       "      <td>https://acariahealth.envolvehealth.com/content...</td>\n",
       "    </tr>\n",
       "    <tr>\n",
       "      <th>3</th>\n",
       "      <td>3</td>\n",
       "      <td>https://acariahealth.envolvehealth.com/content...</td>\n",
       "    </tr>\n",
       "    <tr>\n",
       "      <th>4</th>\n",
       "      <td>4</td>\n",
       "      <td>https://acariahealth.envolvehealth.com/content...</td>\n",
       "    </tr>\n",
       "  </tbody>\n",
       "</table>\n",
       "</div>"
      ],
      "text/plain": [
       "   Unnamed: 0                                         image_urls\n",
       "0           0  https://acariahealth.envolvehealth.com/content...\n",
       "1           1  https://acariahealth.envolvehealth.com/content...\n",
       "2           2  https://acariahealth.envolvehealth.com/content...\n",
       "3           3  https://acariahealth.envolvehealth.com/content...\n",
       "4           4  https://acariahealth.envolvehealth.com/content..."
      ]
     },
     "execution_count": 4,
     "metadata": {},
     "output_type": "execute_result"
    }
   ],
   "source": [
    "acc_df.head()"
   ]
  },
  {
   "cell_type": "code",
   "execution_count": 5,
   "id": "60c51493-7861-4579-bd77-5ba71c129a45",
   "metadata": {},
   "outputs": [
    {
     "data": {
      "text/html": [
       "<div>\n",
       "<style scoped>\n",
       "    .dataframe tbody tr th:only-of-type {\n",
       "        vertical-align: middle;\n",
       "    }\n",
       "\n",
       "    .dataframe tbody tr th {\n",
       "        vertical-align: top;\n",
       "    }\n",
       "\n",
       "    .dataframe thead th {\n",
       "        text-align: right;\n",
       "    }\n",
       "</style>\n",
       "<table border=\"1\" class=\"dataframe\">\n",
       "  <thead>\n",
       "    <tr style=\"text-align: right;\">\n",
       "      <th></th>\n",
       "      <th>Unnamed: 0</th>\n",
       "      <th>image_urls</th>\n",
       "    </tr>\n",
       "  </thead>\n",
       "  <tbody>\n",
       "    <tr>\n",
       "      <th>0</th>\n",
       "      <td>0</td>\n",
       "      <td>https://static.wixstatic.com/media/3e04e6_80c2...</td>\n",
       "    </tr>\n",
       "    <tr>\n",
       "      <th>1</th>\n",
       "      <td>1</td>\n",
       "      <td>https://static.wixstatic.com/media/3e04e6_f842...</td>\n",
       "    </tr>\n",
       "    <tr>\n",
       "      <th>2</th>\n",
       "      <td>2</td>\n",
       "      <td>https://static.wixstatic.com/media/3e04e6_d015...</td>\n",
       "    </tr>\n",
       "    <tr>\n",
       "      <th>3</th>\n",
       "      <td>3</td>\n",
       "      <td>https://static.wixstatic.com/media/3e04e6_732c...</td>\n",
       "    </tr>\n",
       "    <tr>\n",
       "      <th>4</th>\n",
       "      <td>4</td>\n",
       "      <td>https://static.wixstatic.com/media/40120c_f196...</td>\n",
       "    </tr>\n",
       "  </tbody>\n",
       "</table>\n",
       "</div>"
      ],
      "text/plain": [
       "   Unnamed: 0                                         image_urls\n",
       "0           0  https://static.wixstatic.com/media/3e04e6_80c2...\n",
       "1           1  https://static.wixstatic.com/media/3e04e6_f842...\n",
       "2           2  https://static.wixstatic.com/media/3e04e6_d015...\n",
       "3           3  https://static.wixstatic.com/media/3e04e6_732c...\n",
       "4           4  https://static.wixstatic.com/media/40120c_f196..."
      ]
     },
     "execution_count": 5,
     "metadata": {},
     "output_type": "execute_result"
    }
   ],
   "source": [
    "unacc_df.head()"
   ]
  },
  {
   "cell_type": "code",
   "execution_count": 6,
   "id": "f94ea9c7-93d2-49c9-8cc9-31a01de50d87",
   "metadata": {},
   "outputs": [],
   "source": [
    "acc_img = acc_df['image_urls'].tolist()\n",
    "unacc_img = unacc_df['image_urls'].tolist()"
   ]
  },
  {
   "cell_type": "code",
   "execution_count": 43,
   "id": "e1483985-0b40-49da-96db-8bb91feddcae",
   "metadata": {},
   "outputs": [],
   "source": [
    "# acc_img"
   ]
  },
  {
   "cell_type": "markdown",
   "id": "e71ab699-cc39-445d-a7f0-2f2321370496",
   "metadata": {},
   "source": [
    "Sort acc & unacc images by file type (for now). There's a way to extract all images types in one method but figuring that out still "
   ]
  },
  {
   "cell_type": "code",
   "execution_count": 23,
   "id": "915894bd-a388-4f59-af9f-fd8b93b64bc0",
   "metadata": {},
   "outputs": [],
   "source": [
    "acc_jpg = [x for x in acc_df['image_urls'] if x.endswith('.jpg')]\n",
    "acc_png = [x for x in acc_df['image_urls'] if x.endswith('.png')]\n",
    "unacc_jpg = [x for x in unacc_df['image_urls'] if x.endswith('.jpg')]\n",
    "unacc_png = [x for x in unacc_df['image_urls'] if x.endswith('.png')]"
   ]
  },
  {
   "cell_type": "code",
   "execution_count": 30,
   "id": "5853647a-e949-4f6b-baca-cf0b0a6ae491",
   "metadata": {},
   "outputs": [],
   "source": [
    "test_jpg = ['https://acariahealth.envolvehealth.com/content/dam/centene/envolve-pharmacy-solutions/images/AcariaHealth-Home-Banner_2016.jpg',\n",
    " 'https://acariahealth.envolvehealth.com/content/dam/centene/envolve-pharmacy-solutions/images/HomepagePhotos/AcariaHealth-Patients-and-Caregivers.jpg',\n",
    " 'https://acariahealth.envolvehealth.com/content/dam/centene/envolve-pharmacy-solutions/images/HomepagePhotos/AcariaHealth-Healthcare-Specialists.jpg',\n",
    " 'https://acariahealth.envolvehealth.com/content/dam/centene/envolve-pharmacy-solutions/images/HomepagePhotos/AcariaHealth-Health-Plans-and-Payers.jpg',\n",
    " 'https://acariahealth.envolvehealth.com/content/dam/centene/envolve-pharmacy-solutions/images/HomepagePhotos/AcariaHealth-Pharma.jpg',\n",
    " 'https://acariahealth.envolvehealth.com/content/dam/centene/envolve-pharmacy-solutions/images/accreditation-seals/ACHC%20Gold%20Seal%20of%20Accreditation_2018-CMYK.jpg']\n",
    "\n",
    "test_png = ['https://www.centerwellpharmacy.com/on/demandware.static/-/Library-Sites-CenterwellSharedLibrary/default/dw6bc416f6/en_generic_rgb_wo_45.png',\n",
    " 'https://www.carolinacarerx.org/Images/Atrium_mini_logo.png',\n",
    " 'https://www.carolinacarerx.org/Images/MyAtriumHealth.png',\n",
    " 'https://www.carolinacarerx.org/Images/AtriumFooterTree.png',\n",
    " 'https://www.carolinacarerx.org/Images/URAC_Seal-120.png',\n",
    " 'https://www.carolinacarerx.org/Images/ACHC_Seal-120.png',\n",
    " 'https://www.carolinacarerx.org/Images/NABP_logo_120.png',\n",
    " 'https://openbadges.blob.core.windows.net/bakedbadges-us/f279c890-aa1f-43bc-822d-c78c619a148e-d9cbf0fb-4869-44ed-97d9-79f3d40440dd.png']"
   ]
  },
  {
   "cell_type": "code",
   "execution_count": 12,
   "id": "594e9e10-4c79-4d02-817a-1f985ce62853",
   "metadata": {},
   "outputs": [
    {
     "name": "stdout",
     "output_type": "stream",
     "text": [
      "None\n",
      "Directory created\n"
     ]
    }
   ],
   "source": [
    "## create directory & folders for images\n",
    "\n",
    "## ONLY RUN ONCE\n",
    "\n",
    "try: \n",
    "    os.mkdir('images')\n",
    "    os.chdir('images')\n",
    "    \n",
    "    os.mkdir('accredited')\n",
    "    os.chdir('accredited')\n",
    "\n",
    "    path = os.getcwd()\n",
    "    parent = os.path.dirname(path)\n",
    "    new_path = os.chdir(parent)\n",
    "    print(new_path)\n",
    "    \n",
    "    os.mkdir('unaccredited')\n",
    "    print('Directory created')\n",
    "    \n",
    "except:\n",
    "    \n",
    "    pass"
   ]
  },
  {
   "cell_type": "code",
   "execution_count": 51,
   "id": "4d89ce19-d3f6-4e9d-8f23-a74c0010d720",
   "metadata": {},
   "outputs": [],
   "source": [
    "# os.getcwd()"
   ]
  },
  {
   "cell_type": "code",
   "execution_count": 14,
   "id": "343a33f9-2113-4745-ac3f-18751c46048c",
   "metadata": {},
   "outputs": [],
   "source": [
    "acc_path = './accredited/'\n",
    "unacc_path = './unaccredited'   "
   ]
  },
  {
   "cell_type": "code",
   "execution_count": 52,
   "id": "01ac5b01-1601-479b-9272-2b47355329d5",
   "metadata": {},
   "outputs": [],
   "source": [
    "icount=1\n",
    "for u in test_jpg:\n",
    "    urllib.request.urlretrieve(u, f'accredited_{str(icount)}.jpg')\n",
    "    icount += 1"
   ]
  },
  {
   "cell_type": "code",
   "execution_count": 53,
   "id": "720d3fbb-131e-46e5-a963-753d1dc398dd",
   "metadata": {},
   "outputs": [],
   "source": [
    "for u in test_png:\n",
    "    urllib.request.urlretrieve(u, f'accredited_{str(icount)}.png')\n",
    "    icount += 1"
   ]
  },
  {
   "cell_type": "markdown",
   "id": "3d99a0b1-9a71-4cc9-83ec-7f3055f03d91",
   "metadata": {},
   "source": [
    "** If you check the folders, you should have 14 images in the accredited folder"
   ]
  }
 ],
 "metadata": {
  "kernelspec": {
   "display_name": "Python 3 (ipykernel)",
   "language": "python",
   "name": "python3"
  },
  "language_info": {
   "codemirror_mode": {
    "name": "ipython",
    "version": 3
   },
   "file_extension": ".py",
   "mimetype": "text/x-python",
   "name": "python",
   "nbconvert_exporter": "python",
   "pygments_lexer": "ipython3",
   "version": "3.8.5"
  }
 },
 "nbformat": 4,
 "nbformat_minor": 5
}
