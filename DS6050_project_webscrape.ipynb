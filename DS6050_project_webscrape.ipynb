{
 "cells": [
  {
   "cell_type": "markdown",
   "metadata": {
    "id": "jqWNV7oPyJOo"
   },
   "source": [
    "IMPORTS"
   ]
  },
  {
   "cell_type": "code",
   "execution_count": 4,
   "metadata": {
    "id": "H0qoFCMlx1z4"
   },
   "outputs": [],
   "source": [
    "import pandas as pd\n",
    "import numpy as np\n",
    "import requests\n",
    "from bs4 import BeautifulSoup\n",
    "from urllib.request import urlopen"
   ]
  },
  {
   "cell_type": "markdown",
   "metadata": {
    "id": "-pV_kmSwyhf-"
   },
   "source": [
    "GET LICENSE"
   ]
  },
  {
   "cell_type": "code",
   "execution_count": 14,
   "metadata": {
    "id": "ugQhIF-oygPW"
   },
   "outputs": [],
   "source": [
    "url = \"http://www.amberpharmacy.com\"\n",
    "#'https://acariahealth.envolvehealth.com/'\n",
    "#'https://nabp.pharmacy/programs/accreditations-inspections/digital-pharmacy/accredited-digital-pharmacies/'\n",
    "headers = {'user-agent': 'ds6050 (fdf7gn@virginia.edu)'}\n",
    "r = requests.get((url) , headers=headers)\n",
    "soup = BeautifulSoup(r.text, 'html')"
   ]
  },
  {
   "cell_type": "code",
   "execution_count": 15,
   "metadata": {
    "colab": {
     "base_uri": "https://localhost:8080/"
    },
    "id": "Z_RcNBUCQgpw",
    "outputId": "979366de-886a-4dfa-a444-98d6ecadebbb"
   },
   "outputs": [
    {
     "data": {
      "text/plain": [
       "<Response [403]>"
      ]
     },
     "execution_count": 15,
     "metadata": {},
     "output_type": "execute_result"
    }
   ],
   "source": [
    "r"
   ]
  },
  {
   "cell_type": "code",
   "execution_count": 16,
   "metadata": {
    "colab": {
     "base_uri": "https://localhost:8080/"
    },
    "id": "SenOVavgRJbX",
    "outputId": "05bf0ada-4a8d-48e3-e4d1-37b1131ca10c"
   },
   "outputs": [
    {
     "data": {
      "text/plain": [
       "[<img alt=\"External link\" class=\"external-link\" src=\"/cdn-cgi/images/external.png\" title=\"Opens in new tab\"/>,\n",
       " <img alt=\"External link\" class=\"external-link\" src=\"/cdn-cgi/images/external.png\" title=\"Opens in new tab\"/>]"
      ]
     },
     "execution_count": 16,
     "metadata": {},
     "output_type": "execute_result"
    }
   ],
   "source": [
    "img = soup.find_all(\"img\") #soup.find_all(\"a\", attrs={\"src\":\"https://openbadges.blob.core.windows.net/bakedbadges-us/\"})\n",
    "img"
   ]
  },
  {
   "cell_type": "code",
   "execution_count": 17,
   "metadata": {
    "colab": {
     "base_uri": "https://localhost:8080/"
    },
    "id": "5NYqIM2pJdie",
    "outputId": "d0d56b2d-40e9-4c4d-dcca-ea43c9940087"
   },
   "outputs": [
    {
     "data": {
      "text/plain": [
       "[]"
      ]
     },
     "execution_count": 17,
     "metadata": {},
     "output_type": "execute_result"
    }
   ],
   "source": [
    "badge = [i['src'] for i in img if i['src'].startswith('https://openbadges')]\n",
    "badge"
   ]
  },
  {
   "cell_type": "code",
   "execution_count": 5,
   "metadata": {
    "id": "YAhP1nzpMpeF"
   },
   "outputs": [],
   "source": [
    "urlLinks = [\"https://alphascriptrx.com/\", \"https://acariahealth.envolvehealth.com/\"] #, \"https://alto.com\", \"https://www.amberpharmacy.com\"]"
   ]
  },
  {
   "cell_type": "code",
   "execution_count": 6,
   "metadata": {
    "id": "8Lw66jesLkUx"
   },
   "outputs": [],
   "source": [
    "def get_license(url):\n",
    "  headers = {'user-agent': 'ds6050 (fdf7gn@virginia.edu)'}\n",
    "  r = requests.get(url, headers=headers)\n",
    "  soup = BeautifulSoup(r.text, 'html')\n",
    "\n",
    "  img = soup.find_all(\"img\") #soup.find_all(\"a\", attrs={\"src\":\"https://openbadges.blob.core.windows.net/bakedbadges-us/\"})\n",
    "  badge = [i['src'] for i in img if i['src'].startswith('https://openbadges')]\n",
    "  return badge\n"
   ]
  },
  {
   "cell_type": "code",
   "execution_count": 7,
   "metadata": {
    "colab": {
     "base_uri": "https://localhost:8080/"
    },
    "id": "gaTMP5g0MKfo",
    "outputId": "1275f9af-3d1c-47fb-fee0-ac0f22b44267"
   },
   "outputs": [
    {
     "data": {
      "text/plain": [
       "[['https://openbadges.blob.core.windows.net/bakedbadges-us/f279c890-aa1f-43bc-822d-c78c619a148e-2fd08020-00fe-4dbc-8334-dcb2b4e7f941.png'],\n",
       " ['https://openbadges.blob.core.windows.net/bakedbadges-us/f279c890-aa1f-43bc-822d-c78c619a148e-bdb2e6a4-b512-4286-ad23-a2bba794eb59.png']]"
      ]
     },
     "execution_count": 7,
     "metadata": {},
     "output_type": "execute_result"
    }
   ],
   "source": [
    "license_list = []\n",
    "for u in urlLinks:\n",
    "  #print(url)\n",
    "  license = get_license(u)\n",
    "  license_list.append(license)\n",
    "license_list"
   ]
  },
  {
   "cell_type": "markdown",
   "metadata": {
    "id": "oVjU43niSYXJ"
   },
   "source": [
    "GET WEBSITE LINKS"
   ]
  },
  {
   "cell_type": "code",
   "execution_count": null,
   "metadata": {
    "colab": {
     "base_uri": "https://localhost:8080/"
    },
    "id": "zcHEiiA-XUSK",
    "outputId": "b9d2b138-a9bc-4177-c475-8a68669d3316"
   },
   "outputs": [
    {
     "data": {
      "text/plain": [
       "[]"
      ]
     },
     "execution_count": 49,
     "metadata": {},
     "output_type": "execute_result"
    }
   ],
   "source": [
    "table = soup.find_all(\"div\", \"container1\")\n",
    "table"
   ]
  },
  {
   "cell_type": "code",
   "execution_count": null,
   "metadata": {
    "id": "zKjO1zyqZQbA"
   },
   "outputs": [],
   "source": []
  },
  {
   "cell_type": "code",
   "execution_count": 8,
   "metadata": {
    "id": "dJzF260py-9q"
   },
   "outputs": [],
   "source": [
    "urlLinks = [\"https://alphascriptrx.com/\", \"https://acariahealth.envolvehealth.com/\"]\n",
    "#'https://nabp.pharmacy/programs/accreditations-inspections/digital-pharmacy/accredited-digital-pharmacies/'\n",
    "\n",
    "def myFunc(link):\n",
    "  r = requests.get(urlLinks)\n",
    "  #htmldata = urlopen(urlLinks)\n",
    "  soup = BeautifulSoup(r.text, 'html.parser')\n",
    "  images = soup.find_all('img')\n",
    "  print(images)\n",
    "\n",
    "  for item in images:\n",
    "    img_dict = {}\n",
    "    if i['src'].startswith('https://openbadges'):\n",
    "      link = print(item['src'])\n",
    "    img_dict.append(link)\n",
    "  return img_dict"
   ]
  },
  {
   "cell_type": "code",
   "execution_count": null,
   "metadata": {
    "id": "uIqwpMXLp1TB"
   },
   "outputs": [],
   "source": [
    "\n",
    "mainDF = pd.DataFrame()\n",
    "\n",
    "for item in urlLinks:\n",
    "  dictObj = myFunc(item)\n",
    "  dfObject = pd.DataFrame(dictObject)\n",
    "  mainDataFrame.append(dfObject)\n"
   ]
  }
 ],
 "metadata": {
  "colab": {
   "provenance": []
  },
  "kernelspec": {
   "display_name": "Python 3 (ipykernel)",
   "language": "python",
   "name": "python3"
  },
  "language_info": {
   "codemirror_mode": {
    "name": "ipython",
    "version": 3
   },
   "file_extension": ".py",
   "mimetype": "text/x-python",
   "name": "python",
   "nbconvert_exporter": "python",
   "pygments_lexer": "ipython3",
   "version": "3.9.12"
  }
 },
 "nbformat": 4,
 "nbformat_minor": 4
}
